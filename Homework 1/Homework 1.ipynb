{
 "cells": [
  {
   "cell_type": "markdown",
   "metadata": {},
   "source": [
    "**Process:**\n",
    "* Load and check data\n",
    "* Data preprocess (2 datasets)\n",
    "* Answer each question (7 in total)\n",
    " \n",
    "**Notations:**\n",
    "\n",
    "*stock.sas7bdat*\n",
    "* PERMNO: a 5-digit firm identifier\n",
    "* DATE: last trading day of the month, SAS format yymmddn8.\n",
    "* COMNAM: company name\n",
    "* EXCHCD: 1: NYSE, 2: AMEX, 3: NASDAQ\n",
    "* SICCD: 4 digit SIC code\n",
    "* PRC: closing price\n",
    "* RET: monthly return\n",
    "* SHROUT: shares outstanding in thousand shares\n",
    "\n",
    "*ff3.sas7bdat*\n",
    "* DATE: last trading day of the month\n",
    "* SMB: small-minus-big return\n",
    "* HML: high-minus-low return\n",
    "* MKTRF: excess return on the market\n",
    "* RF: risk-free rate\n",
    "* UMD: momentum factor"
   ]
  },
  {
   "cell_type": "code",
   "execution_count": 1,
   "metadata": {},
   "outputs": [],
   "source": [
    "# import packages\n",
    "import pandas as pd\n",
    "import numpy as np\n",
    "from statsmodels.regression.linear_model import OLS\n",
    "from statsmodels.tools.tools import add_constant"
   ]
  },
  {
   "cell_type": "markdown",
   "metadata": {},
   "source": [
    "# Load and check data"
   ]
  },
  {
   "cell_type": "code",
   "execution_count": 2,
   "metadata": {
    "scrolled": true
   },
   "outputs": [],
   "source": [
    "# load data\n",
    "Stock = pd.read_sas(\"stock.sas7bdat\")\n",
    "RM = pd.read_sas(\"ff3.sas7bdat\")"
   ]
  },
  {
   "cell_type": "code",
   "execution_count": 3,
   "metadata": {
    "scrolled": true
   },
   "outputs": [
    {
     "data": {
      "text/html": [
       "<div>\n",
       "<style scoped>\n",
       "    .dataframe tbody tr th:only-of-type {\n",
       "        vertical-align: middle;\n",
       "    }\n",
       "\n",
       "    .dataframe tbody tr th {\n",
       "        vertical-align: top;\n",
       "    }\n",
       "\n",
       "    .dataframe thead th {\n",
       "        text-align: right;\n",
       "    }\n",
       "</style>\n",
       "<table border=\"1\" class=\"dataframe\">\n",
       "  <thead>\n",
       "    <tr style=\"text-align: right;\">\n",
       "      <th></th>\n",
       "      <th>PERMNO</th>\n",
       "      <th>DATE</th>\n",
       "      <th>COMNAM</th>\n",
       "      <th>EXCHCD</th>\n",
       "      <th>SICCD</th>\n",
       "      <th>PRC</th>\n",
       "      <th>RET</th>\n",
       "      <th>SHROUT</th>\n",
       "    </tr>\n",
       "  </thead>\n",
       "  <tbody>\n",
       "    <tr>\n",
       "      <th>0</th>\n",
       "      <td>10001.0</td>\n",
       "      <td>2001-01-31</td>\n",
       "      <td>b'ENERGY WEST INC'</td>\n",
       "      <td>3.0</td>\n",
       "      <td>4920.0</td>\n",
       "      <td>9.875</td>\n",
       "      <td>0.012821</td>\n",
       "      <td>2498.0</td>\n",
       "    </tr>\n",
       "    <tr>\n",
       "      <th>1</th>\n",
       "      <td>10001.0</td>\n",
       "      <td>2001-02-28</td>\n",
       "      <td>b'ENERGY WEST INC'</td>\n",
       "      <td>3.0</td>\n",
       "      <td>4920.0</td>\n",
       "      <td>9.750</td>\n",
       "      <td>-0.012658</td>\n",
       "      <td>2504.0</td>\n",
       "    </tr>\n",
       "    <tr>\n",
       "      <th>2</th>\n",
       "      <td>10001.0</td>\n",
       "      <td>2001-03-30</td>\n",
       "      <td>b'ENERGY WEST INC'</td>\n",
       "      <td>3.0</td>\n",
       "      <td>4920.0</td>\n",
       "      <td>10.000</td>\n",
       "      <td>0.038462</td>\n",
       "      <td>2509.0</td>\n",
       "    </tr>\n",
       "    <tr>\n",
       "      <th>3</th>\n",
       "      <td>10001.0</td>\n",
       "      <td>2001-04-30</td>\n",
       "      <td>b'ENERGY WEST INC'</td>\n",
       "      <td>3.0</td>\n",
       "      <td>4920.0</td>\n",
       "      <td>9.750</td>\n",
       "      <td>-0.025000</td>\n",
       "      <td>2509.0</td>\n",
       "    </tr>\n",
       "    <tr>\n",
       "      <th>4</th>\n",
       "      <td>10001.0</td>\n",
       "      <td>2001-05-31</td>\n",
       "      <td>b'ENERGY WEST INC'</td>\n",
       "      <td>3.0</td>\n",
       "      <td>4920.0</td>\n",
       "      <td>10.700</td>\n",
       "      <td>0.097436</td>\n",
       "      <td>2509.0</td>\n",
       "    </tr>\n",
       "  </tbody>\n",
       "</table>\n",
       "</div>"
      ],
      "text/plain": [
       "    PERMNO       DATE              COMNAM  EXCHCD   SICCD     PRC       RET  \\\n",
       "0  10001.0 2001-01-31  b'ENERGY WEST INC'     3.0  4920.0   9.875  0.012821   \n",
       "1  10001.0 2001-02-28  b'ENERGY WEST INC'     3.0  4920.0   9.750 -0.012658   \n",
       "2  10001.0 2001-03-30  b'ENERGY WEST INC'     3.0  4920.0  10.000  0.038462   \n",
       "3  10001.0 2001-04-30  b'ENERGY WEST INC'     3.0  4920.0   9.750 -0.025000   \n",
       "4  10001.0 2001-05-31  b'ENERGY WEST INC'     3.0  4920.0  10.700  0.097436   \n",
       "\n",
       "   SHROUT  \n",
       "0  2498.0  \n",
       "1  2504.0  \n",
       "2  2509.0  \n",
       "3  2509.0  \n",
       "4  2509.0  "
      ]
     },
     "execution_count": 3,
     "metadata": {},
     "output_type": "execute_result"
    }
   ],
   "source": [
    "# show first few rows of Stock\n",
    "Stock.head()"
   ]
  },
  {
   "cell_type": "code",
   "execution_count": 4,
   "metadata": {
    "scrolled": true
   },
   "outputs": [
    {
     "data": {
      "text/html": [
       "<div>\n",
       "<style scoped>\n",
       "    .dataframe tbody tr th:only-of-type {\n",
       "        vertical-align: middle;\n",
       "    }\n",
       "\n",
       "    .dataframe tbody tr th {\n",
       "        vertical-align: top;\n",
       "    }\n",
       "\n",
       "    .dataframe thead th {\n",
       "        text-align: right;\n",
       "    }\n",
       "</style>\n",
       "<table border=\"1\" class=\"dataframe\">\n",
       "  <thead>\n",
       "    <tr style=\"text-align: right;\">\n",
       "      <th></th>\n",
       "      <th>DATE</th>\n",
       "      <th>SMB</th>\n",
       "      <th>HML</th>\n",
       "      <th>MKTRF</th>\n",
       "      <th>RF</th>\n",
       "      <th>UMD</th>\n",
       "    </tr>\n",
       "  </thead>\n",
       "  <tbody>\n",
       "    <tr>\n",
       "      <th>0</th>\n",
       "      <td>2001-01-31 00:08:07.555199999</td>\n",
       "      <td>0.0657</td>\n",
       "      <td>-0.0490</td>\n",
       "      <td>0.0313</td>\n",
       "      <td>0.0054</td>\n",
       "      <td>-0.2506</td>\n",
       "    </tr>\n",
       "    <tr>\n",
       "      <th>1</th>\n",
       "      <td>2001-02-28 00:08:06.000000000</td>\n",
       "      <td>-0.0074</td>\n",
       "      <td>0.1290</td>\n",
       "      <td>-0.1005</td>\n",
       "      <td>0.0038</td>\n",
       "      <td>0.1251</td>\n",
       "    </tr>\n",
       "    <tr>\n",
       "      <th>2</th>\n",
       "      <td>2001-03-30 00:00:00.000000000</td>\n",
       "      <td>0.0034</td>\n",
       "      <td>0.0645</td>\n",
       "      <td>-0.0726</td>\n",
       "      <td>0.0042</td>\n",
       "      <td>0.0835</td>\n",
       "    </tr>\n",
       "    <tr>\n",
       "      <th>3</th>\n",
       "      <td>2001-04-30 00:08:07.382400000</td>\n",
       "      <td>0.0052</td>\n",
       "      <td>-0.0469</td>\n",
       "      <td>0.0794</td>\n",
       "      <td>0.0039</td>\n",
       "      <td>-0.0797</td>\n",
       "    </tr>\n",
       "    <tr>\n",
       "      <th>4</th>\n",
       "      <td>2001-05-31 00:00:00.000000000</td>\n",
       "      <td>0.0260</td>\n",
       "      <td>0.0314</td>\n",
       "      <td>0.0072</td>\n",
       "      <td>0.0032</td>\n",
       "      <td>0.0212</td>\n",
       "    </tr>\n",
       "  </tbody>\n",
       "</table>\n",
       "</div>"
      ],
      "text/plain": [
       "                           DATE     SMB     HML   MKTRF      RF     UMD\n",
       "0 2001-01-31 00:08:07.555199999  0.0657 -0.0490  0.0313  0.0054 -0.2506\n",
       "1 2001-02-28 00:08:06.000000000 -0.0074  0.1290 -0.1005  0.0038  0.1251\n",
       "2 2001-03-30 00:00:00.000000000  0.0034  0.0645 -0.0726  0.0042  0.0835\n",
       "3 2001-04-30 00:08:07.382400000  0.0052 -0.0469  0.0794  0.0039 -0.0797\n",
       "4 2001-05-31 00:00:00.000000000  0.0260  0.0314  0.0072  0.0032  0.0212"
      ]
     },
     "execution_count": 4,
     "metadata": {},
     "output_type": "execute_result"
    }
   ],
   "source": [
    "# show first few rows of RM\n",
    "RM.head()"
   ]
  },
  {
   "cell_type": "code",
   "execution_count": 5,
   "metadata": {},
   "outputs": [],
   "source": [
    "# select the columns we want\n",
    "Stock = Stock[[\"DATE\", \"PERMNO\", \"PRC\", \"RET\", \"SHROUT\"]]\n",
    "RM = RM[[\"DATE\", \"MKTRF\", \"RF\"]]"
   ]
  },
  {
   "cell_type": "code",
   "execution_count": 6,
   "metadata": {
    "scrolled": false
   },
   "outputs": [
    {
     "name": "stdout",
     "output_type": "stream",
     "text": [
      "<class 'pandas.core.frame.DataFrame'>\n",
      "RangeIndex: 895867 entries, 0 to 895866\n",
      "Data columns (total 5 columns):\n",
      "DATE      895867 non-null datetime64[ns]\n",
      "PERMNO    895867 non-null float64\n",
      "PRC       889427 non-null float64\n",
      "RET       885676 non-null float64\n",
      "SHROUT    894897 non-null float64\n",
      "dtypes: datetime64[ns](1), float64(4)\n",
      "memory usage: 34.2 MB\n"
     ]
    }
   ],
   "source": [
    "# check Stock's information\n",
    "Stock.info()"
   ]
  },
  {
   "cell_type": "code",
   "execution_count": 7,
   "metadata": {},
   "outputs": [
    {
     "name": "stdout",
     "output_type": "stream",
     "text": [
      "<class 'pandas.core.frame.DataFrame'>\n",
      "RangeIndex: 204 entries, 0 to 203\n",
      "Data columns (total 3 columns):\n",
      "DATE     204 non-null datetime64[ns]\n",
      "MKTRF    204 non-null float64\n",
      "RF       204 non-null float64\n",
      "dtypes: datetime64[ns](1), float64(2)\n",
      "memory usage: 4.9 KB\n"
     ]
    }
   ],
   "source": [
    "# check RM's information\n",
    "RM.info()"
   ]
  },
  {
   "cell_type": "markdown",
   "metadata": {},
   "source": [
    "From the information above, we can find that DATE column in both datasets is already datetime object, other columns are float."
   ]
  },
  {
   "cell_type": "markdown",
   "metadata": {},
   "source": [
    "# Data preprocess"
   ]
  },
  {
   "cell_type": "markdown",
   "metadata": {},
   "source": [
    "### First, deal with Stock"
   ]
  },
  {
   "cell_type": "code",
   "execution_count": 8,
   "metadata": {
    "scrolled": true
   },
   "outputs": [
    {
     "name": "stdout",
     "output_type": "stream",
     "text": [
      "number of qualified companies: 3238\n"
     ]
    }
   ],
   "source": [
    "# select data after 2008/1/1\n",
    "Stock = Stock[Stock.DATE > \"2008-01-01\"]\n",
    "\n",
    "# create temporary Stock dataset betweeen 2008/01/01 and 2012/12/31\n",
    "temp_Stock = Stock[Stock.DATE <= \"2012/12/31\"]\n",
    "\n",
    "# create function to count observations for each company\n",
    "def calculate_num(input_data, num):\n",
    "    temp_data = input_data.sort_values(\"DATE\", ascending=True)\n",
    "    # find out last row of data's DATE, and transform it to string\n",
    "    # beacuse we need to make sure companies still exist at 2012/12/31\n",
    "    last_date = str(temp_data.iloc[-1, :][\"DATE\"].date())\n",
    "    # create index to find non na data point according to RET\n",
    "    na_index = temp_data.RET.isna() == False\n",
    "    # select data without na\n",
    "    temp_data = temp_data[na_index]\n",
    "    # count observations from back to front\n",
    "    # the observations need at least 36 data points\n",
    "    if len(temp_data.iloc[-num:, ]) == num and last_date == \"2012-12-31\":\n",
    "        return True\n",
    "    else:\n",
    "        return False\n",
    "    \n",
    "# group temp_Stock by \"PERMNO\" column, and apply \"calculate_num\" function to each group\n",
    "count_result = temp_Stock.groupby(\"PERMNO\").apply(lambda x: calculate_num(x, 36))\n",
    "\n",
    "# save company's PERMNO if it met the requirement\n",
    "target_PERMNO = count_result[count_result == True].index\n",
    "\n",
    "# show the number of companies which meet the requirement\n",
    "print(\"number of qualified companies:\", len(target_PERMNO))"
   ]
  },
  {
   "cell_type": "code",
   "execution_count": 9,
   "metadata": {},
   "outputs": [],
   "source": [
    "# transform target_PERMNO to set\n",
    "target_PERMNO = set(list(map(lambda x:str(int(x)), target_PERMNO)))\n",
    "\n",
    "# transform temp_Stock's PERMNO column to string\n",
    "# in case of warnings, set a copy of temp_Stock\n",
    "temp_Stock = temp_Stock.copy()\n",
    "temp_Stock.PERMNO = temp_Stock.PERMNO.apply(lambda x: str(int(x)))\n",
    "\n",
    "# create index to find whether temp_Stock's PERMNO is in target_PERMNO\n",
    "selected_index = temp_Stock.PERMNO.apply(lambda x: x in target_PERMNO)\n",
    "\n",
    "# select companies which meet the requirement\n",
    "temp_Stock = temp_Stock[selected_index]"
   ]
  },
  {
   "cell_type": "markdown",
   "metadata": {},
   "source": [
    "### Second, merge Stock with RM"
   ]
  },
  {
   "cell_type": "code",
   "execution_count": 10,
   "metadata": {},
   "outputs": [
    {
     "name": "stdout",
     "output_type": "stream",
     "text": [
      "Stock's DATE format: 2008-01-31 00:00:00\n",
      "RM's DATE format: 2001-01-31 00:08:07.555199999\n"
     ]
    }
   ],
   "source": [
    "# check the key we need while merging two dataframes\n",
    "print(\"Stock's DATE format:\", temp_Stock.DATE.iloc[0])\n",
    "print(\"RM's DATE format:\", RM.DATE.iloc[0])"
   ]
  },
  {
   "cell_type": "markdown",
   "metadata": {},
   "source": [
    "From the information above, we can find that RM's DATE format also contain hour, minute, and second. However, Stock's DATE format doesn't contain those information, so we need to unify their format."
   ]
  },
  {
   "cell_type": "code",
   "execution_count": 11,
   "metadata": {},
   "outputs": [],
   "source": [
    "# unify their DATE format by only selecting year, month, and day\n",
    "# in case of warnings, set a copy of temp_Stock\n",
    "temp_Stock = temp_Stock.copy()\n",
    "temp_Stock[\"DATE\"] = temp_Stock[\"DATE\"].apply(lambda x:x.date())\n",
    "RM[\"DATE\"] = RM[\"DATE\"].apply(lambda x:x.date())\n",
    "\n",
    "# merge Stock with RM\n",
    "Sample = temp_Stock.merge(RM, how=\"inner\", on=\"DATE\")\n",
    "\n",
    "# create new column \"RIRF\" for excess return on market\n",
    "Sample[\"RIRF\"] = Sample[\"RET\"] - Sample[\"RF\"]"
   ]
  },
  {
   "cell_type": "code",
   "execution_count": 12,
   "metadata": {},
   "outputs": [],
   "source": [
    "# define function to run regression\n",
    "def run_regression(x, y):\n",
    "    X = add_constant(x)\n",
    "    Y = y\n",
    "    model = OLS(Y, X, missing=\"drop\")\n",
    "    result = model.fit()\n",
    "    params = pd.DataFrame(result.params).T\n",
    "    t_value = pd.DataFrame(result.tvalues).T\n",
    "    t_value.columns = [\"cnost_t_value\", \"RIRF_t_value\"]\n",
    "    return params.join(t_value)\n",
    "\n",
    "# group Sample by \"PERMNO\" column, and apply \"run_regression\" function to each group\n",
    "reg_result = Sample.groupby(\"PERMNO\").apply(lambda x: run_regression(x.MKTRF, x.RIRF))"
   ]
  }
 ],
 "metadata": {
  "kernelspec": {
   "display_name": "Python 3",
   "language": "python",
   "name": "python3"
  },
  "language_info": {
   "codemirror_mode": {
    "name": "ipython",
    "version": 3
   },
   "file_extension": ".py",
   "mimetype": "text/x-python",
   "name": "python",
   "nbconvert_exporter": "python",
   "pygments_lexer": "ipython3",
   "version": "3.6.3"
  }
 },
 "nbformat": 4,
 "nbformat_minor": 2
}
