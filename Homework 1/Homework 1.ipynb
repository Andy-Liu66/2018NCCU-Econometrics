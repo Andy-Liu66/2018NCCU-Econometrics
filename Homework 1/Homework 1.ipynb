{
 "cells": [
  {
   "cell_type": "markdown",
   "metadata": {},
   "source": [
    "**Process:**\n",
    "* Load and check data\n",
    "* Data preprocess (2 datasets)\n",
    "* Answer each question (7 in total)\n",
    " \n",
    "**Notations:**\n",
    "\n",
    "*stock.sas7bdat*\n",
    "* PERMNO: a 5-digit firm identifier\n",
    "* DATE: last trading day of the month, SAS format yymmddn8.\n",
    "* COMNAM: company name\n",
    "* EXCHCD: 1: NYSE, 2: AMEX, 3: NASDAQ\n",
    "* SICCD: 4 digit SIC code\n",
    "* PRC: closing price\n",
    "* RET: monthly return\n",
    "* SHROUT: shares outstanding in thousand shares\n",
    "\n",
    "*ff3.sas7bdat*\n",
    "* DATE: last trading day of the month\n",
    "* SMB: small-minus-big return\n",
    "* HML: high-minus-low return\n",
    "* MKTRF: excess return on the market\n",
    "* RF: risk-free rate\n",
    "* UMD: momentum factor"
   ]
  },
  {
   "cell_type": "code",
   "execution_count": 1,
   "metadata": {},
   "outputs": [
    {
     "name": "stdout",
     "output_type": "stream",
     "text": [
      "Using matplotlib backend: Qt5Agg\n"
     ]
    }
   ],
   "source": [
    "# import packages\n",
    "import pandas as pd\n",
    "import numpy as np\n",
    "from statsmodels.regression.linear_model import OLS\n",
    "from statsmodels.tools.tools import add_constant\n",
    "from scipy.stats import t\n",
    "from datetime import datetime\n",
    "import matplotlib.pyplot as plt\n",
    "import seaborn as sns\n",
    "%matplotlib"
   ]
  },
  {
   "cell_type": "markdown",
   "metadata": {},
   "source": [
    "# Load and check data"
   ]
  },
  {
   "cell_type": "code",
   "execution_count": 2,
   "metadata": {
    "scrolled": true
   },
   "outputs": [],
   "source": [
    "# load data\n",
    "Stock = pd.read_sas(\"stock.sas7bdat\")\n",
    "RM = pd.read_sas(\"ff3.sas7bdat\")"
   ]
  },
  {
   "cell_type": "code",
   "execution_count": 3,
   "metadata": {
    "scrolled": true
   },
   "outputs": [
    {
     "data": {
      "text/html": [
       "<div>\n",
       "<style scoped>\n",
       "    .dataframe tbody tr th:only-of-type {\n",
       "        vertical-align: middle;\n",
       "    }\n",
       "\n",
       "    .dataframe tbody tr th {\n",
       "        vertical-align: top;\n",
       "    }\n",
       "\n",
       "    .dataframe thead th {\n",
       "        text-align: right;\n",
       "    }\n",
       "</style>\n",
       "<table border=\"1\" class=\"dataframe\">\n",
       "  <thead>\n",
       "    <tr style=\"text-align: right;\">\n",
       "      <th></th>\n",
       "      <th>PERMNO</th>\n",
       "      <th>DATE</th>\n",
       "      <th>COMNAM</th>\n",
       "      <th>EXCHCD</th>\n",
       "      <th>SICCD</th>\n",
       "      <th>PRC</th>\n",
       "      <th>RET</th>\n",
       "      <th>SHROUT</th>\n",
       "    </tr>\n",
       "  </thead>\n",
       "  <tbody>\n",
       "    <tr>\n",
       "      <th>0</th>\n",
       "      <td>10001.0</td>\n",
       "      <td>2001-01-31</td>\n",
       "      <td>b'ENERGY WEST INC'</td>\n",
       "      <td>3.0</td>\n",
       "      <td>4920.0</td>\n",
       "      <td>9.875</td>\n",
       "      <td>0.012821</td>\n",
       "      <td>2498.0</td>\n",
       "    </tr>\n",
       "    <tr>\n",
       "      <th>1</th>\n",
       "      <td>10001.0</td>\n",
       "      <td>2001-02-28</td>\n",
       "      <td>b'ENERGY WEST INC'</td>\n",
       "      <td>3.0</td>\n",
       "      <td>4920.0</td>\n",
       "      <td>9.750</td>\n",
       "      <td>-0.012658</td>\n",
       "      <td>2504.0</td>\n",
       "    </tr>\n",
       "    <tr>\n",
       "      <th>2</th>\n",
       "      <td>10001.0</td>\n",
       "      <td>2001-03-30</td>\n",
       "      <td>b'ENERGY WEST INC'</td>\n",
       "      <td>3.0</td>\n",
       "      <td>4920.0</td>\n",
       "      <td>10.000</td>\n",
       "      <td>0.038462</td>\n",
       "      <td>2509.0</td>\n",
       "    </tr>\n",
       "    <tr>\n",
       "      <th>3</th>\n",
       "      <td>10001.0</td>\n",
       "      <td>2001-04-30</td>\n",
       "      <td>b'ENERGY WEST INC'</td>\n",
       "      <td>3.0</td>\n",
       "      <td>4920.0</td>\n",
       "      <td>9.750</td>\n",
       "      <td>-0.025000</td>\n",
       "      <td>2509.0</td>\n",
       "    </tr>\n",
       "    <tr>\n",
       "      <th>4</th>\n",
       "      <td>10001.0</td>\n",
       "      <td>2001-05-31</td>\n",
       "      <td>b'ENERGY WEST INC'</td>\n",
       "      <td>3.0</td>\n",
       "      <td>4920.0</td>\n",
       "      <td>10.700</td>\n",
       "      <td>0.097436</td>\n",
       "      <td>2509.0</td>\n",
       "    </tr>\n",
       "  </tbody>\n",
       "</table>\n",
       "</div>"
      ],
      "text/plain": [
       "    PERMNO       DATE              COMNAM  EXCHCD   SICCD     PRC       RET  \\\n",
       "0  10001.0 2001-01-31  b'ENERGY WEST INC'     3.0  4920.0   9.875  0.012821   \n",
       "1  10001.0 2001-02-28  b'ENERGY WEST INC'     3.0  4920.0   9.750 -0.012658   \n",
       "2  10001.0 2001-03-30  b'ENERGY WEST INC'     3.0  4920.0  10.000  0.038462   \n",
       "3  10001.0 2001-04-30  b'ENERGY WEST INC'     3.0  4920.0   9.750 -0.025000   \n",
       "4  10001.0 2001-05-31  b'ENERGY WEST INC'     3.0  4920.0  10.700  0.097436   \n",
       "\n",
       "   SHROUT  \n",
       "0  2498.0  \n",
       "1  2504.0  \n",
       "2  2509.0  \n",
       "3  2509.0  \n",
       "4  2509.0  "
      ]
     },
     "execution_count": 3,
     "metadata": {},
     "output_type": "execute_result"
    }
   ],
   "source": [
    "# show first few rows of Stock\n",
    "Stock.head()"
   ]
  },
  {
   "cell_type": "code",
   "execution_count": 4,
   "metadata": {
    "scrolled": true
   },
   "outputs": [
    {
     "data": {
      "text/html": [
       "<div>\n",
       "<style scoped>\n",
       "    .dataframe tbody tr th:only-of-type {\n",
       "        vertical-align: middle;\n",
       "    }\n",
       "\n",
       "    .dataframe tbody tr th {\n",
       "        vertical-align: top;\n",
       "    }\n",
       "\n",
       "    .dataframe thead th {\n",
       "        text-align: right;\n",
       "    }\n",
       "</style>\n",
       "<table border=\"1\" class=\"dataframe\">\n",
       "  <thead>\n",
       "    <tr style=\"text-align: right;\">\n",
       "      <th></th>\n",
       "      <th>DATE</th>\n",
       "      <th>SMB</th>\n",
       "      <th>HML</th>\n",
       "      <th>MKTRF</th>\n",
       "      <th>RF</th>\n",
       "      <th>UMD</th>\n",
       "    </tr>\n",
       "  </thead>\n",
       "  <tbody>\n",
       "    <tr>\n",
       "      <th>0</th>\n",
       "      <td>2001-01-31 00:08:15.763200</td>\n",
       "      <td>0.0657</td>\n",
       "      <td>-0.0490</td>\n",
       "      <td>0.0313</td>\n",
       "      <td>0.0054</td>\n",
       "      <td>-0.2506</td>\n",
       "    </tr>\n",
       "    <tr>\n",
       "      <th>1</th>\n",
       "      <td>2001-02-28 00:07:53.644800</td>\n",
       "      <td>-0.0074</td>\n",
       "      <td>0.1290</td>\n",
       "      <td>-0.1005</td>\n",
       "      <td>0.0038</td>\n",
       "      <td>0.1251</td>\n",
       "    </tr>\n",
       "    <tr>\n",
       "      <th>2</th>\n",
       "      <td>2001-03-30 00:00:00.000000</td>\n",
       "      <td>0.0034</td>\n",
       "      <td>0.0645</td>\n",
       "      <td>-0.0726</td>\n",
       "      <td>0.0042</td>\n",
       "      <td>0.0835</td>\n",
       "    </tr>\n",
       "    <tr>\n",
       "      <th>3</th>\n",
       "      <td>2001-04-30 00:08:15.590400</td>\n",
       "      <td>0.0052</td>\n",
       "      <td>-0.0469</td>\n",
       "      <td>0.0794</td>\n",
       "      <td>0.0039</td>\n",
       "      <td>-0.0797</td>\n",
       "    </tr>\n",
       "    <tr>\n",
       "      <th>4</th>\n",
       "      <td>2001-05-31 00:00:00.000000</td>\n",
       "      <td>0.0260</td>\n",
       "      <td>0.0314</td>\n",
       "      <td>0.0072</td>\n",
       "      <td>0.0032</td>\n",
       "      <td>0.0212</td>\n",
       "    </tr>\n",
       "  </tbody>\n",
       "</table>\n",
       "</div>"
      ],
      "text/plain": [
       "                        DATE     SMB     HML   MKTRF      RF     UMD\n",
       "0 2001-01-31 00:08:15.763200  0.0657 -0.0490  0.0313  0.0054 -0.2506\n",
       "1 2001-02-28 00:07:53.644800 -0.0074  0.1290 -0.1005  0.0038  0.1251\n",
       "2 2001-03-30 00:00:00.000000  0.0034  0.0645 -0.0726  0.0042  0.0835\n",
       "3 2001-04-30 00:08:15.590400  0.0052 -0.0469  0.0794  0.0039 -0.0797\n",
       "4 2001-05-31 00:00:00.000000  0.0260  0.0314  0.0072  0.0032  0.0212"
      ]
     },
     "execution_count": 4,
     "metadata": {},
     "output_type": "execute_result"
    }
   ],
   "source": [
    "# show first few rows of RM\n",
    "RM.head()"
   ]
  },
  {
   "cell_type": "code",
   "execution_count": 5,
   "metadata": {},
   "outputs": [],
   "source": [
    "# select the columns we want\n",
    "Stock = Stock[[\"DATE\", \"PERMNO\", \"PRC\", \"RET\", \"SHROUT\"]]\n",
    "RM = RM[[\"DATE\", \"MKTRF\", \"RF\"]]"
   ]
  },
  {
   "cell_type": "code",
   "execution_count": 6,
   "metadata": {
    "scrolled": false
   },
   "outputs": [
    {
     "name": "stdout",
     "output_type": "stream",
     "text": [
      "<class 'pandas.core.frame.DataFrame'>\n",
      "RangeIndex: 895867 entries, 0 to 895866\n",
      "Data columns (total 5 columns):\n",
      "DATE      895867 non-null datetime64[ns]\n",
      "PERMNO    895867 non-null float64\n",
      "PRC       889427 non-null float64\n",
      "RET       885676 non-null float64\n",
      "SHROUT    894897 non-null float64\n",
      "dtypes: datetime64[ns](1), float64(4)\n",
      "memory usage: 34.2 MB\n"
     ]
    }
   ],
   "source": [
    "# check Stock's information\n",
    "Stock.info()"
   ]
  },
  {
   "cell_type": "code",
   "execution_count": 7,
   "metadata": {},
   "outputs": [
    {
     "name": "stdout",
     "output_type": "stream",
     "text": [
      "<class 'pandas.core.frame.DataFrame'>\n",
      "RangeIndex: 204 entries, 0 to 203\n",
      "Data columns (total 3 columns):\n",
      "DATE     204 non-null datetime64[ns]\n",
      "MKTRF    204 non-null float64\n",
      "RF       204 non-null float64\n",
      "dtypes: datetime64[ns](1), float64(2)\n",
      "memory usage: 4.9 KB\n"
     ]
    }
   ],
   "source": [
    "# check RM's information\n",
    "RM.info()"
   ]
  },
  {
   "cell_type": "markdown",
   "metadata": {},
   "source": [
    "From the information above, we can find that DATE column in both datasets is already datetime object, other columns are float."
   ]
  },
  {
   "cell_type": "markdown",
   "metadata": {},
   "source": [
    "# Data preprocess (2 datasets)"
   ]
  },
  {
   "cell_type": "markdown",
   "metadata": {},
   "source": [
    "### First, deal with Stock"
   ]
  },
  {
   "cell_type": "code",
   "execution_count": 8,
   "metadata": {
    "scrolled": true
   },
   "outputs": [
    {
     "name": "stdout",
     "output_type": "stream",
     "text": [
      "Number of qualified companies: 3238\n"
     ]
    }
   ],
   "source": [
    "# create temporary Stock dataset betweeen 2008/01/01 and 2012/12/31\n",
    "temp_Stock = Stock[(Stock.DATE > \"2008/01/01\") & (Stock.DATE <= \"2012/12/31\")]\n",
    "\n",
    "# create function to count observations for each company\n",
    "def calculate_num(input_data, num):\n",
    "    temp_data = input_data.sort_values(\"DATE\", ascending=True)\n",
    "    # find out last row of data's DATE, and transform it to string\n",
    "    # beacuse we need to make sure companies still exist at 2012/12/31\n",
    "    last_date = str(temp_data.iloc[-1, :][\"DATE\"].date())\n",
    "    # create index to find non na data point according to RET\n",
    "    na_index = temp_data.RET.isna() == False\n",
    "    # select data without na\n",
    "    temp_data = temp_data[na_index]\n",
    "    # count observations from back to front\n",
    "    # the observations need at least 36 data points\n",
    "    if len(temp_data.iloc[-num:, ]) == num and last_date == \"2012-12-31\":\n",
    "        return True\n",
    "    else:\n",
    "        return False\n",
    "    \n",
    "# group temp_Stock by \"PERMNO\" column, and apply \"calculate_num\" function to each group\n",
    "count_result = temp_Stock.groupby(\"PERMNO\").apply(lambda x: calculate_num(x, 36))\n",
    "\n",
    "# save company's PERMNO if it met the requirement\n",
    "target_PERMNO = count_result[count_result == True].index\n",
    "\n",
    "# show the number of companies which meet the requirement\n",
    "print(\"Number of qualified companies:\", len(target_PERMNO))"
   ]
  },
  {
   "cell_type": "code",
   "execution_count": 9,
   "metadata": {},
   "outputs": [],
   "source": [
    "# transform target_PERMNO to set\n",
    "target_PERMNO = set(list(map(lambda x:str(int(x)), target_PERMNO)))\n",
    "\n",
    "# transform Stock's PERMNO column to string\n",
    "# in case of warnings, set a copy of Stock\n",
    "Stock = Stock.copy()\n",
    "Stock.PERMNO = Stock.PERMNO.apply(lambda x: str(int(x)))\n",
    "\n",
    "# create index to find whether Stock's PERMNO is in target_PERMNO\n",
    "selected_index = Stock.PERMNO.apply(lambda x: x in target_PERMNO)\n",
    "\n",
    "# select companies which meet the requirement\n",
    "Stock = Stock[selected_index]"
   ]
  },
  {
   "cell_type": "markdown",
   "metadata": {},
   "source": [
    "### Second, merge Stock with RM"
   ]
  },
  {
   "cell_type": "code",
   "execution_count": 10,
   "metadata": {},
   "outputs": [
    {
     "name": "stdout",
     "output_type": "stream",
     "text": [
      "Stock's DATE format: 2001-01-31 00:00:00\n",
      "RM's DATE format: 2001-01-31 00:08:15.763200\n"
     ]
    }
   ],
   "source": [
    "# check the key we need while merging two dataframes\n",
    "print(\"Stock's DATE format:\", Stock.DATE.iloc[0])\n",
    "print(\"RM's DATE format:\", RM.DATE.iloc[0])"
   ]
  },
  {
   "cell_type": "markdown",
   "metadata": {},
   "source": [
    "From the information above, we can find that RM's DATE format also contain hour, minute, and second. However, Stock's DATE format doesn't contain those information, so we need to unify their format."
   ]
  },
  {
   "cell_type": "code",
   "execution_count": 11,
   "metadata": {},
   "outputs": [],
   "source": [
    "# unify their DATE format by only selecting year, month, and day\n",
    "# in case of warnings, set a copy of temp_Stock\n",
    "Stock = Stock.copy()\n",
    "Stock[\"DATE\"] = Stock[\"DATE\"].apply(lambda x:x.date())\n",
    "RM[\"DATE\"] = RM[\"DATE\"].apply(lambda x:x.date())\n",
    "\n",
    "# merge Stock with RM\n",
    "Sample = Stock.merge(RM, how=\"inner\", on=\"DATE\")\n",
    "\n",
    "# create new column \"RIRF\" for excess return on market\n",
    "Sample[\"RIRF\"] = Sample[\"RET\"] - Sample[\"RF\"]"
   ]
  },
  {
   "cell_type": "code",
   "execution_count": 12,
   "metadata": {},
   "outputs": [
    {
     "data": {
      "text/plain": [
       "datetime.datetime(2008, 1, 1, 0, 0)"
      ]
     },
     "execution_count": 12,
     "metadata": {},
     "output_type": "execute_result"
    }
   ],
   "source": [
    "datetime.strptime(\"2008-01-01\", \"%Y-%m-%d\")"
   ]
  },
  {
   "cell_type": "code",
   "execution_count": 13,
   "metadata": {
    "scrolled": false
   },
   "outputs": [
    {
     "data": {
      "text/html": [
       "<div>\n",
       "<style scoped>\n",
       "    .dataframe tbody tr th:only-of-type {\n",
       "        vertical-align: middle;\n",
       "    }\n",
       "\n",
       "    .dataframe tbody tr th {\n",
       "        vertical-align: top;\n",
       "    }\n",
       "\n",
       "    .dataframe thead th {\n",
       "        text-align: right;\n",
       "    }\n",
       "</style>\n",
       "<table border=\"1\" class=\"dataframe\">\n",
       "  <thead>\n",
       "    <tr style=\"text-align: right;\">\n",
       "      <th></th>\n",
       "      <th></th>\n",
       "      <th>Alpha</th>\n",
       "      <th>Beta</th>\n",
       "      <th>Alpha_t_value</th>\n",
       "      <th>Beta_t_value</th>\n",
       "      <th>Alpha_p_value</th>\n",
       "      <th>Beta_p_value</th>\n",
       "      <th>Alpha_std_err</th>\n",
       "      <th>Beta_std_err</th>\n",
       "    </tr>\n",
       "    <tr>\n",
       "      <th>PERMNO</th>\n",
       "      <th></th>\n",
       "      <th></th>\n",
       "      <th></th>\n",
       "      <th></th>\n",
       "      <th></th>\n",
       "      <th></th>\n",
       "      <th></th>\n",
       "      <th></th>\n",
       "      <th></th>\n",
       "    </tr>\n",
       "  </thead>\n",
       "  <tbody>\n",
       "    <tr>\n",
       "      <th>10001</th>\n",
       "      <th>0</th>\n",
       "      <td>0.005097</td>\n",
       "      <td>0.317924</td>\n",
       "      <td>0.594660</td>\n",
       "      <td>2.075380</td>\n",
       "      <td>0.554383</td>\n",
       "      <td>0.042396</td>\n",
       "      <td>0.008571</td>\n",
       "      <td>0.153188</td>\n",
       "    </tr>\n",
       "    <tr>\n",
       "      <th>10002</th>\n",
       "      <th>0</th>\n",
       "      <td>-0.005789</td>\n",
       "      <td>0.033948</td>\n",
       "      <td>-0.232718</td>\n",
       "      <td>0.076360</td>\n",
       "      <td>0.816800</td>\n",
       "      <td>0.939395</td>\n",
       "      <td>0.024875</td>\n",
       "      <td>0.444573</td>\n",
       "    </tr>\n",
       "    <tr>\n",
       "      <th>10025</th>\n",
       "      <th>0</th>\n",
       "      <td>0.014156</td>\n",
       "      <td>1.247654</td>\n",
       "      <td>1.026318</td>\n",
       "      <td>5.061327</td>\n",
       "      <td>0.309003</td>\n",
       "      <td>0.000004</td>\n",
       "      <td>0.013793</td>\n",
       "      <td>0.246507</td>\n",
       "    </tr>\n",
       "    <tr>\n",
       "      <th>10026</th>\n",
       "      <th>0</th>\n",
       "      <td>0.013196</td>\n",
       "      <td>0.691046</td>\n",
       "      <td>1.553259</td>\n",
       "      <td>4.551429</td>\n",
       "      <td>0.125801</td>\n",
       "      <td>0.000028</td>\n",
       "      <td>0.008495</td>\n",
       "      <td>0.151831</td>\n",
       "    </tr>\n",
       "    <tr>\n",
       "      <th>10028</th>\n",
       "      <th>0</th>\n",
       "      <td>0.011520</td>\n",
       "      <td>1.405295</td>\n",
       "      <td>0.525471</td>\n",
       "      <td>3.742407</td>\n",
       "      <td>0.601533</td>\n",
       "      <td>0.000464</td>\n",
       "      <td>0.021924</td>\n",
       "      <td>0.375506</td>\n",
       "    </tr>\n",
       "  </tbody>\n",
       "</table>\n",
       "</div>"
      ],
      "text/plain": [
       "             Alpha      Beta  Alpha_t_value  Beta_t_value  Alpha_p_value  \\\n",
       "PERMNO                                                                     \n",
       "10001  0  0.005097  0.317924       0.594660      2.075380       0.554383   \n",
       "10002  0 -0.005789  0.033948      -0.232718      0.076360       0.816800   \n",
       "10025  0  0.014156  1.247654       1.026318      5.061327       0.309003   \n",
       "10026  0  0.013196  0.691046       1.553259      4.551429       0.125801   \n",
       "10028  0  0.011520  1.405295       0.525471      3.742407       0.601533   \n",
       "\n",
       "          Beta_p_value  Alpha_std_err  Beta_std_err  \n",
       "PERMNO                                               \n",
       "10001  0      0.042396       0.008571      0.153188  \n",
       "10002  0      0.939395       0.024875      0.444573  \n",
       "10025  0      0.000004       0.013793      0.246507  \n",
       "10026  0      0.000028       0.008495      0.151831  \n",
       "10028  0      0.000464       0.021924      0.375506  "
      ]
     },
     "execution_count": 13,
     "metadata": {},
     "output_type": "execute_result"
    }
   ],
   "source": [
    "# define function to run regression\n",
    "def run_regression(x, y):\n",
    "    X = add_constant(x)\n",
    "    Y = y\n",
    "    model = OLS(Y, X, missing=\"drop\")\n",
    "    result = model.fit()\n",
    "    params = pd.DataFrame(result.params).T\n",
    "    params.columns = [\"Alpha\", \"Beta\"]\n",
    "    t_value = pd.DataFrame(result.tvalues).T\n",
    "    t_value.columns = [\"Alpha_t_value\", \"Beta_t_value\"]\n",
    "    p_value = pd.DataFrame(result.pvalues).T\n",
    "    p_value.columns = [\"Alpha_p_value\", \"Beta_p_value\"]\n",
    "    std_err = pd.DataFrame(result.bse).T\n",
    "    std_err.columns = [\"Alpha_std_err\", \"Beta_std_err\"]\n",
    "    return params.join(t_value).join(p_value).join(std_err)\n",
    "\n",
    "# select the time frame which we are going to run regression\n",
    "date_start = datetime.strptime(\"2008/01/01\", \"%Y/%m/%d\").date()\n",
    "date_end = datetime.strptime(\"2012/12/31\", \"%Y/%m/%d\").date()\n",
    "temp_Sample = Sample[(Sample.DATE > date_start) & (Sample.DATE <= date_end)]\n",
    "\n",
    "# group Sample by \"PERMNO\" column, and apply \"run_regression\" function to each group\n",
    "reg_result = temp_Sample.groupby(\"PERMNO\").apply(lambda x: run_regression(x.MKTRF, x.RIRF))\n",
    "\n",
    "# show first few rows of regression result\n",
    "reg_result.head()"
   ]
  },
  {
   "cell_type": "markdown",
   "metadata": {},
   "source": [
    "**How we select sotcks:**\n",
    "1. We need to select stocks whose $\\beta$ closes to one, so we need to make sure the stocks' $\\beta$ which we gonna select are significant. As a result, we select stocks whose p value of $\\beta$ is smaller than 0.05.\n",
    "2. Then we pick stocks whose $\\beta$ lies between 0.9 and 1.1.\n",
    "3. Finally, we sort the selected stocks in ascending and descending way according to each stock's $\\alpha$, and select top 25 five stocks sequentially to form small and big $\\alpha$ portfolio."
   ]
  },
  {
   "cell_type": "code",
   "execution_count": 14,
   "metadata": {
    "scrolled": true
   },
   "outputs": [
    {
     "name": "stdout",
     "output_type": "stream",
     "text": [
      "Number of stocks after first filtration:  2826\n",
      "Number of stocks after second filtration:  744\n"
     ]
    }
   ],
   "source": [
    "# step 1\n",
    "stock_pool = reg_result[reg_result.Beta_p_value <= 0.05]\n",
    "print(\"Number of stocks after first filtration: \", len(stock_pool))\n",
    "\n",
    "# step 2\n",
    "stock_pool = stock_pool[(stock_pool.Beta >= 0.8) & (stock_pool.Beta <= 1.2)]\n",
    "print(\"Number of stocks after second filtration: \", len(stock_pool))\n",
    "\n",
    "# step 3\n",
    "small_alpha = stock_pool.sort_values(\"Alpha\", ascending=True).iloc[:25, ]\n",
    "big_alpha =  stock_pool.sort_values(\"Alpha\", ascending=False).iloc[:25, ]"
   ]
  },
  {
   "cell_type": "markdown",
   "metadata": {},
   "source": [
    "# Answer each question (7 in total)"
   ]
  },
  {
   "cell_type": "markdown",
   "metadata": {},
   "source": [
    "### 1. Make a table to show the $\\alpha$ and $\\beta$ of the stocks you pick for these two portfolios with data from the 2008-2012 estimation period. Please include the standard deviations of your parameters as well."
   ]
  },
  {
   "cell_type": "markdown",
   "metadata": {},
   "source": [
    "**Table for small alpha portfolio:**"
   ]
  },
  {
   "cell_type": "code",
   "execution_count": 15,
   "metadata": {},
   "outputs": [
    {
     "data": {
      "text/html": [
       "<div>\n",
       "<style scoped>\n",
       "    .dataframe tbody tr th:only-of-type {\n",
       "        vertical-align: middle;\n",
       "    }\n",
       "\n",
       "    .dataframe tbody tr th {\n",
       "        vertical-align: top;\n",
       "    }\n",
       "\n",
       "    .dataframe thead th {\n",
       "        text-align: right;\n",
       "    }\n",
       "</style>\n",
       "<table border=\"1\" class=\"dataframe\">\n",
       "  <thead>\n",
       "    <tr style=\"text-align: right;\">\n",
       "      <th></th>\n",
       "      <th></th>\n",
       "      <th>Alpha</th>\n",
       "      <th>Beta</th>\n",
       "      <th>Alpha_std_err</th>\n",
       "      <th>Beta_std_err</th>\n",
       "    </tr>\n",
       "    <tr>\n",
       "      <th>PERMNO</th>\n",
       "      <th></th>\n",
       "      <th></th>\n",
       "      <th></th>\n",
       "      <th></th>\n",
       "      <th></th>\n",
       "    </tr>\n",
       "  </thead>\n",
       "  <tbody>\n",
       "    <tr>\n",
       "      <th>87337</th>\n",
       "      <th>0</th>\n",
       "      <td>-0.048067</td>\n",
       "      <td>1.089437</td>\n",
       "      <td>0.028216</td>\n",
       "      <td>0.504273</td>\n",
       "    </tr>\n",
       "    <tr>\n",
       "      <th>90640</th>\n",
       "      <th>0</th>\n",
       "      <td>-0.044021</td>\n",
       "      <td>1.119909</td>\n",
       "      <td>0.018091</td>\n",
       "      <td>0.323321</td>\n",
       "    </tr>\n",
       "    <tr>\n",
       "      <th>88572</th>\n",
       "      <th>0</th>\n",
       "      <td>-0.039867</td>\n",
       "      <td>1.189086</td>\n",
       "      <td>0.032221</td>\n",
       "      <td>0.575845</td>\n",
       "    </tr>\n",
       "    <tr>\n",
       "      <th>93128</th>\n",
       "      <th>0</th>\n",
       "      <td>-0.034293</td>\n",
       "      <td>1.145799</td>\n",
       "      <td>0.012203</td>\n",
       "      <td>0.266196</td>\n",
       "    </tr>\n",
       "    <tr>\n",
       "      <th>44951</th>\n",
       "      <th>0</th>\n",
       "      <td>-0.031884</td>\n",
       "      <td>1.156390</td>\n",
       "      <td>0.018594</td>\n",
       "      <td>0.332315</td>\n",
       "    </tr>\n",
       "    <tr>\n",
       "      <th>90964</th>\n",
       "      <th>0</th>\n",
       "      <td>-0.029293</td>\n",
       "      <td>1.199025</td>\n",
       "      <td>0.019477</td>\n",
       "      <td>0.348100</td>\n",
       "    </tr>\n",
       "    <tr>\n",
       "      <th>11513</th>\n",
       "      <th>0</th>\n",
       "      <td>-0.027248</td>\n",
       "      <td>0.984010</td>\n",
       "      <td>0.022763</td>\n",
       "      <td>0.406827</td>\n",
       "    </tr>\n",
       "    <tr>\n",
       "      <th>92935</th>\n",
       "      <th>0</th>\n",
       "      <td>-0.025320</td>\n",
       "      <td>0.962562</td>\n",
       "      <td>0.020286</td>\n",
       "      <td>0.442739</td>\n",
       "    </tr>\n",
       "    <tr>\n",
       "      <th>83704</th>\n",
       "      <th>0</th>\n",
       "      <td>-0.025193</td>\n",
       "      <td>0.892579</td>\n",
       "      <td>0.018675</td>\n",
       "      <td>0.323887</td>\n",
       "    </tr>\n",
       "    <tr>\n",
       "      <th>46392</th>\n",
       "      <th>0</th>\n",
       "      <td>-0.024438</td>\n",
       "      <td>1.164006</td>\n",
       "      <td>0.012723</td>\n",
       "      <td>0.227384</td>\n",
       "    </tr>\n",
       "    <tr>\n",
       "      <th>83113</th>\n",
       "      <th>0</th>\n",
       "      <td>-0.023852</td>\n",
       "      <td>0.947974</td>\n",
       "      <td>0.023231</td>\n",
       "      <td>0.432581</td>\n",
       "    </tr>\n",
       "    <tr>\n",
       "      <th>92919</th>\n",
       "      <th>0</th>\n",
       "      <td>-0.023449</td>\n",
       "      <td>0.864853</td>\n",
       "      <td>0.019530</td>\n",
       "      <td>0.424824</td>\n",
       "    </tr>\n",
       "    <tr>\n",
       "      <th>91754</th>\n",
       "      <th>0</th>\n",
       "      <td>-0.023417</td>\n",
       "      <td>1.142327</td>\n",
       "      <td>0.015441</td>\n",
       "      <td>0.275968</td>\n",
       "    </tr>\n",
       "    <tr>\n",
       "      <th>38850</th>\n",
       "      <th>0</th>\n",
       "      <td>-0.022475</td>\n",
       "      <td>1.034757</td>\n",
       "      <td>0.018581</td>\n",
       "      <td>0.332072</td>\n",
       "    </tr>\n",
       "    <tr>\n",
       "      <th>89048</th>\n",
       "      <th>0</th>\n",
       "      <td>-0.022004</td>\n",
       "      <td>0.841682</td>\n",
       "      <td>0.020373</td>\n",
       "      <td>0.364103</td>\n",
       "    </tr>\n",
       "    <tr>\n",
       "      <th>89659</th>\n",
       "      <th>0</th>\n",
       "      <td>-0.021959</td>\n",
       "      <td>1.052164</td>\n",
       "      <td>0.017816</td>\n",
       "      <td>0.318408</td>\n",
       "    </tr>\n",
       "    <tr>\n",
       "      <th>84746</th>\n",
       "      <th>0</th>\n",
       "      <td>-0.021946</td>\n",
       "      <td>1.090274</td>\n",
       "      <td>0.028402</td>\n",
       "      <td>0.507593</td>\n",
       "    </tr>\n",
       "    <tr>\n",
       "      <th>92941</th>\n",
       "      <th>0</th>\n",
       "      <td>-0.021076</td>\n",
       "      <td>1.029066</td>\n",
       "      <td>0.013489</td>\n",
       "      <td>0.297481</td>\n",
       "    </tr>\n",
       "    <tr>\n",
       "      <th>91088</th>\n",
       "      <th>0</th>\n",
       "      <td>-0.021068</td>\n",
       "      <td>1.010165</td>\n",
       "      <td>0.023465</td>\n",
       "      <td>0.419366</td>\n",
       "    </tr>\n",
       "    <tr>\n",
       "      <th>77425</th>\n",
       "      <th>0</th>\n",
       "      <td>-0.020694</td>\n",
       "      <td>0.839286</td>\n",
       "      <td>0.013929</td>\n",
       "      <td>0.248930</td>\n",
       "    </tr>\n",
       "    <tr>\n",
       "      <th>79689</th>\n",
       "      <th>0</th>\n",
       "      <td>-0.020477</td>\n",
       "      <td>0.823734</td>\n",
       "      <td>0.016628</td>\n",
       "      <td>0.297170</td>\n",
       "    </tr>\n",
       "    <tr>\n",
       "      <th>83602</th>\n",
       "      <th>0</th>\n",
       "      <td>-0.020025</td>\n",
       "      <td>1.140384</td>\n",
       "      <td>0.013574</td>\n",
       "      <td>0.242588</td>\n",
       "    </tr>\n",
       "    <tr>\n",
       "      <th>27828</th>\n",
       "      <th>0</th>\n",
       "      <td>-0.019239</td>\n",
       "      <td>1.071380</td>\n",
       "      <td>0.008729</td>\n",
       "      <td>0.156012</td>\n",
       "    </tr>\n",
       "    <tr>\n",
       "      <th>87430</th>\n",
       "      <th>0</th>\n",
       "      <td>-0.019019</td>\n",
       "      <td>1.194072</td>\n",
       "      <td>0.016690</td>\n",
       "      <td>0.298276</td>\n",
       "    </tr>\n",
       "    <tr>\n",
       "      <th>87424</th>\n",
       "      <th>0</th>\n",
       "      <td>-0.018367</td>\n",
       "      <td>0.984148</td>\n",
       "      <td>0.020955</td>\n",
       "      <td>0.374513</td>\n",
       "    </tr>\n",
       "  </tbody>\n",
       "</table>\n",
       "</div>"
      ],
      "text/plain": [
       "             Alpha      Beta  Alpha_std_err  Beta_std_err\n",
       "PERMNO                                                   \n",
       "87337  0 -0.048067  1.089437       0.028216      0.504273\n",
       "90640  0 -0.044021  1.119909       0.018091      0.323321\n",
       "88572  0 -0.039867  1.189086       0.032221      0.575845\n",
       "93128  0 -0.034293  1.145799       0.012203      0.266196\n",
       "44951  0 -0.031884  1.156390       0.018594      0.332315\n",
       "90964  0 -0.029293  1.199025       0.019477      0.348100\n",
       "11513  0 -0.027248  0.984010       0.022763      0.406827\n",
       "92935  0 -0.025320  0.962562       0.020286      0.442739\n",
       "83704  0 -0.025193  0.892579       0.018675      0.323887\n",
       "46392  0 -0.024438  1.164006       0.012723      0.227384\n",
       "83113  0 -0.023852  0.947974       0.023231      0.432581\n",
       "92919  0 -0.023449  0.864853       0.019530      0.424824\n",
       "91754  0 -0.023417  1.142327       0.015441      0.275968\n",
       "38850  0 -0.022475  1.034757       0.018581      0.332072\n",
       "89048  0 -0.022004  0.841682       0.020373      0.364103\n",
       "89659  0 -0.021959  1.052164       0.017816      0.318408\n",
       "84746  0 -0.021946  1.090274       0.028402      0.507593\n",
       "92941  0 -0.021076  1.029066       0.013489      0.297481\n",
       "91088  0 -0.021068  1.010165       0.023465      0.419366\n",
       "77425  0 -0.020694  0.839286       0.013929      0.248930\n",
       "79689  0 -0.020477  0.823734       0.016628      0.297170\n",
       "83602  0 -0.020025  1.140384       0.013574      0.242588\n",
       "27828  0 -0.019239  1.071380       0.008729      0.156012\n",
       "87430  0 -0.019019  1.194072       0.016690      0.298276\n",
       "87424  0 -0.018367  0.984148       0.020955      0.374513"
      ]
     },
     "execution_count": 15,
     "metadata": {},
     "output_type": "execute_result"
    }
   ],
   "source": [
    "result = small_alpha[[\"Alpha\", \"Beta\", \"Alpha_std_err\", \"Beta_std_err\"]]\n",
    "result"
   ]
  },
  {
   "cell_type": "markdown",
   "metadata": {},
   "source": [
    "**Table for big alpha portfolio:**"
   ]
  },
  {
   "cell_type": "code",
   "execution_count": 16,
   "metadata": {},
   "outputs": [
    {
     "data": {
      "text/html": [
       "<div>\n",
       "<style scoped>\n",
       "    .dataframe tbody tr th:only-of-type {\n",
       "        vertical-align: middle;\n",
       "    }\n",
       "\n",
       "    .dataframe tbody tr th {\n",
       "        vertical-align: top;\n",
       "    }\n",
       "\n",
       "    .dataframe thead th {\n",
       "        text-align: right;\n",
       "    }\n",
       "</style>\n",
       "<table border=\"1\" class=\"dataframe\">\n",
       "  <thead>\n",
       "    <tr style=\"text-align: right;\">\n",
       "      <th></th>\n",
       "      <th></th>\n",
       "      <th>Alpha</th>\n",
       "      <th>Beta</th>\n",
       "      <th>Alpha_std_err</th>\n",
       "      <th>Beta_std_err</th>\n",
       "    </tr>\n",
       "    <tr>\n",
       "      <th>PERMNO</th>\n",
       "      <th></th>\n",
       "      <th></th>\n",
       "      <th></th>\n",
       "      <th></th>\n",
       "      <th></th>\n",
       "    </tr>\n",
       "  </thead>\n",
       "  <tbody>\n",
       "    <tr>\n",
       "      <th>79588</th>\n",
       "      <th>0</th>\n",
       "      <td>0.042315</td>\n",
       "      <td>1.027434</td>\n",
       "      <td>0.025369</td>\n",
       "      <td>0.453398</td>\n",
       "    </tr>\n",
       "    <tr>\n",
       "      <th>76614</th>\n",
       "      <th>0</th>\n",
       "      <td>0.041599</td>\n",
       "      <td>1.080628</td>\n",
       "      <td>0.019969</td>\n",
       "      <td>0.356878</td>\n",
       "    </tr>\n",
       "    <tr>\n",
       "      <th>88208</th>\n",
       "      <th>0</th>\n",
       "      <td>0.039476</td>\n",
       "      <td>1.170401</td>\n",
       "      <td>0.032026</td>\n",
       "      <td>0.572360</td>\n",
       "    </tr>\n",
       "    <tr>\n",
       "      <th>81084</th>\n",
       "      <th>0</th>\n",
       "      <td>0.037965</td>\n",
       "      <td>1.126172</td>\n",
       "      <td>0.026290</td>\n",
       "      <td>0.469860</td>\n",
       "    </tr>\n",
       "    <tr>\n",
       "      <th>83633</th>\n",
       "      <th>0</th>\n",
       "      <td>0.037962</td>\n",
       "      <td>1.151116</td>\n",
       "      <td>0.020971</td>\n",
       "      <td>0.374800</td>\n",
       "    </tr>\n",
       "    <tr>\n",
       "      <th>88167</th>\n",
       "      <th>0</th>\n",
       "      <td>0.036096</td>\n",
       "      <td>1.132384</td>\n",
       "      <td>0.014092</td>\n",
       "      <td>0.251854</td>\n",
       "    </tr>\n",
       "    <tr>\n",
       "      <th>91899</th>\n",
       "      <th>0</th>\n",
       "      <td>0.035274</td>\n",
       "      <td>0.996847</td>\n",
       "      <td>0.017528</td>\n",
       "      <td>0.313268</td>\n",
       "    </tr>\n",
       "    <tr>\n",
       "      <th>77289</th>\n",
       "      <th>0</th>\n",
       "      <td>0.033513</td>\n",
       "      <td>0.837130</td>\n",
       "      <td>0.021990</td>\n",
       "      <td>0.389864</td>\n",
       "    </tr>\n",
       "    <tr>\n",
       "      <th>45225</th>\n",
       "      <th>0</th>\n",
       "      <td>0.033167</td>\n",
       "      <td>0.978704</td>\n",
       "      <td>0.026237</td>\n",
       "      <td>0.468912</td>\n",
       "    </tr>\n",
       "    <tr>\n",
       "      <th>80485</th>\n",
       "      <th>0</th>\n",
       "      <td>0.032540</td>\n",
       "      <td>1.171240</td>\n",
       "      <td>0.027018</td>\n",
       "      <td>0.482857</td>\n",
       "    </tr>\n",
       "    <tr>\n",
       "      <th>84546</th>\n",
       "      <th>0</th>\n",
       "      <td>0.031191</td>\n",
       "      <td>0.908730</td>\n",
       "      <td>0.015409</td>\n",
       "      <td>0.273190</td>\n",
       "    </tr>\n",
       "    <tr>\n",
       "      <th>89964</th>\n",
       "      <th>0</th>\n",
       "      <td>0.029991</td>\n",
       "      <td>1.196749</td>\n",
       "      <td>0.022915</td>\n",
       "      <td>0.409530</td>\n",
       "    </tr>\n",
       "    <tr>\n",
       "      <th>91977</th>\n",
       "      <th>0</th>\n",
       "      <td>0.029044</td>\n",
       "      <td>1.160330</td>\n",
       "      <td>0.016194</td>\n",
       "      <td>0.289419</td>\n",
       "    </tr>\n",
       "    <tr>\n",
       "      <th>80286</th>\n",
       "      <th>0</th>\n",
       "      <td>0.028156</td>\n",
       "      <td>0.807910</td>\n",
       "      <td>0.009886</td>\n",
       "      <td>0.176680</td>\n",
       "    </tr>\n",
       "    <tr>\n",
       "      <th>91095</th>\n",
       "      <th>0</th>\n",
       "      <td>0.027346</td>\n",
       "      <td>0.903355</td>\n",
       "      <td>0.018841</td>\n",
       "      <td>0.336727</td>\n",
       "    </tr>\n",
       "    <tr>\n",
       "      <th>36898</th>\n",
       "      <th>0</th>\n",
       "      <td>0.026603</td>\n",
       "      <td>1.132246</td>\n",
       "      <td>0.014980</td>\n",
       "      <td>0.267725</td>\n",
       "    </tr>\n",
       "    <tr>\n",
       "      <th>11174</th>\n",
       "      <th>0</th>\n",
       "      <td>0.026473</td>\n",
       "      <td>0.973186</td>\n",
       "      <td>0.016857</td>\n",
       "      <td>0.301274</td>\n",
       "    </tr>\n",
       "    <tr>\n",
       "      <th>76695</th>\n",
       "      <th>0</th>\n",
       "      <td>0.025858</td>\n",
       "      <td>0.863827</td>\n",
       "      <td>0.009843</td>\n",
       "      <td>0.175906</td>\n",
       "    </tr>\n",
       "    <tr>\n",
       "      <th>91463</th>\n",
       "      <th>0</th>\n",
       "      <td>0.025655</td>\n",
       "      <td>0.841263</td>\n",
       "      <td>0.016380</td>\n",
       "      <td>0.292748</td>\n",
       "    </tr>\n",
       "    <tr>\n",
       "      <th>77630</th>\n",
       "      <th>0</th>\n",
       "      <td>0.025593</td>\n",
       "      <td>1.104622</td>\n",
       "      <td>0.022963</td>\n",
       "      <td>0.410390</td>\n",
       "    </tr>\n",
       "    <tr>\n",
       "      <th>90634</th>\n",
       "      <th>0</th>\n",
       "      <td>0.025579</td>\n",
       "      <td>0.989702</td>\n",
       "      <td>0.012293</td>\n",
       "      <td>0.219700</td>\n",
       "    </tr>\n",
       "    <tr>\n",
       "      <th>43481</th>\n",
       "      <th>0</th>\n",
       "      <td>0.025443</td>\n",
       "      <td>0.966042</td>\n",
       "      <td>0.016473</td>\n",
       "      <td>0.294408</td>\n",
       "    </tr>\n",
       "    <tr>\n",
       "      <th>92239</th>\n",
       "      <th>0</th>\n",
       "      <td>0.025219</td>\n",
       "      <td>1.172504</td>\n",
       "      <td>0.011854</td>\n",
       "      <td>0.211852</td>\n",
       "    </tr>\n",
       "    <tr>\n",
       "      <th>10180</th>\n",
       "      <th>0</th>\n",
       "      <td>0.025187</td>\n",
       "      <td>1.121318</td>\n",
       "      <td>0.023336</td>\n",
       "      <td>0.417065</td>\n",
       "    </tr>\n",
       "    <tr>\n",
       "      <th>90353</th>\n",
       "      <th>0</th>\n",
       "      <td>0.024905</td>\n",
       "      <td>1.151533</td>\n",
       "      <td>0.011216</td>\n",
       "      <td>0.200459</td>\n",
       "    </tr>\n",
       "  </tbody>\n",
       "</table>\n",
       "</div>"
      ],
      "text/plain": [
       "             Alpha      Beta  Alpha_std_err  Beta_std_err\n",
       "PERMNO                                                   \n",
       "79588  0  0.042315  1.027434       0.025369      0.453398\n",
       "76614  0  0.041599  1.080628       0.019969      0.356878\n",
       "88208  0  0.039476  1.170401       0.032026      0.572360\n",
       "81084  0  0.037965  1.126172       0.026290      0.469860\n",
       "83633  0  0.037962  1.151116       0.020971      0.374800\n",
       "88167  0  0.036096  1.132384       0.014092      0.251854\n",
       "91899  0  0.035274  0.996847       0.017528      0.313268\n",
       "77289  0  0.033513  0.837130       0.021990      0.389864\n",
       "45225  0  0.033167  0.978704       0.026237      0.468912\n",
       "80485  0  0.032540  1.171240       0.027018      0.482857\n",
       "84546  0  0.031191  0.908730       0.015409      0.273190\n",
       "89964  0  0.029991  1.196749       0.022915      0.409530\n",
       "91977  0  0.029044  1.160330       0.016194      0.289419\n",
       "80286  0  0.028156  0.807910       0.009886      0.176680\n",
       "91095  0  0.027346  0.903355       0.018841      0.336727\n",
       "36898  0  0.026603  1.132246       0.014980      0.267725\n",
       "11174  0  0.026473  0.973186       0.016857      0.301274\n",
       "76695  0  0.025858  0.863827       0.009843      0.175906\n",
       "91463  0  0.025655  0.841263       0.016380      0.292748\n",
       "77630  0  0.025593  1.104622       0.022963      0.410390\n",
       "90634  0  0.025579  0.989702       0.012293      0.219700\n",
       "43481  0  0.025443  0.966042       0.016473      0.294408\n",
       "92239  0  0.025219  1.172504       0.011854      0.211852\n",
       "10180  0  0.025187  1.121318       0.023336      0.417065\n",
       "90353  0  0.024905  1.151533       0.011216      0.200459"
      ]
     },
     "execution_count": 16,
     "metadata": {},
     "output_type": "execute_result"
    }
   ],
   "source": [
    "result = big_alpha[[\"Alpha\", \"Beta\", \"Alpha_std_err\", \"Beta_std_err\"]]\n",
    "result"
   ]
  },
  {
   "cell_type": "markdown",
   "metadata": {},
   "source": [
    "### 2. Please report the summary statistics of the returns on the two portfolios you constructed as well as the market portfolio (RM) and riskfree asset returns (RF). Use the sample period from 2008 to 2012 for this question. Some of the stocks might not have 5 year full history here, you are allowed to have a portfolio with less than 25 stocks for earlier months. What you need to present are mean, standard deviation, minimum, and maximum of the returns. Please note that RM = MKTRF + RF."
   ]
  },
  {
   "cell_type": "markdown",
   "metadata": {},
   "source": [
    "**Define function to deal with data:**"
   ]
  },
  {
   "cell_type": "code",
   "execution_count": 17,
   "metadata": {},
   "outputs": [],
   "source": [
    "# define function to shift MKTCAP\n",
    "def shift_MKTCAP(data):\n",
    "    data = data.copy()\n",
    "    data.sort_values(\"DATE\", inplace=True)\n",
    "    shifted_data = data.shift()\n",
    "    selected_column = pd.DataFrame(shifted_data[\"MKTCAP\"])\n",
    "    selected_column.rename(columns={\"MKTCAP\": \"LMKTCAP\"}, inplace=True)\n",
    "    return pd.concat([data, selected_column], axis=1)\n",
    "\n",
    "# define finction to calculate weights\n",
    "def calcuate_weight(data):\n",
    "    weights = data[\"LMKTCAP\"] / sum(data[\"LMKTCAP\"])\n",
    "    weights = pd.DataFrame(weights)\n",
    "    weights.rename(columns={\"LMKTCAP\": \"WGT\"}, inplace=True)\n",
    "    return pd.concat([data, weights], axis=1)"
   ]
  },
  {
   "cell_type": "markdown",
   "metadata": {},
   "source": [
    "**Deal with small $\\alpha$ portfolio:**"
   ]
  },
  {
   "cell_type": "code",
   "execution_count": 18,
   "metadata": {
    "scrolled": true
   },
   "outputs": [],
   "source": [
    "# create list for small alpha portfolio\n",
    "small_alpha_list = small_alpha.index.get_level_values(0)\n",
    "\n",
    "# create index to find stocks from \"Sample\" dataset for small alpha stocks\n",
    "small_alpha_index = Sample.PERMNO.apply(\n",
    "    lambda x: x in set(small_alpha.index.get_level_values(0))\n",
    ")\n",
    "\n",
    "# create dataset \"small_alpha_stocks\"\n",
    "small_alpha_stocks = Sample[small_alpha_index]\n",
    "\n",
    "# create new column \"MKTCAP\" to store market cap\n",
    "small_alpha_stocks = small_alpha_stocks.copy()\n",
    "small_alpha_stocks[\"MKTCAP\"] = small_alpha_stocks[\"PRC\"] * small_alpha_stocks[\"SHROUT\"]\n",
    "\n",
    "# group small_alpha_stocks by \"PERMNO\" column, and apply \"shift_MKTCAP\" function to each group\n",
    "small_alpha_stocks = small_alpha_stocks.groupby(\"PERMNO\").apply(\n",
    "    lambda x:shift_MKTCAP(x)\n",
    ")\n",
    "\n",
    "# ungroup small_alpha_stocks \n",
    "# drop \"PERMNO\" column first, so it could put the group key \"PERMNO\" back to the column\n",
    "small_alpha_stocks = small_alpha_stocks.drop(\"PERMNO\", axis=1).reset_index(level=False)\n",
    "\n",
    "# group small_alpha_stocks by \"DATE\" column, and apply \"calcuate_weight\" function to each group\n",
    "small_alpha_stocks = small_alpha_stocks.dropna().groupby(\"DATE\").apply(\n",
    "    lambda x: calcuate_weight(x)\n",
    ")\n",
    "\n",
    "# calculate each stock's return according to its weight\n",
    "small_alpha_stocks[\"VWPRet\"] = small_alpha_stocks[\"RET\"] * small_alpha_stocks[\"WGT\"]\n",
    "\n",
    "# calculate portfolio's return according to each time frame\n",
    "small_alpha_return = small_alpha_stocks.groupby(\"DATE\").sum()[\"VWPRet\"]\n",
    "small_alpha_return = pd.DataFrame(small_alpha_return)"
   ]
  },
  {
   "cell_type": "markdown",
   "metadata": {},
   "source": [
    "**Deal with big 𝛼 portfolio:**"
   ]
  },
  {
   "cell_type": "code",
   "execution_count": 19,
   "metadata": {},
   "outputs": [],
   "source": [
    "# create list for big alpha portfolio\n",
    "big_alpha_list = big_alpha.index.get_level_values(0)\n",
    "\n",
    "# create index to find stocks from \"Sample\" dataset for big alpha stocks\n",
    "big_alpha_index = Sample.PERMNO.apply(\n",
    "    lambda x: x in set(big_alpha.index.get_level_values(0))\n",
    ")\n",
    "\n",
    "# create dataset \"big_alpha_stocks\"\n",
    "big_alpha_stocks = Sample[big_alpha_index]\n",
    "\n",
    "# create new column \"MKTCAP\" to store market cap\n",
    "big_alpha_stocks = big_alpha_stocks.copy()\n",
    "big_alpha_stocks[\"MKTCAP\"] = big_alpha_stocks[\"PRC\"] * big_alpha_stocks[\"SHROUT\"]\n",
    "\n",
    "# group big_alpha_stocks by \"PERMNO\" column, and apply \"shift_MKTCAP\" function to each group\n",
    "big_alpha_stocks = big_alpha_stocks.groupby(\"PERMNO\").apply(\n",
    "    lambda x:shift_MKTCAP(x)\n",
    ")\n",
    "\n",
    "# ungroup big_alpha_stocks \n",
    "# drop \"PERMNO\" column first, so it could put the group key \"PERMNO\" back to the column\n",
    "big_alpha_stocks = big_alpha_stocks.drop(\"PERMNO\", axis=1).reset_index(level=False)\n",
    "\n",
    "# group big_alpha_stocks by \"DATE\" column, and apply \"calcuate_weight\" function to each group\n",
    "big_alpha_stocks = big_alpha_stocks.dropna().groupby(\"DATE\").apply(\n",
    "    lambda x: calcuate_weight(x)\n",
    ")\n",
    "\n",
    "# calculate each stock's return according to its weight\n",
    "big_alpha_stocks[\"VWPRet\"] = big_alpha_stocks[\"RET\"] * big_alpha_stocks[\"WGT\"]\n",
    "\n",
    "# calculate portfolio's return according to each time frame\n",
    "big_alpha_return = big_alpha_stocks.groupby(\"DATE\").sum()[\"VWPRet\"]\n",
    "big_alpha_return = pd.DataFrame(big_alpha_return)"
   ]
  },
  {
   "cell_type": "markdown",
   "metadata": {},
   "source": [
    "**Prepare summary statistics for small $\\alpha$ portfolio:**"
   ]
  },
  {
   "cell_type": "code",
   "execution_count": 20,
   "metadata": {
    "scrolled": true
   },
   "outputs": [],
   "source": [
    "# calculate market portfolio's return\n",
    "RM[\"RM\"] = RM[\"RF\"] + RM[\"MKTRF\"]\n",
    "\n",
    "# create \"DATE\" column(key) to merge \"small_alpha_return\" and \"RM\"\n",
    "small_alpha_return[\"DATE\"] = small_alpha_return.index\n",
    "\n",
    "# merge \"small_alpha_return\" and \"RM\"\n",
    "small_alpha_result = small_alpha_return.merge(RM, on=\"DATE\")\n",
    "\n",
    "# select data which lie between 2008/1/1~2012/12/31\n",
    "small_alpha_temp_return = small_alpha_result[(small_alpha_result.DATE > date_start) & \n",
    "                                             (small_alpha_result.DATE <= date_end)]\n",
    "\n",
    "# drop redundant column\n",
    "small_alpha_temp_return = small_alpha_temp_return.drop([\"DATE\", \"MKTRF\"], axis=1)\n",
    "\n",
    "# rename columns\n",
    "small_alpha_temp_return.columns = [\"Small alpha portfolio\", \"Risk free rate\", \"Market portfolio\"]"
   ]
  },
  {
   "cell_type": "markdown",
   "metadata": {},
   "source": [
    "**Prepare summary statistics for big $\\alpha$ portfolio:**"
   ]
  },
  {
   "cell_type": "code",
   "execution_count": 21,
   "metadata": {},
   "outputs": [],
   "source": [
    "# create \"DATE\" column(key) to merge \"big_alpha_return\" and \"RM\"\n",
    "big_alpha_return[\"DATE\"] = big_alpha_return.index\n",
    "\n",
    "# merge \"big_alpha_return\" and \"RM\"\n",
    "big_alpha_result = big_alpha_return.merge(RM, on=\"DATE\")\n",
    "\n",
    "# select data which lie between 2008/1/1~2012/12/31\n",
    "big_alpha_temp_return = big_alpha_result[(big_alpha_result.DATE > date_start) & \n",
    "                                             (big_alpha_result.DATE <= date_end)]\n",
    "\n",
    "# drop redundant column\n",
    "big_alpha_temp_return = big_alpha_temp_return.drop([\"DATE\", \"MKTRF\"], axis=1)\n",
    "\n",
    "# rename columns\n",
    "big_alpha_temp_return.columns = [\"Big alpha portfolio\", \"Risk free rate\", \"Market portfolio\"]"
   ]
  },
  {
   "cell_type": "markdown",
   "metadata": {},
   "source": [
    "**Summary statistics for big, small $\\alpha$ portfolio, market portfolio, and risk free rate:**"
   ]
  },
  {
   "cell_type": "code",
   "execution_count": 22,
   "metadata": {
    "scrolled": true
   },
   "outputs": [
    {
     "data": {
      "text/html": [
       "<div>\n",
       "<style scoped>\n",
       "    .dataframe tbody tr th:only-of-type {\n",
       "        vertical-align: middle;\n",
       "    }\n",
       "\n",
       "    .dataframe tbody tr th {\n",
       "        vertical-align: top;\n",
       "    }\n",
       "\n",
       "    .dataframe thead th {\n",
       "        text-align: right;\n",
       "    }\n",
       "</style>\n",
       "<table border=\"1\" class=\"dataframe\">\n",
       "  <thead>\n",
       "    <tr style=\"text-align: right;\">\n",
       "      <th></th>\n",
       "      <th>count</th>\n",
       "      <th>mean</th>\n",
       "      <th>std</th>\n",
       "      <th>min</th>\n",
       "      <th>25%</th>\n",
       "      <th>50%</th>\n",
       "      <th>75%</th>\n",
       "      <th>max</th>\n",
       "    </tr>\n",
       "  </thead>\n",
       "  <tbody>\n",
       "    <tr>\n",
       "      <th>Big alpha portfolio</th>\n",
       "      <td>60.0</td>\n",
       "      <td>0.026257</td>\n",
       "      <td>0.074591</td>\n",
       "      <td>-0.166426</td>\n",
       "      <td>-0.022723</td>\n",
       "      <td>0.027346</td>\n",
       "      <td>0.070567</td>\n",
       "      <td>0.173332</td>\n",
       "    </tr>\n",
       "    <tr>\n",
       "      <th>Small alpha portfolio</th>\n",
       "      <td>60.0</td>\n",
       "      <td>-0.016681</td>\n",
       "      <td>0.086536</td>\n",
       "      <td>-0.249492</td>\n",
       "      <td>-0.070752</td>\n",
       "      <td>-0.012585</td>\n",
       "      <td>0.044150</td>\n",
       "      <td>0.176125</td>\n",
       "    </tr>\n",
       "    <tr>\n",
       "      <th>Market portfolio</th>\n",
       "      <td>60.0</td>\n",
       "      <td>0.003395</td>\n",
       "      <td>0.056189</td>\n",
       "      <td>-0.171500</td>\n",
       "      <td>-0.026825</td>\n",
       "      <td>0.009900</td>\n",
       "      <td>0.038900</td>\n",
       "      <td>0.113500</td>\n",
       "    </tr>\n",
       "    <tr>\n",
       "      <th>Risk free rate</th>\n",
       "      <td>60.0</td>\n",
       "      <td>0.000312</td>\n",
       "      <td>0.000579</td>\n",
       "      <td>0.000000</td>\n",
       "      <td>0.000000</td>\n",
       "      <td>0.000100</td>\n",
       "      <td>0.000100</td>\n",
       "      <td>0.002100</td>\n",
       "    </tr>\n",
       "  </tbody>\n",
       "</table>\n",
       "</div>"
      ],
      "text/plain": [
       "                       count      mean       std       min       25%  \\\n",
       "Big alpha portfolio     60.0  0.026257  0.074591 -0.166426 -0.022723   \n",
       "Small alpha portfolio   60.0 -0.016681  0.086536 -0.249492 -0.070752   \n",
       "Market portfolio        60.0  0.003395  0.056189 -0.171500 -0.026825   \n",
       "Risk free rate          60.0  0.000312  0.000579  0.000000  0.000000   \n",
       "\n",
       "                            50%       75%       max  \n",
       "Big alpha portfolio    0.027346  0.070567  0.173332  \n",
       "Small alpha portfolio -0.012585  0.044150  0.176125  \n",
       "Market portfolio       0.009900  0.038900  0.113500  \n",
       "Risk free rate         0.000100  0.000100  0.002100  "
      ]
     },
     "execution_count": 22,
     "metadata": {},
     "output_type": "execute_result"
    }
   ],
   "source": [
    "result = pd.concat([small_alpha_temp_return.describe(), \n",
    "                    big_alpha_temp_return.describe()], axis=1)\n",
    "\n",
    "result = result[[\"Big alpha portfolio\", \"Small alpha portfolio\", \n",
    "                 \"Market portfolio\", \"Risk free rate\"]]\n",
    "\n",
    "result.T.drop_duplicates()"
   ]
  },
  {
   "cell_type": "markdown",
   "metadata": {},
   "source": [
    "### 3. Please proceed with the stocks you picked to construct those two portfolios for the 2013-2017 period. Report your portfolio $\\alpha$ and $\\beta$ for this period and discuss whether your $\\alpha$ is still significant and whether your $\\beta$ remains insignificantly different from 1 for each portfolio."
   ]
  },
  {
   "cell_type": "markdown",
   "metadata": {},
   "source": [
    "**Define function for hypothesis testing:**"
   ]
  },
  {
   "cell_type": "code",
   "execution_count": 23,
   "metadata": {},
   "outputs": [],
   "source": [
    "def hypothesis_testing(data):\n",
    "    # calculate t value for the hypothesis testing for Beta(different from 1 or not)\n",
    "    Beta_t_value = (data[\"Beta\"] - 1) / data[\"Beta_std_err\"]\n",
    "    # transform the t value above to p value\n",
    "    Beta_p_value = t.sf(np.abs(Beta_t_value), len(reg_early)-1)\n",
    "    # prepare result for hypothesis testing\n",
    "    result = pd.concat([pd.DataFrame(data[[\"Alpha\", \"Beta\", \"Alpha_p_value\"]]),\n",
    "                        pd.DataFrame([Beta_p_value])], axis=1)\n",
    "    # rename column\n",
    "    result.rename(columns={0: \"Beta_p_value\"}, inplace=True)\n",
    "    return result"
   ]
  },
  {
   "cell_type": "markdown",
   "metadata": {},
   "source": [
    "**Run regression with small $\\alpha$ portfolio:**"
   ]
  },
  {
   "cell_type": "code",
   "execution_count": 24,
   "metadata": {
    "scrolled": true
   },
   "outputs": [],
   "source": [
    "# create new column \"RIRF\" for excess return on market\n",
    "small_alpha_result[\"RIRF\"] = small_alpha_result[\"VWPRet\"] - small_alpha_result[\"RF\"]\n",
    "\n",
    "# select data which lie between 2008/01/01 and 2012/12/31\n",
    "date_start = datetime.strptime(\"2008/01/01\", \"%Y/%m/%d\").date()\n",
    "date_end = datetime.strptime(\"2012/12/31\", \"%Y/%m/%d\").date()\n",
    "reg_early = small_alpha_result[(small_alpha_result.DATE > date_start) & \n",
    "                               (small_alpha_result.DATE <= date_end)]\n",
    "\n",
    "# select data which lie between 2013/01/01 and 2017/12/31\n",
    "date_start = datetime.strptime(\"2013/01/01\", \"%Y/%m/%d\").date()\n",
    "date_end = datetime.strptime(\"2017/12/31\", \"%Y/%m/%d\").date()\n",
    "reg_later = small_alpha_result[(small_alpha_result.DATE > date_start) &\n",
    "                               (small_alpha_result.DATE <= date_end)]\n",
    "\n",
    "# run regression for different time frame\n",
    "reg_early_result = run_regression(reg_early.MKTRF, reg_early.RIRF)\n",
    "reg_later_result = run_regression(reg_later.MKTRF, reg_later.RIRF)"
   ]
  },
  {
   "cell_type": "markdown",
   "metadata": {},
   "source": [
    "**Prepare hypothesis testing for small alpha portfolio:**"
   ]
  },
  {
   "cell_type": "code",
   "execution_count": 25,
   "metadata": {
    "scrolled": true
   },
   "outputs": [
    {
     "data": {
      "text/html": [
       "<div>\n",
       "<style scoped>\n",
       "    .dataframe tbody tr th:only-of-type {\n",
       "        vertical-align: middle;\n",
       "    }\n",
       "\n",
       "    .dataframe tbody tr th {\n",
       "        vertical-align: top;\n",
       "    }\n",
       "\n",
       "    .dataframe thead th {\n",
       "        text-align: right;\n",
       "    }\n",
       "</style>\n",
       "<table border=\"1\" class=\"dataframe\">\n",
       "  <thead>\n",
       "    <tr style=\"text-align: right;\">\n",
       "      <th></th>\n",
       "      <th>Alpha</th>\n",
       "      <th>Beta</th>\n",
       "      <th>Alpha_p_value</th>\n",
       "      <th>Beta_p_value</th>\n",
       "    </tr>\n",
       "  </thead>\n",
       "  <tbody>\n",
       "    <tr>\n",
       "      <th>2008~2012</th>\n",
       "      <td>-0.020303</td>\n",
       "      <td>1.073664</td>\n",
       "      <td>0.014724</td>\n",
       "      <td>0.305827</td>\n",
       "    </tr>\n",
       "    <tr>\n",
       "      <th>2013~2017</th>\n",
       "      <td>-0.000002</td>\n",
       "      <td>1.730446</td>\n",
       "      <td>0.999841</td>\n",
       "      <td>0.007823</td>\n",
       "    </tr>\n",
       "  </tbody>\n",
       "</table>\n",
       "</div>"
      ],
      "text/plain": [
       "              Alpha      Beta  Alpha_p_value  Beta_p_value\n",
       "2008~2012 -0.020303  1.073664       0.014724      0.305827\n",
       "2013~2017 -0.000002  1.730446       0.999841      0.007823"
      ]
     },
     "execution_count": 25,
     "metadata": {},
     "output_type": "execute_result"
    }
   ],
   "source": [
    "# run hypothesis for different time frame\n",
    "early_result = hypothesis_testing(reg_early_result)\n",
    "later_result = hypothesis_testing(reg_later_result)\n",
    "result = pd.concat([early_result, later_result]).T\n",
    "\n",
    "#rename column\n",
    "result.columns = [\"2008~2012\", \"2013~2017\"]\n",
    "result.T"
   ]
  },
  {
   "cell_type": "markdown",
   "metadata": {},
   "source": [
    "**Under 95% confidence level, null hypothesis and alternative hypothesis for $\\alpha$ and $\\beta$:**\n",
    "\n",
    "$\\alpha$:\n",
    "\n",
    "${H_0}$ : $\\alpha$ = 0\n",
    "\n",
    "${H_1}$ : $\\alpha$ $\\neq$ 0\n",
    "\n",
    "$\\beta$:\n",
    "\n",
    "${H_0}$ : $\\beta$ = 1\n",
    "\n",
    "${H_1}$ : $\\beta$ $\\neq$ 1\n",
    "\n",
    "From the table above, we find that $\\alpha$ is significantly different from 0, and $\\beta$ is insignificantly different from 1 in 2008~2012, which has met our expectation. However, $\\alpha$ is insignificantly different from 0, and $\\beta$ is significantly different from 1 in 2013~2017. It means risk-adjusted abnormal return might not exisit in this small $\\alpha$ portfolio after 2013. Its $\\beta$ is significantly different from 1, in this case 1.73, which means this portfolio's return is more volatile than market portfolio's return after 2013."
   ]
  },
  {
   "cell_type": "markdown",
   "metadata": {},
   "source": [
    "**Run regression with big $\\alpha$ portfolio:**"
   ]
  },
  {
   "cell_type": "code",
   "execution_count": 26,
   "metadata": {},
   "outputs": [],
   "source": [
    "# create new column \"RIRF\" for excess return on market\n",
    "big_alpha_result[\"RIRF\"] = big_alpha_result[\"VWPRet\"] - big_alpha_result[\"RF\"]\n",
    "\n",
    "# select data which lie between 2008/01/01 and 2012/12/31\n",
    "date_start = datetime.strptime(\"2008/01/01\", \"%Y/%m/%d\").date()\n",
    "date_end = datetime.strptime(\"2012/12/31\", \"%Y/%m/%d\").date()\n",
    "reg_early = big_alpha_result[(big_alpha_result.DATE > date_start) & \n",
    "                               (big_alpha_result.DATE <= date_end)]\n",
    "\n",
    "# select data which lie between 2013/01/01 and 2017/12/31\n",
    "date_start = datetime.strptime(\"2013/01/01\", \"%Y/%m/%d\").date()\n",
    "date_end = datetime.strptime(\"2017/12/31\", \"%Y/%m/%d\").date()\n",
    "reg_later = big_alpha_result[(big_alpha_result.DATE > date_start) &\n",
    "                               (big_alpha_result.DATE <= date_end)]\n",
    "\n",
    "# run regression\n",
    "reg_early_result = run_regression(reg_early.MKTRF, reg_early.RIRF)\n",
    "reg_later_result = run_regression(reg_later.MKTRF, reg_later.RIRF)"
   ]
  },
  {
   "cell_type": "markdown",
   "metadata": {},
   "source": [
    "**Prepare hypothesis testing for big alpha portfolio:**"
   ]
  },
  {
   "cell_type": "code",
   "execution_count": 27,
   "metadata": {
    "scrolled": true
   },
   "outputs": [
    {
     "data": {
      "text/html": [
       "<div>\n",
       "<style scoped>\n",
       "    .dataframe tbody tr th:only-of-type {\n",
       "        vertical-align: middle;\n",
       "    }\n",
       "\n",
       "    .dataframe tbody tr th {\n",
       "        vertical-align: top;\n",
       "    }\n",
       "\n",
       "    .dataframe thead th {\n",
       "        text-align: right;\n",
       "    }\n",
       "</style>\n",
       "<table border=\"1\" class=\"dataframe\">\n",
       "  <thead>\n",
       "    <tr style=\"text-align: right;\">\n",
       "      <th></th>\n",
       "      <th>Alpha</th>\n",
       "      <th>Beta</th>\n",
       "      <th>Alpha_p_value</th>\n",
       "      <th>Beta_p_value</th>\n",
       "    </tr>\n",
       "  </thead>\n",
       "  <tbody>\n",
       "    <tr>\n",
       "      <th>2008~2012</th>\n",
       "      <td>0.022990</td>\n",
       "      <td>0.958476</td>\n",
       "      <td>0.001156</td>\n",
       "      <td>0.365455</td>\n",
       "    </tr>\n",
       "    <tr>\n",
       "      <th>2013~2017</th>\n",
       "      <td>-0.005563</td>\n",
       "      <td>1.293111</td>\n",
       "      <td>0.342137</td>\n",
       "      <td>0.061585</td>\n",
       "    </tr>\n",
       "  </tbody>\n",
       "</table>\n",
       "</div>"
      ],
      "text/plain": [
       "              Alpha      Beta  Alpha_p_value  Beta_p_value\n",
       "2008~2012  0.022990  0.958476       0.001156      0.365455\n",
       "2013~2017 -0.005563  1.293111       0.342137      0.061585"
      ]
     },
     "execution_count": 27,
     "metadata": {},
     "output_type": "execute_result"
    }
   ],
   "source": [
    "# run hypothesis for different time frame\n",
    "early_result = hypothesis_testing(reg_early_result)\n",
    "later_result = hypothesis_testing(reg_later_result)\n",
    "result = pd.concat([early_result, later_result]).T\n",
    "\n",
    "#rename column\n",
    "result.columns = [\"2008~2012\", \"2013~2017\"]\n",
    "result.T"
   ]
  },
  {
   "cell_type": "markdown",
   "metadata": {},
   "source": [
    "**Under 95% confidence level, null hypothesis and alternative hypothesis for $\\alpha$ and $\\beta$:**\n",
    "\n",
    "$\\alpha$:\n",
    "\n",
    "${H_0}$ : $\\alpha$ = 0\n",
    "\n",
    "${H_1}$ : $\\alpha$ $\\neq$ 0\n",
    "\n",
    "$\\beta$:\n",
    "\n",
    "${H_0}$ : $\\beta$ = 1\n",
    "\n",
    "${H_1}$ : $\\beta$ $\\neq$ 1\n",
    "\n",
    "From the table above, we find that $\\alpha$ is significantly different from 0, and $\\beta$ is insignificantly different from 1 in 2008~2012, which has met our expectation. In 2013~2017, $\\alpha$ is insignificantly different from 0, and $\\beta$ is insignificantly different from 1. It means risk-adjusted abnormal return might not exisit in this big $\\alpha$ portfolio, and the volatility of this portfolio's return is insignificantly different from the volatility of market portfolio's return after 2013."
   ]
  },
  {
   "cell_type": "markdown",
   "metadata": {},
   "source": [
    "### 4. Present the performance of your portfolios from 2013 to 2017. Please report your portfolio returns and volatilities during these five years and compare them against the performance of the market portfolio."
   ]
  },
  {
   "cell_type": "markdown",
   "metadata": {},
   "source": [
    "**Comparison between small $\\alpha$ portfolio and market portfolio:**"
   ]
  },
  {
   "cell_type": "code",
   "execution_count": 71,
   "metadata": {},
   "outputs": [
    {
     "data": {
      "text/html": [
       "<div>\n",
       "<style scoped>\n",
       "    .dataframe tbody tr th:only-of-type {\n",
       "        vertical-align: middle;\n",
       "    }\n",
       "\n",
       "    .dataframe tbody tr th {\n",
       "        vertical-align: top;\n",
       "    }\n",
       "\n",
       "    .dataframe thead th {\n",
       "        text-align: right;\n",
       "    }\n",
       "</style>\n",
       "<table border=\"1\" class=\"dataframe\">\n",
       "  <thead>\n",
       "    <tr style=\"text-align: right;\">\n",
       "      <th></th>\n",
       "      <th>count</th>\n",
       "      <th>mean</th>\n",
       "      <th>std</th>\n",
       "      <th>min</th>\n",
       "      <th>25%</th>\n",
       "      <th>50%</th>\n",
       "      <th>75%</th>\n",
       "      <th>max</th>\n",
       "    </tr>\n",
       "  </thead>\n",
       "  <tbody>\n",
       "    <tr>\n",
       "      <th>Small alpha portfolio</th>\n",
       "      <td>60.0</td>\n",
       "      <td>0.022065</td>\n",
       "      <td>0.080649</td>\n",
       "      <td>-0.18308</td>\n",
       "      <td>-0.029709</td>\n",
       "      <td>0.024382</td>\n",
       "      <td>0.067850</td>\n",
       "      <td>0.198599</td>\n",
       "    </tr>\n",
       "    <tr>\n",
       "      <th>Market portfolio</th>\n",
       "      <td>60.0</td>\n",
       "      <td>0.012823</td>\n",
       "      <td>0.028548</td>\n",
       "      <td>-0.06040</td>\n",
       "      <td>-0.000525</td>\n",
       "      <td>0.013250</td>\n",
       "      <td>0.028875</td>\n",
       "      <td>0.077500</td>\n",
       "    </tr>\n",
       "  </tbody>\n",
       "</table>\n",
       "</div>"
      ],
      "text/plain": [
       "                       count      mean       std      min       25%       50%  \\\n",
       "Small alpha portfolio   60.0  0.022065  0.080649 -0.18308 -0.029709  0.024382   \n",
       "Market portfolio        60.0  0.012823  0.028548 -0.06040 -0.000525  0.013250   \n",
       "\n",
       "                            75%       max  \n",
       "Small alpha portfolio  0.067850  0.198599  \n",
       "Market portfolio       0.028875  0.077500  "
      ]
     },
     "execution_count": 71,
     "metadata": {},
     "output_type": "execute_result"
    }
   ],
   "source": [
    "# select data which lie between 2013~2017\n",
    "temp_result = small_alpha_result[(small_alpha_result.DATE > date_start) & \n",
    "                                 (small_alpha_result.DATE <= date_end)]\n",
    "\n",
    "# set \"DATE\" column as index(it will be convenient for plotting)\n",
    "temp_result.index = temp_result.DATE\n",
    "\n",
    "# select columns\n",
    "temp_result = temp_result[[\"VWPRet\", \"RM\"]]\n",
    "\n",
    "# rename columns \n",
    "temp_result.columns = [\"Small alpha portfolio\", \"Market portfolio\"]\n",
    "\n",
    "# comparison of small alpha portfolio and market portfolio\n",
    "temp_result.describe().T"
   ]
  },
  {
   "cell_type": "code",
   "execution_count": 72,
   "metadata": {
    "scrolled": false
   },
   "outputs": [
    {
     "data": {
      "image/png": "[encoded data removed]",
      "text/plain": [
       "<matplotlib.figure.Figure at 0x1facbefbef0>"
      ]
     },
     "metadata": {},
     "output_type": "display_data"
    }
   ],
   "source": [
    "# visualize portfolios' return\n",
    "plt.style.use('seaborn')\n",
    "plt.figure(figsize=(14, 8))\n",
    "plt.plot(temp_result[\"Small alpha portfolio\"], label=\"Small alpha portfolio\", marker=\".\", ms=10)\n",
    "plt.plot(temp_result[\"Market portfolio\"], label=\"Market portfolio\", marker=\".\", ms=10)\n",
    "plt.title(\"Return of portfolios\", size=14)\n",
    "plt.xlabel(\"Year\", size=14)\n",
    "plt.ylabel(\"Return\", size=14)\n",
    "plt.legend(fontsize=12);"
   ]
  },
  {
   "cell_type": "markdown",
   "metadata": {},
   "source": [
    "From the table and figure above, we can find that small $\\alpha$ portfolio is more volatile than market portfolio, and its average return is also higher than market portfolio, which exceed our expectation."
   ]
  },
  {
   "cell_type": "markdown",
   "metadata": {},
   "source": [
    "**Comparison between big $\\alpha$ portfolio and market portfolio:**"
   ]
  },
  {
   "cell_type": "code",
   "execution_count": 73,
   "metadata": {},
   "outputs": [
    {
     "data": {
      "text/html": [
       "<div>\n",
       "<style scoped>\n",
       "    .dataframe tbody tr th:only-of-type {\n",
       "        vertical-align: middle;\n",
       "    }\n",
       "\n",
       "    .dataframe tbody tr th {\n",
       "        vertical-align: top;\n",
       "    }\n",
       "\n",
       "    .dataframe thead th {\n",
       "        text-align: right;\n",
       "    }\n",
       "</style>\n",
       "<table border=\"1\" class=\"dataframe\">\n",
       "  <thead>\n",
       "    <tr style=\"text-align: right;\">\n",
       "      <th></th>\n",
       "      <th>count</th>\n",
       "      <th>mean</th>\n",
       "      <th>std</th>\n",
       "      <th>min</th>\n",
       "      <th>25%</th>\n",
       "      <th>50%</th>\n",
       "      <th>75%</th>\n",
       "      <th>max</th>\n",
       "    </tr>\n",
       "  </thead>\n",
       "  <tbody>\n",
       "    <tr>\n",
       "      <th>Big alpha portfolio</th>\n",
       "      <td>60.0</td>\n",
       "      <td>0.010969</td>\n",
       "      <td>0.054918</td>\n",
       "      <td>-0.123795</td>\n",
       "      <td>-0.026436</td>\n",
       "      <td>0.009284</td>\n",
       "      <td>0.039217</td>\n",
       "      <td>0.126064</td>\n",
       "    </tr>\n",
       "    <tr>\n",
       "      <th>Market portfolio</th>\n",
       "      <td>60.0</td>\n",
       "      <td>0.012823</td>\n",
       "      <td>0.028548</td>\n",
       "      <td>-0.060400</td>\n",
       "      <td>-0.000525</td>\n",
       "      <td>0.013250</td>\n",
       "      <td>0.028875</td>\n",
       "      <td>0.077500</td>\n",
       "    </tr>\n",
       "  </tbody>\n",
       "</table>\n",
       "</div>"
      ],
      "text/plain": [
       "                     count      mean       std       min       25%       50%  \\\n",
       "Big alpha portfolio   60.0  0.010969  0.054918 -0.123795 -0.026436  0.009284   \n",
       "Market portfolio      60.0  0.012823  0.028548 -0.060400 -0.000525  0.013250   \n",
       "\n",
       "                          75%       max  \n",
       "Big alpha portfolio  0.039217  0.126064  \n",
       "Market portfolio     0.028875  0.077500  "
      ]
     },
     "execution_count": 73,
     "metadata": {},
     "output_type": "execute_result"
    }
   ],
   "source": [
    "# select data which lie between 2013~2017\n",
    "temp_result = big_alpha_result[(small_alpha_result.DATE > date_start) & \n",
    "                                 (small_alpha_result.DATE <= date_end)]\n",
    "\n",
    "# set \"DATE\" column as index(it will be convenient for plotting)\n",
    "temp_result.index = temp_result.DATE\n",
    "\n",
    "# select columns\n",
    "temp_result = temp_result[[\"VWPRet\", \"RM\"]]\n",
    "\n",
    "# rename columns \n",
    "temp_result.columns = [\"Big alpha portfolio\", \"Market portfolio\"]\n",
    "\n",
    "# comparison of big alpha portfolio and market portfolio\n",
    "temp_result.describe().T"
   ]
  },
  {
   "cell_type": "code",
   "execution_count": 74,
   "metadata": {
    "scrolled": false
   },
   "outputs": [
    {
     "data": {
      "image/png": "[encoded data removed]",
      "text/plain": [
       "<matplotlib.figure.Figure at 0x1facbefb390>"
      ]
     },
     "metadata": {},
     "output_type": "display_data"
    }
   ],
   "source": [
    "# visualize portfolios' return\n",
    "plt.style.use('seaborn')\n",
    "plt.figure(figsize=(14, 8))\n",
    "plt.plot(temp_result[\"Big alpha portfolio\"], label=\"Big alpha portfolio\", marker=\".\", ms=10)\n",
    "plt.plot(temp_result[\"Market portfolio\"], label=\"Market portfolio\", marker=\".\", ms=10)\n",
    "plt.title(\"Return of portfolios\", size=14)\n",
    "plt.xlabel(\"Year\", size=14)\n",
    "plt.ylabel(\"Return\", size=14)\n",
    "plt.legend(fontsize=12);"
   ]
  },
  {
   "cell_type": "markdown",
   "metadata": {},
   "source": [
    "From the table and figure above, we can find that big 𝛼 portfolio is more volatile than market portfolio, and its average return is smaller than market portfolio, which exceed our expectation."
   ]
  },
  {
   "cell_type": "markdown",
   "metadata": {},
   "source": [
    "### 5. Do you get the benefit from the portfolio with a big $\\alpha$? If you do, how much do you think this result stems from good luck? If you don’t, what do you think went wrong?"
   ]
  },
  {
   "cell_type": "code",
   "execution_count": 77,
   "metadata": {},
   "outputs": [
    {
     "data": {
      "text/html": [
       "<div>\n",
       "<style scoped>\n",
       "    .dataframe tbody tr th:only-of-type {\n",
       "        vertical-align: middle;\n",
       "    }\n",
       "\n",
       "    .dataframe tbody tr th {\n",
       "        vertical-align: top;\n",
       "    }\n",
       "\n",
       "    .dataframe thead th {\n",
       "        text-align: right;\n",
       "    }\n",
       "</style>\n",
       "<table border=\"1\" class=\"dataframe\">\n",
       "  <thead>\n",
       "    <tr style=\"text-align: right;\">\n",
       "      <th></th>\n",
       "      <th>count</th>\n",
       "      <th>mean</th>\n",
       "      <th>std</th>\n",
       "      <th>min</th>\n",
       "      <th>25%</th>\n",
       "      <th>50%</th>\n",
       "      <th>75%</th>\n",
       "      <th>max</th>\n",
       "    </tr>\n",
       "  </thead>\n",
       "  <tbody>\n",
       "    <tr>\n",
       "      <th>Big alpha portfolio</th>\n",
       "      <td>60.0</td>\n",
       "      <td>0.010969</td>\n",
       "      <td>0.054918</td>\n",
       "      <td>-0.123795</td>\n",
       "      <td>-0.026436</td>\n",
       "      <td>0.009284</td>\n",
       "      <td>0.039217</td>\n",
       "      <td>0.126064</td>\n",
       "    </tr>\n",
       "    <tr>\n",
       "      <th>Market portfolio</th>\n",
       "      <td>60.0</td>\n",
       "      <td>0.012823</td>\n",
       "      <td>0.028548</td>\n",
       "      <td>-0.060400</td>\n",
       "      <td>-0.000525</td>\n",
       "      <td>0.013250</td>\n",
       "      <td>0.028875</td>\n",
       "      <td>0.077500</td>\n",
       "    </tr>\n",
       "  </tbody>\n",
       "</table>\n",
       "</div>"
      ],
      "text/plain": [
       "                     count      mean       std       min       25%       50%  \\\n",
       "Big alpha portfolio   60.0  0.010969  0.054918 -0.123795 -0.026436  0.009284   \n",
       "Market portfolio      60.0  0.012823  0.028548 -0.060400 -0.000525  0.013250   \n",
       "\n",
       "                          75%       max  \n",
       "Big alpha portfolio  0.039217  0.126064  \n",
       "Market portfolio     0.028875  0.077500  "
      ]
     },
     "execution_count": 77,
     "metadata": {},
     "output_type": "execute_result"
    }
   ],
   "source": [
    "# comparison of big alpha portfolio and market portfolio\n",
    "temp_result.describe().T"
   ]
  },
  {
   "cell_type": "markdown",
   "metadata": {},
   "source": [
    "We didn't get the benefit from the big $\\alpha$ portfolio, its average return is smaller than market portfolio. Although big $\\alpha$ portfolio's risk-adjusted abnormal return is significantly bigger than 0 in 2008~2012. However, past performance doesn't guarantee future performance, because both $\\alpha$ and $\\beta$ will change with time.\n",
    "\n",
    "\n",
    "(From the section of hypothesis testing above, we can find that big $\\alpha$ portfolio's return is insignificantly different(under 95% confidence level) from the volatility of market portfolio's return after 2013. However, if we decrease confidence level to 90%, then this portfolio's $\\beta$ will become significantly different from 1, in this case 1.29, which means this portfolio's return is more volatile than market portfolio's return after 2013(under 90% confidence level).) (beta不等於1時，報酬可高於或高於市場投組，而低報酬多過於市場投組時表現就很差)"
   ]
  },
  {
   "cell_type": "markdown",
   "metadata": {},
   "source": [
    "### 6. We can employ a long-short strategy by longing the portfolio with a large $\\alpha$ and shorting the other one. Since both portfolios have a $\\beta$ close to 1, this strategy basically gives you a zero-cost portfolio in theory (you actually have to pay transaction costs and the interests due to borrowing stocks), and you bear almost no market risk yet still have a positive $\\alpha$. That $\\alpha$ is supposed to be your ‘excess return’ (the difference of the returns on the big $\\alpha$ portfolio and the small $\\alpha$ portfolio) from the strategy. Do you get a positive return over this period (2013-2017) with said strategy?"
   ]
  },
  {
   "cell_type": "code",
   "execution_count": null,
   "metadata": {},
   "outputs": [],
   "source": []
  },
  {
   "cell_type": "markdown",
   "metadata": {},
   "source": [
    "### 7. Using rolling window regressions with 36 months each window to show how the $\\alpha$ and $\\beta$ changed for your portfolios from 2013/01-2015/12 to 2015/01-2017/12. Please present the results in graphs."
   ]
  },
  {
   "cell_type": "code",
   "execution_count": null,
   "metadata": {},
   "outputs": [],
   "source": []
  },
  {
   "cell_type": "markdown",
   "metadata": {},
   "source": [
    "https://sebastianraschka.com/Articles/2014_ipython_internal_links.html"
   ]
  }
 ],
 "metadata": {
  "kernelspec": {
   "display_name": "Python 3",
   "language": "python",
   "name": "python3"
  },
  "language_info": {
   "codemirror_mode": {
    "name": "ipython",
    "version": 3
   },
   "file_extension": ".py",
   "mimetype": "text/x-python",
   "name": "python",
   "nbconvert_exporter": "python",
   "pygments_lexer": "ipython3",
   "version": "3.6.3"
  }
 },
 "nbformat": 4,
 "nbformat_minor": 2
}
