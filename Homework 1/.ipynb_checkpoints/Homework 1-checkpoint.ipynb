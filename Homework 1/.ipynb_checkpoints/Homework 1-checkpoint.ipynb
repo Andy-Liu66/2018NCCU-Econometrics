{
 "cells": [
  {
   "cell_type": "markdown",
   "metadata": {},
   "source": [
    "**Process:**\n",
    "* Load and check data\n",
    "* Data preprocess (2 datasets)\n",
    "* Answer each question (7 in total)\n",
    " \n",
    "**Notations:**\n",
    "\n",
    "*stock.sas7bdat*\n",
    "* PERMNO: a 5-digit firm identifier\n",
    "* DATE: last trading day of the month, SAS format yymmddn8.\n",
    "* COMNAM: company name\n",
    "* EXCHCD: 1: NYSE, 2: AMEX, 3: NASDAQ\n",
    "* SICCD: 4 digit SIC code\n",
    "* PRC: closing price\n",
    "* RET: monthly return\n",
    "* SHROUT: shares outstanding in thousand shares\n",
    "\n",
    "*ff3.sas7bdat*\n",
    "* DATE: last trading day of the month\n",
    "* SMB: small-minus-big return\n",
    "* HML: high-minus-low return\n",
    "* MKTRF: excess return on the market\n",
    "* RF: risk-free rate\n",
    "* UMD: momentum factor"
   ]
  },
  {
   "cell_type": "code",
   "execution_count": 1,
   "metadata": {},
   "outputs": [
    {
     "name": "stdout",
     "output_type": "stream",
     "text": [
      "Using matplotlib backend: Qt5Agg\n"
     ]
    }
   ],
   "source": [
    "# import packages\n",
    "import pandas as pd\n",
    "import numpy as np\n",
    "from statsmodels.regression.linear_model import OLS\n",
    "from statsmodels.tools.tools import add_constant\n",
    "from scipy.stats import t\n",
    "from datetime import datetime\n",
    "import matplotlib.pyplot as plt\n",
    "import seaborn as sns\n",
    "%matplotlib"
   ]
  },
  {
   "cell_type": "markdown",
   "metadata": {},
   "source": [
    "# Load and check data"
   ]
  },
  {
   "cell_type": "code",
   "execution_count": 2,
   "metadata": {
    "scrolled": true
   },
   "outputs": [],
   "source": [
    "# load data\n",
    "Stock = pd.read_sas(\"stock.sas7bdat\")\n",
    "RM = pd.read_sas(\"ff3.sas7bdat\")"
   ]
  },
  {
   "cell_type": "code",
   "execution_count": 3,
   "metadata": {
    "scrolled": true
   },
   "outputs": [
    {
     "data": {
      "text/html": [
       "<div>\n",
       "<style scoped>\n",
       "    .dataframe tbody tr th:only-of-type {\n",
       "        vertical-align: middle;\n",
       "    }\n",
       "\n",
       "    .dataframe tbody tr th {\n",
       "        vertical-align: top;\n",
       "    }\n",
       "\n",
       "    .dataframe thead th {\n",
       "        text-align: right;\n",
       "    }\n",
       "</style>\n",
       "<table border=\"1\" class=\"dataframe\">\n",
       "  <thead>\n",
       "    <tr style=\"text-align: right;\">\n",
       "      <th></th>\n",
       "      <th>PERMNO</th>\n",
       "      <th>DATE</th>\n",
       "      <th>COMNAM</th>\n",
       "      <th>EXCHCD</th>\n",
       "      <th>SICCD</th>\n",
       "      <th>PRC</th>\n",
       "      <th>RET</th>\n",
       "      <th>SHROUT</th>\n",
       "    </tr>\n",
       "  </thead>\n",
       "  <tbody>\n",
       "    <tr>\n",
       "      <th>0</th>\n",
       "      <td>10001.0</td>\n",
       "      <td>2001-01-31</td>\n",
       "      <td>b'ENERGY WEST INC'</td>\n",
       "      <td>3.0</td>\n",
       "      <td>4920.0</td>\n",
       "      <td>9.875</td>\n",
       "      <td>0.012821</td>\n",
       "      <td>2498.0</td>\n",
       "    </tr>\n",
       "    <tr>\n",
       "      <th>1</th>\n",
       "      <td>10001.0</td>\n",
       "      <td>2001-02-28</td>\n",
       "      <td>b'ENERGY WEST INC'</td>\n",
       "      <td>3.0</td>\n",
       "      <td>4920.0</td>\n",
       "      <td>9.750</td>\n",
       "      <td>-0.012658</td>\n",
       "      <td>2504.0</td>\n",
       "    </tr>\n",
       "    <tr>\n",
       "      <th>2</th>\n",
       "      <td>10001.0</td>\n",
       "      <td>2001-03-30</td>\n",
       "      <td>b'ENERGY WEST INC'</td>\n",
       "      <td>3.0</td>\n",
       "      <td>4920.0</td>\n",
       "      <td>10.000</td>\n",
       "      <td>0.038462</td>\n",
       "      <td>2509.0</td>\n",
       "    </tr>\n",
       "    <tr>\n",
       "      <th>3</th>\n",
       "      <td>10001.0</td>\n",
       "      <td>2001-04-30</td>\n",
       "      <td>b'ENERGY WEST INC'</td>\n",
       "      <td>3.0</td>\n",
       "      <td>4920.0</td>\n",
       "      <td>9.750</td>\n",
       "      <td>-0.025000</td>\n",
       "      <td>2509.0</td>\n",
       "    </tr>\n",
       "    <tr>\n",
       "      <th>4</th>\n",
       "      <td>10001.0</td>\n",
       "      <td>2001-05-31</td>\n",
       "      <td>b'ENERGY WEST INC'</td>\n",
       "      <td>3.0</td>\n",
       "      <td>4920.0</td>\n",
       "      <td>10.700</td>\n",
       "      <td>0.097436</td>\n",
       "      <td>2509.0</td>\n",
       "    </tr>\n",
       "  </tbody>\n",
       "</table>\n",
       "</div>"
      ],
      "text/plain": [
       "    PERMNO       DATE              COMNAM  EXCHCD   SICCD     PRC       RET  \\\n",
       "0  10001.0 2001-01-31  b'ENERGY WEST INC'     3.0  4920.0   9.875  0.012821   \n",
       "1  10001.0 2001-02-28  b'ENERGY WEST INC'     3.0  4920.0   9.750 -0.012658   \n",
       "2  10001.0 2001-03-30  b'ENERGY WEST INC'     3.0  4920.0  10.000  0.038462   \n",
       "3  10001.0 2001-04-30  b'ENERGY WEST INC'     3.0  4920.0   9.750 -0.025000   \n",
       "4  10001.0 2001-05-31  b'ENERGY WEST INC'     3.0  4920.0  10.700  0.097436   \n",
       "\n",
       "   SHROUT  \n",
       "0  2498.0  \n",
       "1  2504.0  \n",
       "2  2509.0  \n",
       "3  2509.0  \n",
       "4  2509.0  "
      ]
     },
     "execution_count": 3,
     "metadata": {},
     "output_type": "execute_result"
    }
   ],
   "source": [
    "# show first few rows of Stock\n",
    "Stock.head()"
   ]
  },
  {
   "cell_type": "code",
   "execution_count": 4,
   "metadata": {
    "scrolled": true
   },
   "outputs": [
    {
     "data": {
      "text/html": [
       "<div>\n",
       "<style scoped>\n",
       "    .dataframe tbody tr th:only-of-type {\n",
       "        vertical-align: middle;\n",
       "    }\n",
       "\n",
       "    .dataframe tbody tr th {\n",
       "        vertical-align: top;\n",
       "    }\n",
       "\n",
       "    .dataframe thead th {\n",
       "        text-align: right;\n",
       "    }\n",
       "</style>\n",
       "<table border=\"1\" class=\"dataframe\">\n",
       "  <thead>\n",
       "    <tr style=\"text-align: right;\">\n",
       "      <th></th>\n",
       "      <th>DATE</th>\n",
       "      <th>SMB</th>\n",
       "      <th>HML</th>\n",
       "      <th>MKTRF</th>\n",
       "      <th>RF</th>\n",
       "      <th>UMD</th>\n",
       "    </tr>\n",
       "  </thead>\n",
       "  <tbody>\n",
       "    <tr>\n",
       "      <th>0</th>\n",
       "      <td>2001-01-31 00:08:38.659200</td>\n",
       "      <td>0.0657</td>\n",
       "      <td>-0.0490</td>\n",
       "      <td>0.0313</td>\n",
       "      <td>0.0054</td>\n",
       "      <td>-0.2506</td>\n",
       "    </tr>\n",
       "    <tr>\n",
       "      <th>1</th>\n",
       "      <td>2001-02-28 00:08:38.745600</td>\n",
       "      <td>-0.0074</td>\n",
       "      <td>0.1290</td>\n",
       "      <td>-0.1005</td>\n",
       "      <td>0.0038</td>\n",
       "      <td>0.1251</td>\n",
       "    </tr>\n",
       "    <tr>\n",
       "      <th>2</th>\n",
       "      <td>2001-03-30 00:00:00.000000</td>\n",
       "      <td>0.0034</td>\n",
       "      <td>0.0645</td>\n",
       "      <td>-0.0726</td>\n",
       "      <td>0.0042</td>\n",
       "      <td>0.0835</td>\n",
       "    </tr>\n",
       "    <tr>\n",
       "      <th>3</th>\n",
       "      <td>2001-04-30 00:11:14.956800</td>\n",
       "      <td>0.0052</td>\n",
       "      <td>-0.0469</td>\n",
       "      <td>0.0794</td>\n",
       "      <td>0.0039</td>\n",
       "      <td>-0.0797</td>\n",
       "    </tr>\n",
       "    <tr>\n",
       "      <th>4</th>\n",
       "      <td>2001-05-31 00:00:26.524800</td>\n",
       "      <td>0.0260</td>\n",
       "      <td>0.0314</td>\n",
       "      <td>0.0072</td>\n",
       "      <td>0.0032</td>\n",
       "      <td>0.0212</td>\n",
       "    </tr>\n",
       "  </tbody>\n",
       "</table>\n",
       "</div>"
      ],
      "text/plain": [
       "                        DATE     SMB     HML   MKTRF      RF     UMD\n",
       "0 2001-01-31 00:08:38.659200  0.0657 -0.0490  0.0313  0.0054 -0.2506\n",
       "1 2001-02-28 00:08:38.745600 -0.0074  0.1290 -0.1005  0.0038  0.1251\n",
       "2 2001-03-30 00:00:00.000000  0.0034  0.0645 -0.0726  0.0042  0.0835\n",
       "3 2001-04-30 00:11:14.956800  0.0052 -0.0469  0.0794  0.0039 -0.0797\n",
       "4 2001-05-31 00:00:26.524800  0.0260  0.0314  0.0072  0.0032  0.0212"
      ]
     },
     "execution_count": 4,
     "metadata": {},
     "output_type": "execute_result"
    }
   ],
   "source": [
    "# show first few rows of RM\n",
    "RM.head()"
   ]
  },
  {
   "cell_type": "code",
   "execution_count": 5,
   "metadata": {},
   "outputs": [],
   "source": [
    "# select the columns we want\n",
    "Stock = Stock[[\"DATE\", \"PERMNO\", \"PRC\", \"RET\", \"SHROUT\"]]\n",
    "RM = RM[[\"DATE\", \"MKTRF\", \"RF\"]]"
   ]
  },
  {
   "cell_type": "code",
   "execution_count": 6,
   "metadata": {
    "scrolled": false
   },
   "outputs": [
    {
     "name": "stdout",
     "output_type": "stream",
     "text": [
      "<class 'pandas.core.frame.DataFrame'>\n",
      "RangeIndex: 895867 entries, 0 to 895866\n",
      "Data columns (total 5 columns):\n",
      "DATE      895867 non-null datetime64[ns]\n",
      "PERMNO    895867 non-null float64\n",
      "PRC       889427 non-null float64\n",
      "RET       885676 non-null float64\n",
      "SHROUT    894897 non-null float64\n",
      "dtypes: datetime64[ns](1), float64(4)\n",
      "memory usage: 34.2 MB\n"
     ]
    }
   ],
   "source": [
    "# check Stock's information\n",
    "Stock.info()"
   ]
  },
  {
   "cell_type": "code",
   "execution_count": 7,
   "metadata": {},
   "outputs": [
    {
     "name": "stdout",
     "output_type": "stream",
     "text": [
      "<class 'pandas.core.frame.DataFrame'>\n",
      "RangeIndex: 204 entries, 0 to 203\n",
      "Data columns (total 3 columns):\n",
      "DATE     204 non-null datetime64[ns]\n",
      "MKTRF    204 non-null float64\n",
      "RF       204 non-null float64\n",
      "dtypes: datetime64[ns](1), float64(2)\n",
      "memory usage: 4.9 KB\n"
     ]
    }
   ],
   "source": [
    "# check RM's information\n",
    "RM.info()"
   ]
  },
  {
   "cell_type": "markdown",
   "metadata": {},
   "source": [
    "From the information above, we can find that DATE column in both datasets is already datetime object, other columns are float."
   ]
  },
  {
   "cell_type": "markdown",
   "metadata": {},
   "source": [
    "# Data preprocess (2 datasets)"
   ]
  },
  {
   "cell_type": "markdown",
   "metadata": {},
   "source": [
    "### First, deal with Stock"
   ]
  },
  {
   "cell_type": "code",
   "execution_count": 8,
   "metadata": {
    "scrolled": true
   },
   "outputs": [
    {
     "name": "stdout",
     "output_type": "stream",
     "text": [
      "Number of qualified companies: 3238\n"
     ]
    }
   ],
   "source": [
    "# create temporary Stock dataset betweeen 2008/01/01 and 2012/12/31\n",
    "temp_Stock = Stock[(Stock.DATE > \"2008/01/01\") & (Stock.DATE <= \"2012/12/31\")]\n",
    "\n",
    "# create function to count observations for each company\n",
    "def calculate_num(input_data, num):\n",
    "    temp_data = input_data.sort_values(\"DATE\", ascending=True)\n",
    "    # find out last row of data's DATE, and transform it to string\n",
    "    # beacuse we need to make sure companies still exist at 2012/12/31\n",
    "    last_date = str(temp_data.iloc[-1, :][\"DATE\"].date())\n",
    "    # create index to find non na data point according to RET\n",
    "    na_index = temp_data.RET.isna() == False\n",
    "    # select data without na\n",
    "    temp_data = temp_data[na_index]\n",
    "    # count observations from back to front\n",
    "    # the observations need at least 36 data points\n",
    "    if len(temp_data.iloc[-num:, ]) == num and last_date == \"2012-12-31\":\n",
    "        return True\n",
    "    else:\n",
    "        return False\n",
    "    \n",
    "# group temp_Stock by \"PERMNO\" column, and apply \"calculate_num\" function to each group\n",
    "count_result = temp_Stock.groupby(\"PERMNO\").apply(lambda x: calculate_num(x, 36))\n",
    "\n",
    "# save company's PERMNO if it met the requirement\n",
    "target_PERMNO = count_result[count_result == True].index\n",
    "\n",
    "# show the number of companies which meet the requirement\n",
    "print(\"Number of qualified companies:\", len(target_PERMNO))"
   ]
  },
  {
   "cell_type": "code",
   "execution_count": 9,
   "metadata": {},
   "outputs": [],
   "source": [
    "# transform target_PERMNO to set\n",
    "target_PERMNO = set(list(map(lambda x:str(int(x)), target_PERMNO)))\n",
    "\n",
    "# transform Stock's PERMNO column to string\n",
    "# in case of warnings, set a copy of Stock\n",
    "Stock = Stock.copy()\n",
    "Stock.PERMNO = Stock.PERMNO.apply(lambda x: str(int(x)))\n",
    "\n",
    "# create index to find whether Stock's PERMNO is in target_PERMNO\n",
    "selected_index = Stock.PERMNO.apply(lambda x: x in target_PERMNO)\n",
    "\n",
    "# select companies which meet the requirement\n",
    "Stock = Stock[selected_index]"
   ]
  },
  {
   "cell_type": "markdown",
   "metadata": {},
   "source": [
    "### Second, merge Stock with RM"
   ]
  },
  {
   "cell_type": "code",
   "execution_count": 10,
   "metadata": {},
   "outputs": [
    {
     "name": "stdout",
     "output_type": "stream",
     "text": [
      "Stock's DATE format: 2001-01-31 00:00:00\n",
      "RM's DATE format: 2001-01-31 00:08:38.659200\n"
     ]
    }
   ],
   "source": [
    "# check the key we need while merging two dataframes\n",
    "print(\"Stock's DATE format:\", Stock.DATE.iloc[0])\n",
    "print(\"RM's DATE format:\", RM.DATE.iloc[0])"
   ]
  },
  {
   "cell_type": "markdown",
   "metadata": {},
   "source": [
    "From the information above, we can find that RM's DATE format also contain hour, minute, and second. However, Stock's DATE format doesn't contain those information, so we need to unify their format."
   ]
  },
  {
   "cell_type": "code",
   "execution_count": 11,
   "metadata": {},
   "outputs": [],
   "source": [
    "# unify their DATE format by only selecting year, month, and day\n",
    "# in case of warnings, set a copy of temp_Stock\n",
    "Stock = Stock.copy()\n",
    "Stock[\"DATE\"] = Stock[\"DATE\"].apply(lambda x:x.date())\n",
    "RM[\"DATE\"] = RM[\"DATE\"].apply(lambda x:x.date())\n",
    "\n",
    "# merge Stock with RM\n",
    "Sample = Stock.merge(RM, how=\"inner\", on=\"DATE\")\n",
    "\n",
    "# create new column \"RIRF\" for excess return on market\n",
    "Sample[\"RIRF\"] = Sample[\"RET\"] - Sample[\"RF\"]"
   ]
  },
  {
   "cell_type": "code",
   "execution_count": 12,
   "metadata": {
    "scrolled": false
   },
   "outputs": [
    {
     "data": {
      "text/html": [
       "<div>\n",
       "<style scoped>\n",
       "    .dataframe tbody tr th:only-of-type {\n",
       "        vertical-align: middle;\n",
       "    }\n",
       "\n",
       "    .dataframe tbody tr th {\n",
       "        vertical-align: top;\n",
       "    }\n",
       "\n",
       "    .dataframe thead th {\n",
       "        text-align: right;\n",
       "    }\n",
       "</style>\n",
       "<table border=\"1\" class=\"dataframe\">\n",
       "  <thead>\n",
       "    <tr style=\"text-align: right;\">\n",
       "      <th></th>\n",
       "      <th></th>\n",
       "      <th>Alpha</th>\n",
       "      <th>Beta</th>\n",
       "      <th>Alpha_t_value</th>\n",
       "      <th>Beta_t_value</th>\n",
       "      <th>Alpha_p_value</th>\n",
       "      <th>Beta_p_value</th>\n",
       "      <th>Alpha_std_err</th>\n",
       "      <th>Beta_std_err</th>\n",
       "      <th>counts</th>\n",
       "    </tr>\n",
       "    <tr>\n",
       "      <th>PERMNO</th>\n",
       "      <th></th>\n",
       "      <th></th>\n",
       "      <th></th>\n",
       "      <th></th>\n",
       "      <th></th>\n",
       "      <th></th>\n",
       "      <th></th>\n",
       "      <th></th>\n",
       "      <th></th>\n",
       "      <th></th>\n",
       "    </tr>\n",
       "  </thead>\n",
       "  <tbody>\n",
       "    <tr>\n",
       "      <th>10001</th>\n",
       "      <th>0</th>\n",
       "      <td>0.005097</td>\n",
       "      <td>0.317924</td>\n",
       "      <td>0.594660</td>\n",
       "      <td>2.075380</td>\n",
       "      <td>0.554383</td>\n",
       "      <td>0.042396</td>\n",
       "      <td>0.008571</td>\n",
       "      <td>0.153188</td>\n",
       "      <td>60</td>\n",
       "    </tr>\n",
       "    <tr>\n",
       "      <th>10002</th>\n",
       "      <th>0</th>\n",
       "      <td>-0.005789</td>\n",
       "      <td>0.033948</td>\n",
       "      <td>-0.232718</td>\n",
       "      <td>0.076360</td>\n",
       "      <td>0.816800</td>\n",
       "      <td>0.939395</td>\n",
       "      <td>0.024875</td>\n",
       "      <td>0.444573</td>\n",
       "      <td>60</td>\n",
       "    </tr>\n",
       "    <tr>\n",
       "      <th>10025</th>\n",
       "      <th>0</th>\n",
       "      <td>0.014156</td>\n",
       "      <td>1.247654</td>\n",
       "      <td>1.026318</td>\n",
       "      <td>5.061327</td>\n",
       "      <td>0.309003</td>\n",
       "      <td>0.000004</td>\n",
       "      <td>0.013793</td>\n",
       "      <td>0.246507</td>\n",
       "      <td>60</td>\n",
       "    </tr>\n",
       "    <tr>\n",
       "      <th>10026</th>\n",
       "      <th>0</th>\n",
       "      <td>0.013196</td>\n",
       "      <td>0.691046</td>\n",
       "      <td>1.553259</td>\n",
       "      <td>4.551429</td>\n",
       "      <td>0.125801</td>\n",
       "      <td>0.000028</td>\n",
       "      <td>0.008495</td>\n",
       "      <td>0.151831</td>\n",
       "      <td>60</td>\n",
       "    </tr>\n",
       "    <tr>\n",
       "      <th>10028</th>\n",
       "      <th>0</th>\n",
       "      <td>0.011520</td>\n",
       "      <td>1.405295</td>\n",
       "      <td>0.525471</td>\n",
       "      <td>3.742407</td>\n",
       "      <td>0.601533</td>\n",
       "      <td>0.000464</td>\n",
       "      <td>0.021924</td>\n",
       "      <td>0.375506</td>\n",
       "      <td>53</td>\n",
       "    </tr>\n",
       "  </tbody>\n",
       "</table>\n",
       "</div>"
      ],
      "text/plain": [
       "             Alpha      Beta  Alpha_t_value  Beta_t_value  Alpha_p_value  \\\n",
       "PERMNO                                                                     \n",
       "10001  0  0.005097  0.317924       0.594660      2.075380       0.554383   \n",
       "10002  0 -0.005789  0.033948      -0.232718      0.076360       0.816800   \n",
       "10025  0  0.014156  1.247654       1.026318      5.061327       0.309003   \n",
       "10026  0  0.013196  0.691046       1.553259      4.551429       0.125801   \n",
       "10028  0  0.011520  1.405295       0.525471      3.742407       0.601533   \n",
       "\n",
       "          Beta_p_value  Alpha_std_err  Beta_std_err  counts  \n",
       "PERMNO                                                       \n",
       "10001  0      0.042396       0.008571      0.153188      60  \n",
       "10002  0      0.939395       0.024875      0.444573      60  \n",
       "10025  0      0.000004       0.013793      0.246507      60  \n",
       "10026  0      0.000028       0.008495      0.151831      60  \n",
       "10028  0      0.000464       0.021924      0.375506      53  "
      ]
     },
     "execution_count": 12,
     "metadata": {},
     "output_type": "execute_result"
    }
   ],
   "source": [
    "# define function to run regression\n",
    "def run_regression(x, y):\n",
    "    X = add_constant(x)\n",
    "    Y = y\n",
    "    model = OLS(Y, X, missing=\"drop\")\n",
    "    result = model.fit()\n",
    "    params = pd.DataFrame(result.params).T\n",
    "    params.columns = [\"Alpha\", \"Beta\"]\n",
    "    t_value = pd.DataFrame(result.tvalues).T\n",
    "    t_value.columns = [\"Alpha_t_value\", \"Beta_t_value\"]\n",
    "    p_value = pd.DataFrame(result.pvalues).T\n",
    "    p_value.columns = [\"Alpha_p_value\", \"Beta_p_value\"]\n",
    "    std_err = pd.DataFrame(result.bse).T\n",
    "    std_err.columns = [\"Alpha_std_err\", \"Beta_std_err\"]\n",
    "    counts = pd.DataFrame([len(X)])\n",
    "    counts.columns = [\"counts\"]\n",
    "    return params.join(t_value).join(p_value).join(std_err).join(counts)\n",
    "\n",
    "# select the time frame which we are going to run regression\n",
    "date_start = datetime.strptime(\"2008/01/01\", \"%Y/%m/%d\").date()\n",
    "date_end = datetime.strptime(\"2012/12/31\", \"%Y/%m/%d\").date()\n",
    "temp_Sample = Sample[(Sample.DATE > date_start) & (Sample.DATE <= date_end)]\n",
    "\n",
    "# group Sample by \"PERMNO\" column, and apply \"run_regression\" function to each group\n",
    "reg_result = temp_Sample.groupby(\"PERMNO\").apply(lambda x: run_regression(x.MKTRF, x.RIRF))\n",
    "\n",
    "# show first few rows of regression result\n",
    "reg_result.head()"
   ]
  },
  {
   "cell_type": "markdown",
   "metadata": {},
   "source": [
    "**How we select sotcks:**\n",
    "1. We need to select stocks whose $\\beta$ closes to one, so we need to make sure the stocks' $\\beta$ which we gonna select are insignificant different from 1. As a result, we provide hypothesis testing to test whether each stock's $\\beta$ is insignificant different from 1 in 2008~2012. Under 95% confidence level, null hypothesis and alternative hypothesis for $\\beta$ are ${H_0}$ : $\\beta$ = 1,${H_1}$ : $\\beta$ $\\neq$ 1.\n",
    "2. Then we pick stocks whose $\\beta$ lie between 0.8 and 1.2.\n",
    "3. Finally, we sort the selected stocks in ascending and descending way according to each stock's $\\alpha$, and select top 25 stocks sequentially to form small and big $\\alpha$ portfolio."
   ]
  },
  {
   "cell_type": "code",
   "execution_count": 13,
   "metadata": {},
   "outputs": [],
   "source": [
    "# prepare for hypothesis testing\n",
    "reg_result = reg_result.copy()\n",
    "\n",
    "# calculate t value\n",
    "Beta_t_value = (reg_result[\"Beta\"] - 1) / reg_result[\"Beta_std_err\"]\n",
    "\n",
    "# calculate p value\n",
    "reg_result[\"Beta_p_value\"] = t.sf(np.abs(Beta_t_value), reg_result[\"counts\"]-2) * 2"
   ]
  },
  {
   "cell_type": "code",
   "execution_count": 14,
   "metadata": {
    "scrolled": true
   },
   "outputs": [
    {
     "name": "stdout",
     "output_type": "stream",
     "text": [
      "Number of stocks after first filtration:  1996\n",
      "Number of stocks after second filtration:  815\n"
     ]
    }
   ],
   "source": [
    "# step 1\n",
    "stock_pool = reg_result[reg_result.Beta_p_value > 0.05]\n",
    "print(\"Number of stocks after first filtration: \", len(stock_pool))\n",
    "\n",
    "# step 2\n",
    "stock_pool = stock_pool[(stock_pool.Beta >= 0.8) & (stock_pool.Beta <= 1.2)]\n",
    "print(\"Number of stocks after second filtration: \", len(stock_pool))\n",
    "\n",
    "# step 3\n",
    "small_alpha = stock_pool.sort_values(\"Alpha\", ascending=True).iloc[:25, ]\n",
    "big_alpha =  stock_pool.sort_values(\"Alpha\", ascending=False).iloc[:25, ]"
   ]
  },
  {
   "cell_type": "markdown",
   "metadata": {},
   "source": [
    "# Answer each question (7 in total)"
   ]
  },
  {
   "cell_type": "markdown",
   "metadata": {},
   "source": [
    "### 1. Make a table to show the $\\alpha$ and $\\beta$ of the stocks you pick for these two portfolios with data from the 2008-2012 estimation period. Please include the standard deviations of your parameters as well."
   ]
  },
  {
   "cell_type": "markdown",
   "metadata": {},
   "source": [
    "**Table for small alpha portfolio:**"
   ]
  },
  {
   "cell_type": "code",
   "execution_count": 15,
   "metadata": {},
   "outputs": [
    {
     "data": {
      "text/html": [
       "<div>\n",
       "<style scoped>\n",
       "    .dataframe tbody tr th:only-of-type {\n",
       "        vertical-align: middle;\n",
       "    }\n",
       "\n",
       "    .dataframe tbody tr th {\n",
       "        vertical-align: top;\n",
       "    }\n",
       "\n",
       "    .dataframe thead th {\n",
       "        text-align: right;\n",
       "    }\n",
       "</style>\n",
       "<table border=\"1\" class=\"dataframe\">\n",
       "  <thead>\n",
       "    <tr style=\"text-align: right;\">\n",
       "      <th></th>\n",
       "      <th></th>\n",
       "      <th>Alpha</th>\n",
       "      <th>Beta</th>\n",
       "      <th>Alpha_std_err</th>\n",
       "      <th>Beta_std_err</th>\n",
       "    </tr>\n",
       "    <tr>\n",
       "      <th>PERMNO</th>\n",
       "      <th></th>\n",
       "      <th></th>\n",
       "      <th></th>\n",
       "      <th></th>\n",
       "      <th></th>\n",
       "    </tr>\n",
       "  </thead>\n",
       "  <tbody>\n",
       "    <tr>\n",
       "      <th>93087</th>\n",
       "      <th>0</th>\n",
       "      <td>-0.086576</td>\n",
       "      <td>1.018807</td>\n",
       "      <td>0.023832</td>\n",
       "      <td>0.516664</td>\n",
       "    </tr>\n",
       "    <tr>\n",
       "      <th>88620</th>\n",
       "      <th>0</th>\n",
       "      <td>-0.060725</td>\n",
       "      <td>1.071366</td>\n",
       "      <td>0.047821</td>\n",
       "      <td>1.090250</td>\n",
       "    </tr>\n",
       "    <tr>\n",
       "      <th>80625</th>\n",
       "      <th>0</th>\n",
       "      <td>-0.054395</td>\n",
       "      <td>0.862769</td>\n",
       "      <td>0.025571</td>\n",
       "      <td>0.457004</td>\n",
       "    </tr>\n",
       "    <tr>\n",
       "      <th>93184</th>\n",
       "      <th>0</th>\n",
       "      <td>-0.048843</td>\n",
       "      <td>0.826519</td>\n",
       "      <td>0.042216</td>\n",
       "      <td>0.912787</td>\n",
       "    </tr>\n",
       "    <tr>\n",
       "      <th>87337</th>\n",
       "      <th>0</th>\n",
       "      <td>-0.048067</td>\n",
       "      <td>1.089437</td>\n",
       "      <td>0.028216</td>\n",
       "      <td>0.504273</td>\n",
       "    </tr>\n",
       "    <tr>\n",
       "      <th>91431</th>\n",
       "      <th>0</th>\n",
       "      <td>-0.047335</td>\n",
       "      <td>1.045558</td>\n",
       "      <td>0.038254</td>\n",
       "      <td>0.683670</td>\n",
       "    </tr>\n",
       "    <tr>\n",
       "      <th>90640</th>\n",
       "      <th>0</th>\n",
       "      <td>-0.044021</td>\n",
       "      <td>1.119909</td>\n",
       "      <td>0.018091</td>\n",
       "      <td>0.323321</td>\n",
       "    </tr>\n",
       "    <tr>\n",
       "      <th>78091</th>\n",
       "      <th>0</th>\n",
       "      <td>-0.042987</td>\n",
       "      <td>0.910960</td>\n",
       "      <td>0.033109</td>\n",
       "      <td>0.717792</td>\n",
       "    </tr>\n",
       "    <tr>\n",
       "      <th>91752</th>\n",
       "      <th>0</th>\n",
       "      <td>-0.042565</td>\n",
       "      <td>0.975237</td>\n",
       "      <td>0.028477</td>\n",
       "      <td>0.508940</td>\n",
       "    </tr>\n",
       "    <tr>\n",
       "      <th>88572</th>\n",
       "      <th>0</th>\n",
       "      <td>-0.039867</td>\n",
       "      <td>1.189086</td>\n",
       "      <td>0.032221</td>\n",
       "      <td>0.575845</td>\n",
       "    </tr>\n",
       "    <tr>\n",
       "      <th>93177</th>\n",
       "      <th>0</th>\n",
       "      <td>-0.038735</td>\n",
       "      <td>1.019961</td>\n",
       "      <td>0.033913</td>\n",
       "      <td>0.733258</td>\n",
       "    </tr>\n",
       "    <tr>\n",
       "      <th>93128</th>\n",
       "      <th>0</th>\n",
       "      <td>-0.034293</td>\n",
       "      <td>1.145799</td>\n",
       "      <td>0.012203</td>\n",
       "      <td>0.266196</td>\n",
       "    </tr>\n",
       "    <tr>\n",
       "      <th>83551</th>\n",
       "      <th>0</th>\n",
       "      <td>-0.033777</td>\n",
       "      <td>0.888870</td>\n",
       "      <td>0.028847</td>\n",
       "      <td>0.511431</td>\n",
       "    </tr>\n",
       "    <tr>\n",
       "      <th>92213</th>\n",
       "      <th>0</th>\n",
       "      <td>-0.031946</td>\n",
       "      <td>0.995115</td>\n",
       "      <td>0.036022</td>\n",
       "      <td>0.643793</td>\n",
       "    </tr>\n",
       "    <tr>\n",
       "      <th>44951</th>\n",
       "      <th>0</th>\n",
       "      <td>-0.031884</td>\n",
       "      <td>1.156390</td>\n",
       "      <td>0.018594</td>\n",
       "      <td>0.332315</td>\n",
       "    </tr>\n",
       "    <tr>\n",
       "      <th>11628</th>\n",
       "      <th>0</th>\n",
       "      <td>-0.030068</td>\n",
       "      <td>0.868447</td>\n",
       "      <td>0.026978</td>\n",
       "      <td>0.482148</td>\n",
       "    </tr>\n",
       "    <tr>\n",
       "      <th>90964</th>\n",
       "      <th>0</th>\n",
       "      <td>-0.029293</td>\n",
       "      <td>1.199025</td>\n",
       "      <td>0.019477</td>\n",
       "      <td>0.348100</td>\n",
       "    </tr>\n",
       "    <tr>\n",
       "      <th>11513</th>\n",
       "      <th>0</th>\n",
       "      <td>-0.027248</td>\n",
       "      <td>0.984010</td>\n",
       "      <td>0.022763</td>\n",
       "      <td>0.406827</td>\n",
       "    </tr>\n",
       "    <tr>\n",
       "      <th>92935</th>\n",
       "      <th>0</th>\n",
       "      <td>-0.025320</td>\n",
       "      <td>0.962562</td>\n",
       "      <td>0.020286</td>\n",
       "      <td>0.442739</td>\n",
       "    </tr>\n",
       "    <tr>\n",
       "      <th>83704</th>\n",
       "      <th>0</th>\n",
       "      <td>-0.025193</td>\n",
       "      <td>0.892579</td>\n",
       "      <td>0.018675</td>\n",
       "      <td>0.323887</td>\n",
       "    </tr>\n",
       "    <tr>\n",
       "      <th>46392</th>\n",
       "      <th>0</th>\n",
       "      <td>-0.024438</td>\n",
       "      <td>1.164006</td>\n",
       "      <td>0.012723</td>\n",
       "      <td>0.227384</td>\n",
       "    </tr>\n",
       "    <tr>\n",
       "      <th>83113</th>\n",
       "      <th>0</th>\n",
       "      <td>-0.023852</td>\n",
       "      <td>0.947974</td>\n",
       "      <td>0.023231</td>\n",
       "      <td>0.432581</td>\n",
       "    </tr>\n",
       "    <tr>\n",
       "      <th>92919</th>\n",
       "      <th>0</th>\n",
       "      <td>-0.023449</td>\n",
       "      <td>0.864853</td>\n",
       "      <td>0.019530</td>\n",
       "      <td>0.424824</td>\n",
       "    </tr>\n",
       "    <tr>\n",
       "      <th>91754</th>\n",
       "      <th>0</th>\n",
       "      <td>-0.023417</td>\n",
       "      <td>1.142327</td>\n",
       "      <td>0.015441</td>\n",
       "      <td>0.275968</td>\n",
       "    </tr>\n",
       "    <tr>\n",
       "      <th>92521</th>\n",
       "      <th>0</th>\n",
       "      <td>-0.023350</td>\n",
       "      <td>0.976461</td>\n",
       "      <td>0.029667</td>\n",
       "      <td>0.531532</td>\n",
       "    </tr>\n",
       "  </tbody>\n",
       "</table>\n",
       "</div>"
      ],
      "text/plain": [
       "             Alpha      Beta  Alpha_std_err  Beta_std_err\n",
       "PERMNO                                                   \n",
       "93087  0 -0.086576  1.018807       0.023832      0.516664\n",
       "88620  0 -0.060725  1.071366       0.047821      1.090250\n",
       "80625  0 -0.054395  0.862769       0.025571      0.457004\n",
       "93184  0 -0.048843  0.826519       0.042216      0.912787\n",
       "87337  0 -0.048067  1.089437       0.028216      0.504273\n",
       "91431  0 -0.047335  1.045558       0.038254      0.683670\n",
       "90640  0 -0.044021  1.119909       0.018091      0.323321\n",
       "78091  0 -0.042987  0.910960       0.033109      0.717792\n",
       "91752  0 -0.042565  0.975237       0.028477      0.508940\n",
       "88572  0 -0.039867  1.189086       0.032221      0.575845\n",
       "93177  0 -0.038735  1.019961       0.033913      0.733258\n",
       "93128  0 -0.034293  1.145799       0.012203      0.266196\n",
       "83551  0 -0.033777  0.888870       0.028847      0.511431\n",
       "92213  0 -0.031946  0.995115       0.036022      0.643793\n",
       "44951  0 -0.031884  1.156390       0.018594      0.332315\n",
       "11628  0 -0.030068  0.868447       0.026978      0.482148\n",
       "90964  0 -0.029293  1.199025       0.019477      0.348100\n",
       "11513  0 -0.027248  0.984010       0.022763      0.406827\n",
       "92935  0 -0.025320  0.962562       0.020286      0.442739\n",
       "83704  0 -0.025193  0.892579       0.018675      0.323887\n",
       "46392  0 -0.024438  1.164006       0.012723      0.227384\n",
       "83113  0 -0.023852  0.947974       0.023231      0.432581\n",
       "92919  0 -0.023449  0.864853       0.019530      0.424824\n",
       "91754  0 -0.023417  1.142327       0.015441      0.275968\n",
       "92521  0 -0.023350  0.976461       0.029667      0.531532"
      ]
     },
     "execution_count": 15,
     "metadata": {},
     "output_type": "execute_result"
    }
   ],
   "source": [
    "result = small_alpha[[\"Alpha\", \"Beta\", \"Alpha_std_err\", \"Beta_std_err\"]]\n",
    "result"
   ]
  },
  {
   "cell_type": "markdown",
   "metadata": {},
   "source": [
    "**Table for big alpha portfolio:**"
   ]
  },
  {
   "cell_type": "code",
   "execution_count": 16,
   "metadata": {},
   "outputs": [
    {
     "data": {
      "text/html": [
       "<div>\n",
       "<style scoped>\n",
       "    .dataframe tbody tr th:only-of-type {\n",
       "        vertical-align: middle;\n",
       "    }\n",
       "\n",
       "    .dataframe tbody tr th {\n",
       "        vertical-align: top;\n",
       "    }\n",
       "\n",
       "    .dataframe thead th {\n",
       "        text-align: right;\n",
       "    }\n",
       "</style>\n",
       "<table border=\"1\" class=\"dataframe\">\n",
       "  <thead>\n",
       "    <tr style=\"text-align: right;\">\n",
       "      <th></th>\n",
       "      <th></th>\n",
       "      <th>Alpha</th>\n",
       "      <th>Beta</th>\n",
       "      <th>Alpha_std_err</th>\n",
       "      <th>Beta_std_err</th>\n",
       "    </tr>\n",
       "    <tr>\n",
       "      <th>PERMNO</th>\n",
       "      <th></th>\n",
       "      <th></th>\n",
       "      <th></th>\n",
       "      <th></th>\n",
       "      <th></th>\n",
       "    </tr>\n",
       "  </thead>\n",
       "  <tbody>\n",
       "    <tr>\n",
       "      <th>82513</th>\n",
       "      <th>0</th>\n",
       "      <td>0.085444</td>\n",
       "      <td>1.084919</td>\n",
       "      <td>0.030643</td>\n",
       "      <td>0.547659</td>\n",
       "    </tr>\n",
       "    <tr>\n",
       "      <th>82639</th>\n",
       "      <th>0</th>\n",
       "      <td>0.071921</td>\n",
       "      <td>1.078344</td>\n",
       "      <td>0.070529</td>\n",
       "      <td>1.524975</td>\n",
       "    </tr>\n",
       "    <tr>\n",
       "      <th>90476</th>\n",
       "      <th>0</th>\n",
       "      <td>0.065659</td>\n",
       "      <td>0.822285</td>\n",
       "      <td>0.055983</td>\n",
       "      <td>1.000518</td>\n",
       "    </tr>\n",
       "    <tr>\n",
       "      <th>88372</th>\n",
       "      <th>0</th>\n",
       "      <td>0.062632</td>\n",
       "      <td>1.181232</td>\n",
       "      <td>0.058345</td>\n",
       "      <td>1.042740</td>\n",
       "    </tr>\n",
       "    <tr>\n",
       "      <th>91141</th>\n",
       "      <th>0</th>\n",
       "      <td>0.062180</td>\n",
       "      <td>1.013358</td>\n",
       "      <td>0.036333</td>\n",
       "      <td>0.649340</td>\n",
       "    </tr>\n",
       "    <tr>\n",
       "      <th>32687</th>\n",
       "      <th>0</th>\n",
       "      <td>0.047674</td>\n",
       "      <td>1.174156</td>\n",
       "      <td>0.032842</td>\n",
       "      <td>0.586949</td>\n",
       "    </tr>\n",
       "    <tr>\n",
       "      <th>33770</th>\n",
       "      <th>0</th>\n",
       "      <td>0.046892</td>\n",
       "      <td>0.881543</td>\n",
       "      <td>0.041156</td>\n",
       "      <td>0.750031</td>\n",
       "    </tr>\n",
       "    <tr>\n",
       "      <th>85002</th>\n",
       "      <th>0</th>\n",
       "      <td>0.046848</td>\n",
       "      <td>1.181391</td>\n",
       "      <td>0.036584</td>\n",
       "      <td>0.653829</td>\n",
       "    </tr>\n",
       "    <tr>\n",
       "      <th>78051</th>\n",
       "      <th>0</th>\n",
       "      <td>0.043869</td>\n",
       "      <td>0.839623</td>\n",
       "      <td>0.025990</td>\n",
       "      <td>0.464495</td>\n",
       "    </tr>\n",
       "    <tr>\n",
       "      <th>79588</th>\n",
       "      <th>0</th>\n",
       "      <td>0.042315</td>\n",
       "      <td>1.027434</td>\n",
       "      <td>0.025369</td>\n",
       "      <td>0.453398</td>\n",
       "    </tr>\n",
       "    <tr>\n",
       "      <th>76614</th>\n",
       "      <th>0</th>\n",
       "      <td>0.041599</td>\n",
       "      <td>1.080628</td>\n",
       "      <td>0.019969</td>\n",
       "      <td>0.356878</td>\n",
       "    </tr>\n",
       "    <tr>\n",
       "      <th>85320</th>\n",
       "      <th>0</th>\n",
       "      <td>0.041513</td>\n",
       "      <td>0.993270</td>\n",
       "      <td>0.045670</td>\n",
       "      <td>0.816204</td>\n",
       "    </tr>\n",
       "    <tr>\n",
       "      <th>46042</th>\n",
       "      <th>0</th>\n",
       "      <td>0.039591</td>\n",
       "      <td>1.089557</td>\n",
       "      <td>0.037925</td>\n",
       "      <td>0.677791</td>\n",
       "    </tr>\n",
       "    <tr>\n",
       "      <th>88208</th>\n",
       "      <th>0</th>\n",
       "      <td>0.039476</td>\n",
       "      <td>1.170401</td>\n",
       "      <td>0.032026</td>\n",
       "      <td>0.572360</td>\n",
       "    </tr>\n",
       "    <tr>\n",
       "      <th>81084</th>\n",
       "      <th>0</th>\n",
       "      <td>0.037965</td>\n",
       "      <td>1.126172</td>\n",
       "      <td>0.026290</td>\n",
       "      <td>0.469860</td>\n",
       "    </tr>\n",
       "    <tr>\n",
       "      <th>83633</th>\n",
       "      <th>0</th>\n",
       "      <td>0.037962</td>\n",
       "      <td>1.151116</td>\n",
       "      <td>0.020971</td>\n",
       "      <td>0.374800</td>\n",
       "    </tr>\n",
       "    <tr>\n",
       "      <th>88167</th>\n",
       "      <th>0</th>\n",
       "      <td>0.036096</td>\n",
       "      <td>1.132384</td>\n",
       "      <td>0.014092</td>\n",
       "      <td>0.251854</td>\n",
       "    </tr>\n",
       "    <tr>\n",
       "      <th>85739</th>\n",
       "      <th>0</th>\n",
       "      <td>0.035712</td>\n",
       "      <td>0.899674</td>\n",
       "      <td>0.030723</td>\n",
       "      <td>0.549082</td>\n",
       "    </tr>\n",
       "    <tr>\n",
       "      <th>90893</th>\n",
       "      <th>0</th>\n",
       "      <td>0.035530</td>\n",
       "      <td>0.944257</td>\n",
       "      <td>0.038065</td>\n",
       "      <td>0.680291</td>\n",
       "    </tr>\n",
       "    <tr>\n",
       "      <th>91899</th>\n",
       "      <th>0</th>\n",
       "      <td>0.035274</td>\n",
       "      <td>0.996847</td>\n",
       "      <td>0.017528</td>\n",
       "      <td>0.313268</td>\n",
       "    </tr>\n",
       "    <tr>\n",
       "      <th>91491</th>\n",
       "      <th>0</th>\n",
       "      <td>0.034186</td>\n",
       "      <td>0.808953</td>\n",
       "      <td>0.031535</td>\n",
       "      <td>0.563599</td>\n",
       "    </tr>\n",
       "    <tr>\n",
       "      <th>77289</th>\n",
       "      <th>0</th>\n",
       "      <td>0.033513</td>\n",
       "      <td>0.837130</td>\n",
       "      <td>0.021990</td>\n",
       "      <td>0.389864</td>\n",
       "    </tr>\n",
       "    <tr>\n",
       "      <th>45225</th>\n",
       "      <th>0</th>\n",
       "      <td>0.033167</td>\n",
       "      <td>0.978704</td>\n",
       "      <td>0.026237</td>\n",
       "      <td>0.468912</td>\n",
       "    </tr>\n",
       "    <tr>\n",
       "      <th>83762</th>\n",
       "      <th>0</th>\n",
       "      <td>0.032942</td>\n",
       "      <td>1.177915</td>\n",
       "      <td>0.051791</td>\n",
       "      <td>0.925616</td>\n",
       "    </tr>\n",
       "    <tr>\n",
       "      <th>84184</th>\n",
       "      <th>0</th>\n",
       "      <td>0.032838</td>\n",
       "      <td>1.041937</td>\n",
       "      <td>0.041401</td>\n",
       "      <td>0.739919</td>\n",
       "    </tr>\n",
       "  </tbody>\n",
       "</table>\n",
       "</div>"
      ],
      "text/plain": [
       "             Alpha      Beta  Alpha_std_err  Beta_std_err\n",
       "PERMNO                                                   \n",
       "82513  0  0.085444  1.084919       0.030643      0.547659\n",
       "82639  0  0.071921  1.078344       0.070529      1.524975\n",
       "90476  0  0.065659  0.822285       0.055983      1.000518\n",
       "88372  0  0.062632  1.181232       0.058345      1.042740\n",
       "91141  0  0.062180  1.013358       0.036333      0.649340\n",
       "32687  0  0.047674  1.174156       0.032842      0.586949\n",
       "33770  0  0.046892  0.881543       0.041156      0.750031\n",
       "85002  0  0.046848  1.181391       0.036584      0.653829\n",
       "78051  0  0.043869  0.839623       0.025990      0.464495\n",
       "79588  0  0.042315  1.027434       0.025369      0.453398\n",
       "76614  0  0.041599  1.080628       0.019969      0.356878\n",
       "85320  0  0.041513  0.993270       0.045670      0.816204\n",
       "46042  0  0.039591  1.089557       0.037925      0.677791\n",
       "88208  0  0.039476  1.170401       0.032026      0.572360\n",
       "81084  0  0.037965  1.126172       0.026290      0.469860\n",
       "83633  0  0.037962  1.151116       0.020971      0.374800\n",
       "88167  0  0.036096  1.132384       0.014092      0.251854\n",
       "85739  0  0.035712  0.899674       0.030723      0.549082\n",
       "90893  0  0.035530  0.944257       0.038065      0.680291\n",
       "91899  0  0.035274  0.996847       0.017528      0.313268\n",
       "91491  0  0.034186  0.808953       0.031535      0.563599\n",
       "77289  0  0.033513  0.837130       0.021990      0.389864\n",
       "45225  0  0.033167  0.978704       0.026237      0.468912\n",
       "83762  0  0.032942  1.177915       0.051791      0.925616\n",
       "84184  0  0.032838  1.041937       0.041401      0.739919"
      ]
     },
     "execution_count": 16,
     "metadata": {},
     "output_type": "execute_result"
    }
   ],
   "source": [
    "result = big_alpha[[\"Alpha\", \"Beta\", \"Alpha_std_err\", \"Beta_std_err\"]]\n",
    "result"
   ]
  },
  {
   "cell_type": "markdown",
   "metadata": {},
   "source": [
    "### 2. Please report the summary statistics of the returns on the two portfolios you constructed as well as the market portfolio (RM) and riskfree asset returns (RF). Use the sample period from 2008 to 2012 for this question. Some of the stocks might not have 5 year full history here, you are allowed to have a portfolio with less than 25 stocks for earlier months. What you need to present are mean, standard deviation, minimum, and maximum of the returns. Please note that RM = MKTRF + RF."
   ]
  },
  {
   "cell_type": "markdown",
   "metadata": {},
   "source": [
    "**Define function to deal with data:**"
   ]
  },
  {
   "cell_type": "code",
   "execution_count": 17,
   "metadata": {},
   "outputs": [],
   "source": [
    "# define function to shift MKTCAP\n",
    "def shift_MKTCAP(data):\n",
    "    data = data.copy()\n",
    "    data.sort_values(\"DATE\", inplace=True)\n",
    "    shifted_data = data.shift()\n",
    "    selected_column = pd.DataFrame(shifted_data[\"MKTCAP\"])\n",
    "    selected_column.rename(columns={\"MKTCAP\": \"LMKTCAP\"}, inplace=True)\n",
    "    return pd.concat([data, selected_column], axis=1)\n",
    "\n",
    "# define function to calculate weights\n",
    "def calcuate_weight(data):\n",
    "    weights = data[\"LMKTCAP\"] / sum(data[\"LMKTCAP\"])\n",
    "    weights = pd.DataFrame(weights)\n",
    "    weights.rename(columns={\"LMKTCAP\": \"WGT\"}, inplace=True)\n",
    "    return pd.concat([data, weights], axis=1)"
   ]
  },
  {
   "cell_type": "markdown",
   "metadata": {},
   "source": [
    "**Deal with small $\\alpha$ portfolio:**"
   ]
  },
  {
   "cell_type": "code",
   "execution_count": 18,
   "metadata": {
    "scrolled": true
   },
   "outputs": [],
   "source": [
    "# create list for small alpha portfolio\n",
    "small_alpha_list = small_alpha.index.get_level_values(0)\n",
    "\n",
    "# create index to find stocks from \"Sample\" dataset for small alpha stocks\n",
    "small_alpha_index = Sample.PERMNO.apply(\n",
    "    lambda x: x in set(small_alpha.index.get_level_values(0))\n",
    ")\n",
    "\n",
    "# create dataset \"small_alpha_stocks\"\n",
    "small_alpha_stocks = Sample[small_alpha_index]\n",
    "\n",
    "# create new column \"MKTCAP\" to store market cap\n",
    "small_alpha_stocks = small_alpha_stocks.copy()\n",
    "small_alpha_stocks[\"MKTCAP\"] = small_alpha_stocks[\"PRC\"] * small_alpha_stocks[\"SHROUT\"]\n",
    "\n",
    "# group small_alpha_stocks by \"PERMNO\" column, and apply \"shift_MKTCAP\" function to each group\n",
    "small_alpha_stocks = small_alpha_stocks.groupby(\"PERMNO\").apply(\n",
    "    lambda x:shift_MKTCAP(x)\n",
    ")\n",
    "\n",
    "# ungroup small_alpha_stocks \n",
    "# drop \"PERMNO\" column first, so it could put the group key \"PERMNO\" back to the column\n",
    "small_alpha_stocks = small_alpha_stocks.drop(\"PERMNO\", axis=1).reset_index(level=False)\n",
    "\n",
    "# group small_alpha_stocks by \"DATE\" column, and apply \"calcuate_weight\" function to each group\n",
    "small_alpha_stocks = small_alpha_stocks.dropna().groupby(\"DATE\").apply(\n",
    "    lambda x: calcuate_weight(x)\n",
    ")\n",
    "\n",
    "# calculate each stock's return according to its weight\n",
    "small_alpha_stocks[\"VWPRet\"] = small_alpha_stocks[\"RET\"] * small_alpha_stocks[\"WGT\"]\n",
    "\n",
    "# calculate portfolio's return according to each time frame\n",
    "small_alpha_return = small_alpha_stocks.groupby(\"DATE\").sum()[\"VWPRet\"]\n",
    "small_alpha_return = pd.DataFrame(small_alpha_return)"
   ]
  },
  {
   "cell_type": "markdown",
   "metadata": {},
   "source": [
    "**Deal with big 𝛼 portfolio:**"
   ]
  },
  {
   "cell_type": "code",
   "execution_count": 19,
   "metadata": {},
   "outputs": [],
   "source": [
    "# create list for big alpha portfolio\n",
    "big_alpha_list = big_alpha.index.get_level_values(0)\n",
    "\n",
    "# create index to find stocks from \"Sample\" dataset for big alpha stocks\n",
    "big_alpha_index = Sample.PERMNO.apply(\n",
    "    lambda x: x in set(big_alpha.index.get_level_values(0))\n",
    ")\n",
    "\n",
    "# create dataset \"big_alpha_stocks\"\n",
    "big_alpha_stocks = Sample[big_alpha_index]\n",
    "\n",
    "# create new column \"MKTCAP\" to store market cap\n",
    "big_alpha_stocks = big_alpha_stocks.copy()\n",
    "big_alpha_stocks[\"MKTCAP\"] = big_alpha_stocks[\"PRC\"] * big_alpha_stocks[\"SHROUT\"]\n",
    "\n",
    "# group big_alpha_stocks by \"PERMNO\" column, and apply \"shift_MKTCAP\" function to each group\n",
    "big_alpha_stocks = big_alpha_stocks.groupby(\"PERMNO\").apply(\n",
    "    lambda x:shift_MKTCAP(x)\n",
    ")\n",
    "\n",
    "# ungroup big_alpha_stocks \n",
    "# drop \"PERMNO\" column first, so it could put the group key \"PERMNO\" back to the column\n",
    "big_alpha_stocks = big_alpha_stocks.drop(\"PERMNO\", axis=1).reset_index(level=False)\n",
    "\n",
    "# group big_alpha_stocks by \"DATE\" column, and apply \"calcuate_weight\" function to each group\n",
    "big_alpha_stocks = big_alpha_stocks.dropna().groupby(\"DATE\").apply(\n",
    "    lambda x: calcuate_weight(x)\n",
    ")\n",
    "\n",
    "# calculate each stock's return according to its weight\n",
    "big_alpha_stocks[\"VWPRet\"] = big_alpha_stocks[\"RET\"] * big_alpha_stocks[\"WGT\"]\n",
    "\n",
    "# calculate portfolio's return according to each time frame\n",
    "big_alpha_return = big_alpha_stocks.groupby(\"DATE\").sum()[\"VWPRet\"]\n",
    "big_alpha_return = pd.DataFrame(big_alpha_return)"
   ]
  },
  {
   "cell_type": "markdown",
   "metadata": {},
   "source": [
    "**Prepare summary statistics for small $\\alpha$ portfolio:**"
   ]
  },
  {
   "cell_type": "code",
   "execution_count": 20,
   "metadata": {
    "scrolled": true
   },
   "outputs": [],
   "source": [
    "# calculate market portfolio's return\n",
    "RM[\"RM\"] = RM[\"RF\"] + RM[\"MKTRF\"]\n",
    "\n",
    "# create \"DATE\" column(key) to merge \"small_alpha_return\" and \"RM\"\n",
    "small_alpha_return[\"DATE\"] = small_alpha_return.index\n",
    "\n",
    "# merge \"small_alpha_return\" and \"RM\"\n",
    "small_alpha_result = small_alpha_return.merge(RM, on=\"DATE\")\n",
    "\n",
    "# select data which lie between 2008/1/1~2012/12/31\n",
    "small_alpha_temp_return = small_alpha_result[(small_alpha_result.DATE > date_start) & \n",
    "                                             (small_alpha_result.DATE <= date_end)]\n",
    "\n",
    "# drop redundant column\n",
    "small_alpha_temp_return = small_alpha_temp_return.drop([\"DATE\", \"MKTRF\"], axis=1)\n",
    "\n",
    "# rename columns\n",
    "small_alpha_temp_return.columns = [\"Small alpha portfolio\", \"Risk free rate\", \"Market portfolio\"]"
   ]
  },
  {
   "cell_type": "markdown",
   "metadata": {},
   "source": [
    "**Prepare summary statistics for big $\\alpha$ portfolio:**"
   ]
  },
  {
   "cell_type": "code",
   "execution_count": 21,
   "metadata": {},
   "outputs": [],
   "source": [
    "# create \"DATE\" column(key) to merge \"big_alpha_return\" and \"RM\"\n",
    "big_alpha_return[\"DATE\"] = big_alpha_return.index\n",
    "\n",
    "# merge \"big_alpha_return\" and \"RM\"\n",
    "big_alpha_result = big_alpha_return.merge(RM, on=\"DATE\")\n",
    "\n",
    "# select data which lie between 2008/1/1~2012/12/31\n",
    "big_alpha_temp_return = big_alpha_result[(big_alpha_result.DATE > date_start) & \n",
    "                                             (big_alpha_result.DATE <= date_end)]\n",
    "\n",
    "# drop redundant column\n",
    "big_alpha_temp_return = big_alpha_temp_return.drop([\"DATE\", \"MKTRF\"], axis=1)\n",
    "\n",
    "# rename columns\n",
    "big_alpha_temp_return.columns = [\"Big alpha portfolio\", \"Risk free rate\", \"Market portfolio\"]"
   ]
  },
  {
   "cell_type": "markdown",
   "metadata": {},
   "source": [
    "**Summary statistics for big, small $\\alpha$ portfolio, market portfolio, and risk free rate:**"
   ]
  },
  {
   "cell_type": "code",
   "execution_count": 22,
   "metadata": {
    "scrolled": true
   },
   "outputs": [
    {
     "data": {
      "text/html": [
       "<div>\n",
       "<style scoped>\n",
       "    .dataframe tbody tr th:only-of-type {\n",
       "        vertical-align: middle;\n",
       "    }\n",
       "\n",
       "    .dataframe tbody tr th {\n",
       "        vertical-align: top;\n",
       "    }\n",
       "\n",
       "    .dataframe thead th {\n",
       "        text-align: right;\n",
       "    }\n",
       "</style>\n",
       "<table border=\"1\" class=\"dataframe\">\n",
       "  <thead>\n",
       "    <tr style=\"text-align: right;\">\n",
       "      <th></th>\n",
       "      <th>count</th>\n",
       "      <th>mean</th>\n",
       "      <th>std</th>\n",
       "      <th>min</th>\n",
       "      <th>25%</th>\n",
       "      <th>50%</th>\n",
       "      <th>75%</th>\n",
       "      <th>max</th>\n",
       "    </tr>\n",
       "  </thead>\n",
       "  <tbody>\n",
       "    <tr>\n",
       "      <th>Big alpha portfolio</th>\n",
       "      <td>60.0</td>\n",
       "      <td>0.028709</td>\n",
       "      <td>0.099420</td>\n",
       "      <td>-0.172531</td>\n",
       "      <td>-0.026811</td>\n",
       "      <td>0.023769</td>\n",
       "      <td>0.087257</td>\n",
       "      <td>0.270571</td>\n",
       "    </tr>\n",
       "    <tr>\n",
       "      <th>Small alpha portfolio</th>\n",
       "      <td>60.0</td>\n",
       "      <td>-0.030993</td>\n",
       "      <td>0.086647</td>\n",
       "      <td>-0.274247</td>\n",
       "      <td>-0.085000</td>\n",
       "      <td>-0.018025</td>\n",
       "      <td>0.032759</td>\n",
       "      <td>0.118665</td>\n",
       "    </tr>\n",
       "    <tr>\n",
       "      <th>Market portfolio</th>\n",
       "      <td>60.0</td>\n",
       "      <td>0.003395</td>\n",
       "      <td>0.056189</td>\n",
       "      <td>-0.171500</td>\n",
       "      <td>-0.026825</td>\n",
       "      <td>0.009900</td>\n",
       "      <td>0.038900</td>\n",
       "      <td>0.113500</td>\n",
       "    </tr>\n",
       "    <tr>\n",
       "      <th>Risk free rate</th>\n",
       "      <td>60.0</td>\n",
       "      <td>0.000312</td>\n",
       "      <td>0.000579</td>\n",
       "      <td>0.000000</td>\n",
       "      <td>0.000000</td>\n",
       "      <td>0.000100</td>\n",
       "      <td>0.000100</td>\n",
       "      <td>0.002100</td>\n",
       "    </tr>\n",
       "  </tbody>\n",
       "</table>\n",
       "</div>"
      ],
      "text/plain": [
       "                       count      mean       std       min       25%  \\\n",
       "Big alpha portfolio     60.0  0.028709  0.099420 -0.172531 -0.026811   \n",
       "Small alpha portfolio   60.0 -0.030993  0.086647 -0.274247 -0.085000   \n",
       "Market portfolio        60.0  0.003395  0.056189 -0.171500 -0.026825   \n",
       "Risk free rate          60.0  0.000312  0.000579  0.000000  0.000000   \n",
       "\n",
       "                            50%       75%       max  \n",
       "Big alpha portfolio    0.023769  0.087257  0.270571  \n",
       "Small alpha portfolio -0.018025  0.032759  0.118665  \n",
       "Market portfolio       0.009900  0.038900  0.113500  \n",
       "Risk free rate         0.000100  0.000100  0.002100  "
      ]
     },
     "execution_count": 22,
     "metadata": {},
     "output_type": "execute_result"
    }
   ],
   "source": [
    "result = pd.concat([small_alpha_temp_return.describe(), \n",
    "                    big_alpha_temp_return.describe()], axis=1)\n",
    "\n",
    "result = result[[\"Big alpha portfolio\", \"Small alpha portfolio\", \n",
    "                 \"Market portfolio\", \"Risk free rate\"]]\n",
    "\n",
    "result.T.drop_duplicates()"
   ]
  },
  {
   "cell_type": "code",
   "execution_count": 23,
   "metadata": {},
   "outputs": [
    {
     "data": {
      "image/png": "[encoded data removed]",
      "text/plain": [
       "<matplotlib.figure.Figure at 0x210c77c1f98>"
      ]
     },
     "metadata": {},
     "output_type": "display_data"
    }
   ],
   "source": [
    "# plot box plot of return for different portfolios\n",
    "plt.style.use('seaborn')\n",
    "small_alpha_temp_return[\"Big alpha portfolio\"] = big_alpha_temp_return[\"Big alpha portfolio\"]\n",
    "plt.figure(figsize=(14, 8))\n",
    "\n",
    "plot_data = [small_alpha_temp_return[\"Small alpha portfolio\"], \n",
    "             small_alpha_temp_return[\"Big alpha portfolio\"], \n",
    "             small_alpha_temp_return[\"Market portfolio\"]]\n",
    "\n",
    "labels = [\"Small alpha portfolio\", \"Big alpha portfolio\", \"Market portfolio\"]\n",
    "\n",
    "plt.boxplot(plot_data, labels=labels)\n",
    "plt.title(\"Box plot of return for different portfolios\", size=14)\n",
    "plt.ylabel(\"Return\", fontsize=14)\n",
    "plt.legend();"
   ]
  },
  {
   "cell_type": "markdown",
   "metadata": {},
   "source": [
    "### 3. Please proceed with the stocks you picked to construct those two portfolios for the 2013-2017 period. Report your portfolio $\\alpha$ and $\\beta$ for this period and discuss whether your $\\alpha$ is still significant and whether your $\\beta$ remains insignificantly different from 1 for each portfolio."
   ]
  },
  {
   "cell_type": "markdown",
   "metadata": {},
   "source": [
    "**Define function for hypothesis testing:**"
   ]
  },
  {
   "cell_type": "code",
   "execution_count": 24,
   "metadata": {},
   "outputs": [],
   "source": [
    "def hypothesis_testing(data):\n",
    "    # calculate t value for the hypothesis testing for Beta(different from 1 or not)\n",
    "    Beta_t_value = (data[\"Beta\"] - 1) / data[\"Beta_std_err\"]\n",
    "    # transform the t value above to p value\n",
    "    Beta_p_value = t.sf(np.abs(Beta_t_value), data[\"counts\"]-2) * 2\n",
    "    # prepare result for hypothesis testing\n",
    "    result = pd.concat([pd.DataFrame(data[[\"Alpha\", \"Beta\", \"Alpha_p_value\"]]),\n",
    "                        pd.DataFrame([Beta_p_value])], axis=1)\n",
    "    # rename column\n",
    "    result.rename(columns={0: \"Beta_p_value\"}, inplace=True)\n",
    "    return result"
   ]
  },
  {
   "cell_type": "markdown",
   "metadata": {},
   "source": [
    "**Run regression with small $\\alpha$ portfolio:**"
   ]
  },
  {
   "cell_type": "code",
   "execution_count": 25,
   "metadata": {
    "scrolled": true
   },
   "outputs": [],
   "source": [
    "# create new column \"RIRF\" for excess return on market\n",
    "small_alpha_result[\"RIRF\"] = small_alpha_result[\"VWPRet\"] - small_alpha_result[\"RF\"]\n",
    "\n",
    "# select data which lie between 2008/01/01 and 2012/12/31\n",
    "date_start = datetime.strptime(\"2008/01/01\", \"%Y/%m/%d\").date()\n",
    "date_end = datetime.strptime(\"2012/12/31\", \"%Y/%m/%d\").date()\n",
    "reg_early = small_alpha_result[(small_alpha_result.DATE > date_start) & \n",
    "                               (small_alpha_result.DATE <= date_end)]\n",
    "\n",
    "# select data which lie between 2013/01/01 and 2017/12/31\n",
    "date_start = datetime.strptime(\"2013/01/01\", \"%Y/%m/%d\").date()\n",
    "date_end = datetime.strptime(\"2017/12/31\", \"%Y/%m/%d\").date()\n",
    "reg_later = small_alpha_result[(small_alpha_result.DATE > date_start) &\n",
    "                               (small_alpha_result.DATE <= date_end)]\n",
    "\n",
    "# run regression for different time frame\n",
    "reg_early_result = run_regression(reg_early.MKTRF, reg_early.RIRF)\n",
    "reg_later_result = run_regression(reg_later.MKTRF, reg_later.RIRF)"
   ]
  },
  {
   "cell_type": "markdown",
   "metadata": {},
   "source": [
    "**Prepare hypothesis testing for small alpha portfolio:**"
   ]
  },
  {
   "cell_type": "code",
   "execution_count": 26,
   "metadata": {
    "scrolled": true
   },
   "outputs": [
    {
     "data": {
      "text/html": [
       "<div>\n",
       "<style scoped>\n",
       "    .dataframe tbody tr th:only-of-type {\n",
       "        vertical-align: middle;\n",
       "    }\n",
       "\n",
       "    .dataframe tbody tr th {\n",
       "        vertical-align: top;\n",
       "    }\n",
       "\n",
       "    .dataframe thead th {\n",
       "        text-align: right;\n",
       "    }\n",
       "</style>\n",
       "<table border=\"1\" class=\"dataframe\">\n",
       "  <thead>\n",
       "    <tr style=\"text-align: right;\">\n",
       "      <th></th>\n",
       "      <th>Alpha</th>\n",
       "      <th>Beta</th>\n",
       "      <th>Alpha_p_value</th>\n",
       "      <th>Beta_p_value</th>\n",
       "    </tr>\n",
       "  </thead>\n",
       "  <tbody>\n",
       "    <tr>\n",
       "      <th>2008~2012</th>\n",
       "      <td>-0.034489</td>\n",
       "      <td>1.032835</td>\n",
       "      <td>0.000125</td>\n",
       "      <td>0.827384</td>\n",
       "    </tr>\n",
       "    <tr>\n",
       "      <th>2013~2017</th>\n",
       "      <td>-0.009464</td>\n",
       "      <td>1.497478</td>\n",
       "      <td>0.170870</td>\n",
       "      <td>0.027656</td>\n",
       "    </tr>\n",
       "  </tbody>\n",
       "</table>\n",
       "</div>"
      ],
      "text/plain": [
       "              Alpha      Beta  Alpha_p_value  Beta_p_value\n",
       "2008~2012 -0.034489  1.032835       0.000125      0.827384\n",
       "2013~2017 -0.009464  1.497478       0.170870      0.027656"
      ]
     },
     "execution_count": 26,
     "metadata": {},
     "output_type": "execute_result"
    }
   ],
   "source": [
    "# run hypothesis for different time frame\n",
    "early_result = hypothesis_testing(reg_early_result)\n",
    "later_result = hypothesis_testing(reg_later_result)\n",
    "result = pd.concat([early_result, later_result]).T\n",
    "\n",
    "#rename column\n",
    "result.columns = [\"2008~2012\", \"2013~2017\"]\n",
    "result.T"
   ]
  },
  {
   "cell_type": "markdown",
   "metadata": {},
   "source": [
    "**Under 95% confidence level, null hypothesis and alternative hypothesis for $\\alpha$ and $\\beta$:**\n",
    "\n",
    "$\\alpha$:\n",
    "\n",
    "${H_0}$ : $\\alpha$ = 0\n",
    "\n",
    "${H_1}$ : $\\alpha$ $\\neq$ 0\n",
    "\n",
    "$\\beta$:\n",
    "\n",
    "${H_0}$ : $\\beta$ = 1\n",
    "\n",
    "${H_1}$ : $\\beta$ $\\neq$ 1\n",
    "\n",
    "From the table above, we find that $\\alpha$ is significantly different from 0, and $\\beta$ is insignificantly different from 1 in 2008~2012, which has met our expectation. However, $\\alpha$ is insignificantly different from 0, and $\\beta$ is significantly different from 1 in 2013~2017. It means risk-adjusted abnormal return might not exist in this small $\\alpha$ portfolio after 2013. Its $\\beta$ is significantly different from 1, in this case 1.49, which means this portfolio's return is more volatile than market portfolio's return after 2013."
   ]
  },
  {
   "cell_type": "markdown",
   "metadata": {},
   "source": [
    "**Run regression with big $\\alpha$ portfolio:**"
   ]
  },
  {
   "cell_type": "code",
   "execution_count": 27,
   "metadata": {},
   "outputs": [],
   "source": [
    "# create new column \"RIRF\" for excess return on market\n",
    "big_alpha_result[\"RIRF\"] = big_alpha_result[\"VWPRet\"] - big_alpha_result[\"RF\"]\n",
    "\n",
    "# select data which lie between 2008/01/01 and 2012/12/31\n",
    "date_start = datetime.strptime(\"2008/01/01\", \"%Y/%m/%d\").date()\n",
    "date_end = datetime.strptime(\"2012/12/31\", \"%Y/%m/%d\").date()\n",
    "reg_early = big_alpha_result[(big_alpha_result.DATE > date_start) & \n",
    "                               (big_alpha_result.DATE <= date_end)]\n",
    "\n",
    "# select data which lie between 2013/01/01 and 2017/12/31\n",
    "date_start = datetime.strptime(\"2013/01/01\", \"%Y/%m/%d\").date()\n",
    "date_end = datetime.strptime(\"2017/12/31\", \"%Y/%m/%d\").date()\n",
    "reg_later = big_alpha_result[(big_alpha_result.DATE > date_start) &\n",
    "                               (big_alpha_result.DATE <= date_end)]\n",
    "\n",
    "# run regression\n",
    "reg_early_result = run_regression(reg_early.MKTRF, reg_early.RIRF)\n",
    "reg_later_result = run_regression(reg_later.MKTRF, reg_later.RIRF)"
   ]
  },
  {
   "cell_type": "markdown",
   "metadata": {},
   "source": [
    "**Prepare hypothesis testing for big alpha portfolio:**"
   ]
  },
  {
   "cell_type": "code",
   "execution_count": 28,
   "metadata": {
    "scrolled": true
   },
   "outputs": [
    {
     "data": {
      "text/html": [
       "<div>\n",
       "<style scoped>\n",
       "    .dataframe tbody tr th:only-of-type {\n",
       "        vertical-align: middle;\n",
       "    }\n",
       "\n",
       "    .dataframe tbody tr th {\n",
       "        vertical-align: top;\n",
       "    }\n",
       "\n",
       "    .dataframe thead th {\n",
       "        text-align: right;\n",
       "    }\n",
       "</style>\n",
       "<table border=\"1\" class=\"dataframe\">\n",
       "  <thead>\n",
       "    <tr style=\"text-align: right;\">\n",
       "      <th></th>\n",
       "      <th>Alpha</th>\n",
       "      <th>Beta</th>\n",
       "      <th>Alpha_p_value</th>\n",
       "      <th>Beta_p_value</th>\n",
       "    </tr>\n",
       "  </thead>\n",
       "  <tbody>\n",
       "    <tr>\n",
       "      <th>2008~2012</th>\n",
       "      <td>0.025507</td>\n",
       "      <td>0.937252</td>\n",
       "      <td>0.023981</td>\n",
       "      <td>0.750793</td>\n",
       "    </tr>\n",
       "    <tr>\n",
       "      <th>2013~2017</th>\n",
       "      <td>-0.000026</td>\n",
       "      <td>1.372307</td>\n",
       "      <td>0.997823</td>\n",
       "      <td>0.231809</td>\n",
       "    </tr>\n",
       "  </tbody>\n",
       "</table>\n",
       "</div>"
      ],
      "text/plain": [
       "              Alpha      Beta  Alpha_p_value  Beta_p_value\n",
       "2008~2012  0.025507  0.937252       0.023981      0.750793\n",
       "2013~2017 -0.000026  1.372307       0.997823      0.231809"
      ]
     },
     "execution_count": 28,
     "metadata": {},
     "output_type": "execute_result"
    }
   ],
   "source": [
    "# run hypothesis for different time frame\n",
    "early_result = hypothesis_testing(reg_early_result)\n",
    "later_result = hypothesis_testing(reg_later_result)\n",
    "result = pd.concat([early_result, later_result]).T\n",
    "\n",
    "#rename column\n",
    "result.columns = [\"2008~2012\", \"2013~2017\"]\n",
    "result.T"
   ]
  },
  {
   "cell_type": "markdown",
   "metadata": {},
   "source": [
    "**Under 95% confidence level, null hypothesis and alternative hypothesis for $\\alpha$ and $\\beta$:**\n",
    "\n",
    "$\\alpha$:\n",
    "\n",
    "${H_0}$ : $\\alpha$ = 0\n",
    "\n",
    "${H_1}$ : $\\alpha$ $\\neq$ 0\n",
    "\n",
    "$\\beta$:\n",
    "\n",
    "${H_0}$ : $\\beta$ = 1\n",
    "\n",
    "${H_1}$ : $\\beta$ $\\neq$ 1\n",
    "\n",
    "From the table above, we find that $\\alpha$ is significantly different from 0, and $\\beta$ is insignificantly different from 1 in 2008~2012, which has met our expectation. In 2013~2017, $\\alpha$ is insignificantly different from 0, and $\\beta$ is insignificantly different from 1. It means risk-adjusted abnormal return might not exist in this big $\\alpha$ portfolio, and the volatility of this portfolio's return is insignificantly different from the volatility of market portfolio's return after 2013."
   ]
  },
  {
   "cell_type": "markdown",
   "metadata": {},
   "source": [
    "### 4. Present the performance of your portfolios from 2013 to 2017. Please report your portfolio returns and volatilities during these five years and compare them against the performance of the market portfolio."
   ]
  },
  {
   "cell_type": "markdown",
   "metadata": {},
   "source": [
    "**Comparison between small $\\alpha$ portfolio and market portfolio:**"
   ]
  },
  {
   "cell_type": "code",
   "execution_count": 29,
   "metadata": {},
   "outputs": [
    {
     "data": {
      "text/html": [
       "<div>\n",
       "<style scoped>\n",
       "    .dataframe tbody tr th:only-of-type {\n",
       "        vertical-align: middle;\n",
       "    }\n",
       "\n",
       "    .dataframe tbody tr th {\n",
       "        vertical-align: top;\n",
       "    }\n",
       "\n",
       "    .dataframe thead th {\n",
       "        text-align: right;\n",
       "    }\n",
       "</style>\n",
       "<table border=\"1\" class=\"dataframe\">\n",
       "  <thead>\n",
       "    <tr style=\"text-align: right;\">\n",
       "      <th></th>\n",
       "      <th>count</th>\n",
       "      <th>mean</th>\n",
       "      <th>std</th>\n",
       "      <th>min</th>\n",
       "      <th>25%</th>\n",
       "      <th>50%</th>\n",
       "      <th>75%</th>\n",
       "      <th>max</th>\n",
       "    </tr>\n",
       "  </thead>\n",
       "  <tbody>\n",
       "    <tr>\n",
       "      <th>Small alpha portfolio</th>\n",
       "      <td>60.0</td>\n",
       "      <td>0.009655</td>\n",
       "      <td>0.064133</td>\n",
       "      <td>-0.165551</td>\n",
       "      <td>-0.035788</td>\n",
       "      <td>0.012258</td>\n",
       "      <td>0.054291</td>\n",
       "      <td>0.144565</td>\n",
       "    </tr>\n",
       "    <tr>\n",
       "      <th>Market portfolio</th>\n",
       "      <td>60.0</td>\n",
       "      <td>0.012823</td>\n",
       "      <td>0.028548</td>\n",
       "      <td>-0.060400</td>\n",
       "      <td>-0.000525</td>\n",
       "      <td>0.013250</td>\n",
       "      <td>0.028875</td>\n",
       "      <td>0.077500</td>\n",
       "    </tr>\n",
       "  </tbody>\n",
       "</table>\n",
       "</div>"
      ],
      "text/plain": [
       "                       count      mean       std       min       25%  \\\n",
       "Small alpha portfolio   60.0  0.009655  0.064133 -0.165551 -0.035788   \n",
       "Market portfolio        60.0  0.012823  0.028548 -0.060400 -0.000525   \n",
       "\n",
       "                            50%       75%       max  \n",
       "Small alpha portfolio  0.012258  0.054291  0.144565  \n",
       "Market portfolio       0.013250  0.028875  0.077500  "
      ]
     },
     "execution_count": 29,
     "metadata": {},
     "output_type": "execute_result"
    }
   ],
   "source": [
    "# select data which lie between 2013~2017\n",
    "temp_result = small_alpha_result[(small_alpha_result.DATE > date_start) & \n",
    "                                 (small_alpha_result.DATE <= date_end)]\n",
    "\n",
    "# set \"DATE\" column as index(it will be convenient for plotting)\n",
    "temp_result.index = temp_result.DATE\n",
    "\n",
    "# select columns\n",
    "temp_result = temp_result[[\"VWPRet\", \"RM\"]]\n",
    "\n",
    "# rename columns \n",
    "temp_result.columns = [\"Small alpha portfolio\", \"Market portfolio\"]\n",
    "\n",
    "# comparison of small alpha portfolio and market portfolio\n",
    "temp_result.describe().T"
   ]
  },
  {
   "cell_type": "code",
   "execution_count": 30,
   "metadata": {
    "scrolled": false
   },
   "outputs": [
    {
     "data": {
      "image/png": "[encoded data removed]",
      "text/plain": [
       "<matplotlib.figure.Figure at 0x210d478ad68>"
      ]
     },
     "metadata": {},
     "output_type": "display_data"
    }
   ],
   "source": [
    "# visualize portfolios' return\n",
    "plt.figure(figsize=(14, 8))\n",
    "plt.plot(temp_result[\"Small alpha portfolio\"], label=r\"Small $\\alpha$ portfolio\", marker=\".\", ms=10)\n",
    "plt.plot(temp_result[\"Market portfolio\"], label=\"Market portfolio\", marker=\".\", ms=10)\n",
    "plt.title(\"Return of portfolios\", size=14)\n",
    "plt.xlabel(\"Year\", size=14)\n",
    "plt.ylabel(\"Return\", size=14)\n",
    "plt.legend(fontsize=12);"
   ]
  },
  {
   "cell_type": "markdown",
   "metadata": {},
   "source": [
    "From the table and figure above, we can find that small $\\alpha$ portfolio is more volatile(significantly, see hypothesis testing in question 3) than market portfolio, and its average return is lower than market portfolio, which seems to meet our expectation."
   ]
  },
  {
   "cell_type": "markdown",
   "metadata": {},
   "source": [
    "**Comparison between big $\\alpha$ portfolio and market portfolio:**"
   ]
  },
  {
   "cell_type": "code",
   "execution_count": 31,
   "metadata": {},
   "outputs": [
    {
     "data": {
      "text/html": [
       "<div>\n",
       "<style scoped>\n",
       "    .dataframe tbody tr th:only-of-type {\n",
       "        vertical-align: middle;\n",
       "    }\n",
       "\n",
       "    .dataframe tbody tr th {\n",
       "        vertical-align: top;\n",
       "    }\n",
       "\n",
       "    .dataframe thead th {\n",
       "        text-align: right;\n",
       "    }\n",
       "</style>\n",
       "<table border=\"1\" class=\"dataframe\">\n",
       "  <thead>\n",
       "    <tr style=\"text-align: right;\">\n",
       "      <th></th>\n",
       "      <th>count</th>\n",
       "      <th>mean</th>\n",
       "      <th>std</th>\n",
       "      <th>min</th>\n",
       "      <th>25%</th>\n",
       "      <th>50%</th>\n",
       "      <th>75%</th>\n",
       "      <th>max</th>\n",
       "    </tr>\n",
       "  </thead>\n",
       "  <tbody>\n",
       "    <tr>\n",
       "      <th>Big alpha portfolio</th>\n",
       "      <td>60.0</td>\n",
       "      <td>0.017509</td>\n",
       "      <td>0.077510</td>\n",
       "      <td>-0.210678</td>\n",
       "      <td>-0.031939</td>\n",
       "      <td>0.021399</td>\n",
       "      <td>0.066944</td>\n",
       "      <td>0.183163</td>\n",
       "    </tr>\n",
       "    <tr>\n",
       "      <th>Market portfolio</th>\n",
       "      <td>60.0</td>\n",
       "      <td>0.012823</td>\n",
       "      <td>0.028548</td>\n",
       "      <td>-0.060400</td>\n",
       "      <td>-0.000525</td>\n",
       "      <td>0.013250</td>\n",
       "      <td>0.028875</td>\n",
       "      <td>0.077500</td>\n",
       "    </tr>\n",
       "  </tbody>\n",
       "</table>\n",
       "</div>"
      ],
      "text/plain": [
       "                     count      mean       std       min       25%       50%  \\\n",
       "Big alpha portfolio   60.0  0.017509  0.077510 -0.210678 -0.031939  0.021399   \n",
       "Market portfolio      60.0  0.012823  0.028548 -0.060400 -0.000525  0.013250   \n",
       "\n",
       "                          75%       max  \n",
       "Big alpha portfolio  0.066944  0.183163  \n",
       "Market portfolio     0.028875  0.077500  "
      ]
     },
     "execution_count": 31,
     "metadata": {},
     "output_type": "execute_result"
    }
   ],
   "source": [
    "# select data which lie between 2013~2017\n",
    "temp_result = big_alpha_result[(small_alpha_result.DATE > date_start) & \n",
    "                                 (small_alpha_result.DATE <= date_end)]\n",
    "\n",
    "# set \"DATE\" column as index(it will be convenient for plotting)\n",
    "temp_result.index = temp_result.DATE\n",
    "\n",
    "# select columns\n",
    "temp_result = temp_result[[\"VWPRet\", \"RM\"]]\n",
    "\n",
    "# rename columns \n",
    "temp_result.columns = [\"Big alpha portfolio\", \"Market portfolio\"]\n",
    "\n",
    "# comparison of big alpha portfolio and market portfolio\n",
    "temp_result.describe().T"
   ]
  },
  {
   "cell_type": "code",
   "execution_count": 32,
   "metadata": {
    "scrolled": false
   },
   "outputs": [
    {
     "data": {
      "image/png": "[encoded data removed]",
      "text/plain": [
       "<matplotlib.figure.Figure at 0x210d4a73d30>"
      ]
     },
     "metadata": {},
     "output_type": "display_data"
    }
   ],
   "source": [
    "# visualize portfolios' return\n",
    "plt.style.use('seaborn')\n",
    "plt.figure(figsize=(14, 8))\n",
    "plt.plot(temp_result[\"Big alpha portfolio\"], label=r\"Big $\\alpha$ portfolio\", marker=\".\", ms=10)\n",
    "plt.plot(temp_result[\"Market portfolio\"], label=\"Market portfolio\", marker=\".\", ms=10)\n",
    "plt.title(\"Return of portfolios\", size=14)\n",
    "plt.xlabel(\"Year\", size=14)\n",
    "plt.ylabel(\"Return\", size=14)\n",
    "plt.legend(fontsize=12);"
   ]
  },
  {
   "cell_type": "markdown",
   "metadata": {},
   "source": [
    "From the table and figure above, we can find that big 𝛼 portfolio seems more volatile(but insignificantly, see hypothesis testing in question 3) than market portfolio, and its average return is bigger than market portfolio, which seems to meet our expectation."
   ]
  },
  {
   "cell_type": "markdown",
   "metadata": {},
   "source": [
    "### 5. Do you get the benefit from the portfolio with a big $\\alpha$? If you do, how much do you think this result stems from good luck? If you don’t, what do you think went wrong?"
   ]
  },
  {
   "cell_type": "code",
   "execution_count": 33,
   "metadata": {},
   "outputs": [
    {
     "data": {
      "text/html": [
       "<div>\n",
       "<style scoped>\n",
       "    .dataframe tbody tr th:only-of-type {\n",
       "        vertical-align: middle;\n",
       "    }\n",
       "\n",
       "    .dataframe tbody tr th {\n",
       "        vertical-align: top;\n",
       "    }\n",
       "\n",
       "    .dataframe thead th {\n",
       "        text-align: right;\n",
       "    }\n",
       "</style>\n",
       "<table border=\"1\" class=\"dataframe\">\n",
       "  <thead>\n",
       "    <tr style=\"text-align: right;\">\n",
       "      <th></th>\n",
       "      <th>count</th>\n",
       "      <th>mean</th>\n",
       "      <th>std</th>\n",
       "      <th>min</th>\n",
       "      <th>25%</th>\n",
       "      <th>50%</th>\n",
       "      <th>75%</th>\n",
       "      <th>max</th>\n",
       "    </tr>\n",
       "  </thead>\n",
       "  <tbody>\n",
       "    <tr>\n",
       "      <th>Big alpha portfolio</th>\n",
       "      <td>60.0</td>\n",
       "      <td>0.017509</td>\n",
       "      <td>0.077510</td>\n",
       "      <td>-0.210678</td>\n",
       "      <td>-0.031939</td>\n",
       "      <td>0.021399</td>\n",
       "      <td>0.066944</td>\n",
       "      <td>0.183163</td>\n",
       "    </tr>\n",
       "    <tr>\n",
       "      <th>Market portfolio</th>\n",
       "      <td>60.0</td>\n",
       "      <td>0.012823</td>\n",
       "      <td>0.028548</td>\n",
       "      <td>-0.060400</td>\n",
       "      <td>-0.000525</td>\n",
       "      <td>0.013250</td>\n",
       "      <td>0.028875</td>\n",
       "      <td>0.077500</td>\n",
       "    </tr>\n",
       "  </tbody>\n",
       "</table>\n",
       "</div>"
      ],
      "text/plain": [
       "                     count      mean       std       min       25%       50%  \\\n",
       "Big alpha portfolio   60.0  0.017509  0.077510 -0.210678 -0.031939  0.021399   \n",
       "Market portfolio      60.0  0.012823  0.028548 -0.060400 -0.000525  0.013250   \n",
       "\n",
       "                          75%       max  \n",
       "Big alpha portfolio  0.066944  0.183163  \n",
       "Market portfolio     0.028875  0.077500  "
      ]
     },
     "execution_count": 33,
     "metadata": {},
     "output_type": "execute_result"
    }
   ],
   "source": [
    "# comparison of big alpha portfolio and market portfolio\n",
    "temp_result.describe().T"
   ]
  },
  {
   "cell_type": "markdown",
   "metadata": {},
   "source": [
    "Although big $\\alpha$ portfolio's return (1.75%) is higher than market portfolio's return (1.28%), but we think this result actually stems from good luck. Beacause the risk-adjusted abnormal return of big $\\alpha$ portfolio is insignificantly different from 0 (see hypothesis testing in question 3), which means from the view of statistics we don't actually having risk-adjusted abnormal return."
   ]
  },
  {
   "cell_type": "markdown",
   "metadata": {},
   "source": [
    "### 6. We can employ a long-short strategy by longing the portfolio with a large $\\alpha$ and shorting the other one. Since both portfolios have a $\\beta$ close to 1, this strategy basically gives you a zero-cost portfolio in theory (you actually have to pay transaction costs and the interests due to borrowing stocks), and you bear almost no market risk yet still have a positive $\\alpha$. That $\\alpha$ is supposed to be your ‘excess return’ (the difference of the returns on the big $\\alpha$ portfolio and the small $\\alpha$ portfolio) from the strategy. Do you get a positive return over this period (2013-2017) with said strategy?"
   ]
  },
  {
   "cell_type": "markdown",
   "metadata": {},
   "source": [
    "**Summary statistics for long-short strategy portfolio in different time frame:**"
   ]
  },
  {
   "cell_type": "code",
   "execution_count": 34,
   "metadata": {
    "scrolled": false
   },
   "outputs": [],
   "source": [
    "# select data which lie between 2008/01/01 and 2012/12/31\n",
    "date_start = datetime.strptime(\"2008/01/01\", \"%Y/%m/%d\").date()\n",
    "date_end = datetime.strptime(\"2017/12/31\", \"%Y/%m/%d\").date()\n",
    "\n",
    "small_temp_result = small_alpha_result[(small_alpha_result.DATE > date_start) & \n",
    "                                       (small_alpha_result.DATE <= date_end)]\n",
    "\n",
    "big_temp_result = big_alpha_result[(big_alpha_result.DATE > date_start) & \n",
    "                                (big_alpha_result.DATE <= date_end)]\n",
    "\n",
    "# calculate return of long and short strategy\n",
    "long_short_result = big_temp_result[\"VWPRet\"] - small_temp_result[\"VWPRet\"]\n",
    "\n",
    "# prepare statistics for long-short strategy portfolio\n",
    "long_short_result_early = pd.DataFrame(long_short_result.iloc[:60, ].describe())\n",
    "long_short_result_early.columns = [\"Long and short portfolio (2008~2012)\"]\n",
    "\n",
    "long_short_result_later = pd.DataFrame(long_short_result.iloc[60:, ].describe())\n",
    "long_short_result_later.columns = [\"Long and short portfolio (2013~2017)\"]\n",
    "\n",
    "long_short_result_combine = pd.concat([long_short_result_early.T, long_short_result_later.T])"
   ]
  },
  {
   "cell_type": "markdown",
   "metadata": {},
   "source": [
    "Prepare hypothesis testing for long-short strategy portfolio:"
   ]
  },
  {
   "cell_type": "code",
   "execution_count": 35,
   "metadata": {
    "scrolled": true
   },
   "outputs": [],
   "source": [
    "# select data which lie between 2013~2017 (the last 60 points)\n",
    "long_short_return = long_short_result.iloc[60:]\n",
    "\n",
    "# calculate mean\n",
    "long_short_return_mean = long_short_return.mean() \n",
    "\n",
    "# calculate standard error\n",
    "stand_err = long_short_return.std() / np.sqrt(60)\n",
    "\n",
    "# calculate t value\n",
    "long_short_return_t_value = (long_short_return_mean - 0) / stand_err\n",
    "\n",
    "# calculate p value, using paired sample t test, degree of freedom = 59\n",
    "long_short_return_p_value = t.sf(np.abs(long_short_return_t_value), 60-1)\n",
    "\n",
    "hypothesis_result = pd.DataFrame([long_short_return_mean, stand_err, \n",
    "                                  long_short_return_t_value, long_short_return_p_value]).T\n",
    "\n",
    "hypothesis_result.columns = [\"Mean\", \"Standard error\", \"t value\", \"p value\"]"
   ]
  },
  {
   "cell_type": "code",
   "execution_count": 36,
   "metadata": {
    "scrolled": true
   },
   "outputs": [
    {
     "data": {
      "text/html": [
       "<div>\n",
       "<style scoped>\n",
       "    .dataframe tbody tr th:only-of-type {\n",
       "        vertical-align: middle;\n",
       "    }\n",
       "\n",
       "    .dataframe tbody tr th {\n",
       "        vertical-align: top;\n",
       "    }\n",
       "\n",
       "    .dataframe thead th {\n",
       "        text-align: right;\n",
       "    }\n",
       "</style>\n",
       "<table border=\"1\" class=\"dataframe\">\n",
       "  <thead>\n",
       "    <tr style=\"text-align: right;\">\n",
       "      <th></th>\n",
       "      <th>count</th>\n",
       "      <th>mean</th>\n",
       "      <th>std</th>\n",
       "      <th>min</th>\n",
       "      <th>25%</th>\n",
       "      <th>50%</th>\n",
       "      <th>75%</th>\n",
       "      <th>max</th>\n",
       "    </tr>\n",
       "  </thead>\n",
       "  <tbody>\n",
       "    <tr>\n",
       "      <th>Long and short portfolio (2008~2012)</th>\n",
       "      <td>60.0</td>\n",
       "      <td>0.059702</td>\n",
       "      <td>0.106864</td>\n",
       "      <td>-0.167523</td>\n",
       "      <td>-0.023275</td>\n",
       "      <td>0.058379</td>\n",
       "      <td>0.123295</td>\n",
       "      <td>0.322463</td>\n",
       "    </tr>\n",
       "    <tr>\n",
       "      <th>Long and short portfolio (2013~2017)</th>\n",
       "      <td>60.0</td>\n",
       "      <td>0.007854</td>\n",
       "      <td>0.074492</td>\n",
       "      <td>-0.194985</td>\n",
       "      <td>-0.046126</td>\n",
       "      <td>0.007794</td>\n",
       "      <td>0.054880</td>\n",
       "      <td>0.166130</td>\n",
       "    </tr>\n",
       "  </tbody>\n",
       "</table>\n",
       "</div>"
      ],
      "text/plain": [
       "                                      count      mean       std       min  \\\n",
       "Long and short portfolio (2008~2012)   60.0  0.059702  0.106864 -0.167523   \n",
       "Long and short portfolio (2013~2017)   60.0  0.007854  0.074492 -0.194985   \n",
       "\n",
       "                                           25%       50%       75%       max  \n",
       "Long and short portfolio (2008~2012) -0.023275  0.058379  0.123295  0.322463  \n",
       "Long and short portfolio (2013~2017) -0.046126  0.007794  0.054880  0.166130  "
      ]
     },
     "execution_count": 36,
     "metadata": {},
     "output_type": "execute_result"
    }
   ],
   "source": [
    "# summary statistics for long-short strategy portfolio\n",
    "long_short_result_combine"
   ]
  },
  {
   "cell_type": "code",
   "execution_count": 37,
   "metadata": {},
   "outputs": [
    {
     "data": {
      "text/html": [
       "<div>\n",
       "<style scoped>\n",
       "    .dataframe tbody tr th:only-of-type {\n",
       "        vertical-align: middle;\n",
       "    }\n",
       "\n",
       "    .dataframe tbody tr th {\n",
       "        vertical-align: top;\n",
       "    }\n",
       "\n",
       "    .dataframe thead th {\n",
       "        text-align: right;\n",
       "    }\n",
       "</style>\n",
       "<table border=\"1\" class=\"dataframe\">\n",
       "  <thead>\n",
       "    <tr style=\"text-align: right;\">\n",
       "      <th></th>\n",
       "      <th>Mean</th>\n",
       "      <th>Standard error</th>\n",
       "      <th>t value</th>\n",
       "      <th>p value</th>\n",
       "    </tr>\n",
       "  </thead>\n",
       "  <tbody>\n",
       "    <tr>\n",
       "      <th>0</th>\n",
       "      <td>0.007854</td>\n",
       "      <td>0.009617</td>\n",
       "      <td>0.816656</td>\n",
       "      <td>0.208705</td>\n",
       "    </tr>\n",
       "  </tbody>\n",
       "</table>\n",
       "</div>"
      ],
      "text/plain": [
       "       Mean  Standard error   t value   p value\n",
       "0  0.007854        0.009617  0.816656  0.208705"
      ]
     },
     "execution_count": 37,
     "metadata": {},
     "output_type": "execute_result"
    }
   ],
   "source": [
    "# result of hypothesis testing\n",
    "hypothesis_result"
   ]
  },
  {
   "cell_type": "markdown",
   "metadata": {},
   "source": [
    "From above two tables, we can find that the return of long-short strategy portfolio is 0.078% in 2013~2017. However, market portfolio's return is 1.28% (from answer of question 4) in the same time, which means we aren't getting excess return from this strategy. We also provide hypothesis testing to test whether this \"excess return\" is significantly different from 0. We define return of long-short strategy as $\\gamma$, under 95% confidence level, null hypothesis and alternative hypothesis for $\\gamma$:\n",
    "\n",
    "${H_0}$ : $\\gamma$ = 0\n",
    "\n",
    "${H_1}$ : $\\gamma$ $\\neq$ 0\n",
    "\n",
    "From the table above, we can find that under 95% confidence level, $\\gamma$ isn't significantly different from 0. From the hypothesis testing, it once again confirm that we aren't actually getting \"excess return\" from long-short strategy.This shows that past performance doesn't guarantee future performance. However, if this strategy could be executed(actually we couldn't, it means we are using future data) in 2008~2012, then we could get a return of 5.97% which is higher than market return 0.34% (from answer of question 2)."
   ]
  },
  {
   "cell_type": "markdown",
   "metadata": {},
   "source": [
    "### 7. Using rolling window regressions with 36 months each window to show how the $\\alpha$ and $\\beta$ changed for your portfolios from 2013/01-2015/12 to 2015/01-2017/12. Please present the results in graphs."
   ]
  },
  {
   "cell_type": "markdown",
   "metadata": {},
   "source": [
    "**Define function to run regression with rolling windows:**"
   ]
  },
  {
   "cell_type": "code",
   "execution_count": 38,
   "metadata": {},
   "outputs": [],
   "source": [
    "def run_rolling_regression(data, timeframe):\n",
    "    result = pd.DataFrame([])\n",
    "    for i in range(len(data) - timeframe + 1):\n",
    "        temp_data = data.iloc[i:i+timeframe, ]\n",
    "        temp_reg_result = run_regression(temp_data.MKTRF, temp_data.RIRF)\n",
    "        temp_reg_result.index = [temp_data.iloc[-1, ].DATE]\n",
    "        result = pd.concat([result, temp_reg_result])     \n",
    "    return result"
   ]
  },
  {
   "cell_type": "code",
   "execution_count": 39,
   "metadata": {},
   "outputs": [],
   "source": [
    "# select data which lie between 2008/01/01 and 2012/12/31\n",
    "date_start = datetime.strptime(\"2013/01/01\", \"%Y/%m/%d\").date()\n",
    "date_end = datetime.strptime(\"2017/12/31\", \"%Y/%m/%d\").date()\n",
    "\n",
    "small_temp_result = small_temp_result[(small_temp_result.DATE > date_start) & \n",
    "                                      (small_temp_result.DATE <= date_end)]\n",
    "\n",
    "big_temp_result = big_temp_result[(big_temp_result.DATE > date_start) & \n",
    "                                  (big_temp_result.DATE <= date_end)]\n",
    "\n",
    "# run regression\n",
    "small_alpha_reg_result = run_rolling_regression(small_temp_result, 36)\n",
    "big_alpha_reg_result = run_rolling_regression(big_temp_result, 36)"
   ]
  },
  {
   "cell_type": "code",
   "execution_count": 40,
   "metadata": {
    "scrolled": true
   },
   "outputs": [
    {
     "data": {
      "text/html": [
       "<div>\n",
       "<style scoped>\n",
       "    .dataframe tbody tr th:only-of-type {\n",
       "        vertical-align: middle;\n",
       "    }\n",
       "\n",
       "    .dataframe tbody tr th {\n",
       "        vertical-align: top;\n",
       "    }\n",
       "\n",
       "    .dataframe thead th {\n",
       "        text-align: right;\n",
       "    }\n",
       "</style>\n",
       "<table border=\"1\" class=\"dataframe\">\n",
       "  <thead>\n",
       "    <tr style=\"text-align: right;\">\n",
       "      <th></th>\n",
       "      <th>Alpha</th>\n",
       "      <th>Beta</th>\n",
       "      <th>Alpha_t_value</th>\n",
       "      <th>Beta_t_value</th>\n",
       "      <th>Alpha_p_value</th>\n",
       "      <th>Beta_p_value</th>\n",
       "      <th>Alpha_std_err</th>\n",
       "      <th>Beta_std_err</th>\n",
       "      <th>counts</th>\n",
       "    </tr>\n",
       "  </thead>\n",
       "  <tbody>\n",
       "    <tr>\n",
       "      <th>2015-12-31</th>\n",
       "      <td>-0.001251</td>\n",
       "      <td>1.369475</td>\n",
       "      <td>-0.142700</td>\n",
       "      <td>5.196984</td>\n",
       "      <td>0.887369</td>\n",
       "      <td>0.000010</td>\n",
       "      <td>0.008767</td>\n",
       "      <td>0.263513</td>\n",
       "      <td>36</td>\n",
       "    </tr>\n",
       "    <tr>\n",
       "      <th>2016-01-29</th>\n",
       "      <td>-0.005959</td>\n",
       "      <td>1.447537</td>\n",
       "      <td>-0.690309</td>\n",
       "      <td>5.594235</td>\n",
       "      <td>0.494686</td>\n",
       "      <td>0.000003</td>\n",
       "      <td>0.008633</td>\n",
       "      <td>0.258755</td>\n",
       "      <td>36</td>\n",
       "    </tr>\n",
       "    <tr>\n",
       "      <th>2016-02-29</th>\n",
       "      <td>-0.004130</td>\n",
       "      <td>1.434934</td>\n",
       "      <td>-0.472066</td>\n",
       "      <td>5.460306</td>\n",
       "      <td>0.639896</td>\n",
       "      <td>0.000004</td>\n",
       "      <td>0.008750</td>\n",
       "      <td>0.262794</td>\n",
       "      <td>36</td>\n",
       "    </tr>\n",
       "    <tr>\n",
       "      <th>2016-03-31</th>\n",
       "      <td>-0.004129</td>\n",
       "      <td>1.435773</td>\n",
       "      <td>-0.470098</td>\n",
       "      <td>5.657633</td>\n",
       "      <td>0.641286</td>\n",
       "      <td>0.000002</td>\n",
       "      <td>0.008784</td>\n",
       "      <td>0.253776</td>\n",
       "      <td>36</td>\n",
       "    </tr>\n",
       "    <tr>\n",
       "      <th>2016-04-29</th>\n",
       "      <td>-0.006187</td>\n",
       "      <td>1.434277</td>\n",
       "      <td>-0.689252</td>\n",
       "      <td>5.520053</td>\n",
       "      <td>0.495342</td>\n",
       "      <td>0.000004</td>\n",
       "      <td>0.008977</td>\n",
       "      <td>0.259830</td>\n",
       "      <td>36</td>\n",
       "    </tr>\n",
       "  </tbody>\n",
       "</table>\n",
       "</div>"
      ],
      "text/plain": [
       "               Alpha      Beta  Alpha_t_value  Beta_t_value  Alpha_p_value  \\\n",
       "2015-12-31 -0.001251  1.369475      -0.142700      5.196984       0.887369   \n",
       "2016-01-29 -0.005959  1.447537      -0.690309      5.594235       0.494686   \n",
       "2016-02-29 -0.004130  1.434934      -0.472066      5.460306       0.639896   \n",
       "2016-03-31 -0.004129  1.435773      -0.470098      5.657633       0.641286   \n",
       "2016-04-29 -0.006187  1.434277      -0.689252      5.520053       0.495342   \n",
       "\n",
       "            Beta_p_value  Alpha_std_err  Beta_std_err  counts  \n",
       "2015-12-31      0.000010       0.008767      0.263513      36  \n",
       "2016-01-29      0.000003       0.008633      0.258755      36  \n",
       "2016-02-29      0.000004       0.008750      0.262794      36  \n",
       "2016-03-31      0.000002       0.008784      0.253776      36  \n",
       "2016-04-29      0.000004       0.008977      0.259830      36  "
      ]
     },
     "execution_count": 40,
     "metadata": {},
     "output_type": "execute_result"
    }
   ],
   "source": [
    "# show first few columns of \"small_alpha_reg_result\"\n",
    "small_alpha_reg_result.head()"
   ]
  },
  {
   "cell_type": "code",
   "execution_count": 41,
   "metadata": {
    "scrolled": false
   },
   "outputs": [
    {
     "data": {
      "text/html": [
       "<div>\n",
       "<style scoped>\n",
       "    .dataframe tbody tr th:only-of-type {\n",
       "        vertical-align: middle;\n",
       "    }\n",
       "\n",
       "    .dataframe tbody tr th {\n",
       "        vertical-align: top;\n",
       "    }\n",
       "\n",
       "    .dataframe thead th {\n",
       "        text-align: right;\n",
       "    }\n",
       "</style>\n",
       "<table border=\"1\" class=\"dataframe\">\n",
       "  <thead>\n",
       "    <tr style=\"text-align: right;\">\n",
       "      <th></th>\n",
       "      <th>Alpha</th>\n",
       "      <th>Beta</th>\n",
       "      <th>Alpha_t_value</th>\n",
       "      <th>Beta_t_value</th>\n",
       "      <th>Alpha_p_value</th>\n",
       "      <th>Beta_p_value</th>\n",
       "      <th>Alpha_std_err</th>\n",
       "      <th>Beta_std_err</th>\n",
       "      <th>counts</th>\n",
       "    </tr>\n",
       "  </thead>\n",
       "  <tbody>\n",
       "    <tr>\n",
       "      <th>2015-12-31</th>\n",
       "      <td>0.014828</td>\n",
       "      <td>1.190952</td>\n",
       "      <td>1.408828</td>\n",
       "      <td>3.764473</td>\n",
       "      <td>0.167966</td>\n",
       "      <td>0.000632</td>\n",
       "      <td>0.010525</td>\n",
       "      <td>0.316366</td>\n",
       "      <td>36</td>\n",
       "    </tr>\n",
       "    <tr>\n",
       "      <th>2016-01-29</th>\n",
       "      <td>0.008225</td>\n",
       "      <td>1.489225</td>\n",
       "      <td>0.745606</td>\n",
       "      <td>4.503861</td>\n",
       "      <td>0.461029</td>\n",
       "      <td>0.000075</td>\n",
       "      <td>0.011032</td>\n",
       "      <td>0.330655</td>\n",
       "      <td>36</td>\n",
       "    </tr>\n",
       "    <tr>\n",
       "      <th>2016-02-29</th>\n",
       "      <td>0.006839</td>\n",
       "      <td>1.500999</td>\n",
       "      <td>0.616923</td>\n",
       "      <td>4.508394</td>\n",
       "      <td>0.541395</td>\n",
       "      <td>0.000074</td>\n",
       "      <td>0.011085</td>\n",
       "      <td>0.332934</td>\n",
       "      <td>36</td>\n",
       "    </tr>\n",
       "    <tr>\n",
       "      <th>2016-03-31</th>\n",
       "      <td>0.005438</td>\n",
       "      <td>1.331906</td>\n",
       "      <td>0.468617</td>\n",
       "      <td>3.972843</td>\n",
       "      <td>0.642334</td>\n",
       "      <td>0.000350</td>\n",
       "      <td>0.011604</td>\n",
       "      <td>0.335253</td>\n",
       "      <td>36</td>\n",
       "    </tr>\n",
       "    <tr>\n",
       "      <th>2016-04-29</th>\n",
       "      <td>0.006082</td>\n",
       "      <td>1.325390</td>\n",
       "      <td>0.521150</td>\n",
       "      <td>3.923536</td>\n",
       "      <td>0.605640</td>\n",
       "      <td>0.000403</td>\n",
       "      <td>0.011671</td>\n",
       "      <td>0.337805</td>\n",
       "      <td>36</td>\n",
       "    </tr>\n",
       "  </tbody>\n",
       "</table>\n",
       "</div>"
      ],
      "text/plain": [
       "               Alpha      Beta  Alpha_t_value  Beta_t_value  Alpha_p_value  \\\n",
       "2015-12-31  0.014828  1.190952       1.408828      3.764473       0.167966   \n",
       "2016-01-29  0.008225  1.489225       0.745606      4.503861       0.461029   \n",
       "2016-02-29  0.006839  1.500999       0.616923      4.508394       0.541395   \n",
       "2016-03-31  0.005438  1.331906       0.468617      3.972843       0.642334   \n",
       "2016-04-29  0.006082  1.325390       0.521150      3.923536       0.605640   \n",
       "\n",
       "            Beta_p_value  Alpha_std_err  Beta_std_err  counts  \n",
       "2015-12-31      0.000632       0.010525      0.316366      36  \n",
       "2016-01-29      0.000075       0.011032      0.330655      36  \n",
       "2016-02-29      0.000074       0.011085      0.332934      36  \n",
       "2016-03-31      0.000350       0.011604      0.335253      36  \n",
       "2016-04-29      0.000403       0.011671      0.337805      36  "
      ]
     },
     "execution_count": 41,
     "metadata": {},
     "output_type": "execute_result"
    }
   ],
   "source": [
    "# show first few columns of \"big_alpha_reg_result\"\n",
    "big_alpha_reg_result.head()"
   ]
  },
  {
   "cell_type": "code",
   "execution_count": 42,
   "metadata": {
    "scrolled": false
   },
   "outputs": [
    {
     "data": {
      "image/png": "[encoded data removed]",
      "text/plain": [
       "<matplotlib.figure.Figure at 0x210d45578d0>"
      ]
     },
     "metadata": {},
     "output_type": "display_data"
    }
   ],
   "source": [
    "# plot result of alpha and beta for both portfolio\n",
    "fig, ax = plt.subplots(2, 1, figsize = (20, 15))\n",
    "fig.text(0.5, 0.08, \"Time\", fontsize = 15)\n",
    "\n",
    "ax1 = ax[0] \n",
    "ax1.plot(small_alpha_reg_result.Alpha, label=r\"$\\alpha$ for Small $\\alpha$ portflio\", marker=\".\", ms=10)\n",
    "ax1.plot(big_alpha_reg_result.Alpha, label=r\"$\\alpha$ for Big $\\alpha$ portflio\", marker=\".\", ms=10)\n",
    "plt.sca(ax1)\n",
    "plt.ylabel(r\"$\\alpha$\", rotation=0, size=10)\n",
    "plt.title(r\"$\\alpha$ of two portfolios\", size=14)\n",
    "plt.legend(fontsize=12)\n",
    "\n",
    "ax2 = ax[1] \n",
    "ax2.plot(small_alpha_reg_result.Beta, label=r\"$\\beta$ for Small $\\alpha$ portflio\", marker=\".\", ms=10)\n",
    "ax2.plot(big_alpha_reg_result.Beta, label=r\"$\\beta$ for Big $\\alpha$ portflio\", marker=\".\", ms=10)\n",
    "plt.sca(ax2)\n",
    "plt.ylabel(r\"$\\beta$\", rotation=0)\n",
    "plt.title(r\"$\\beta$ of two portfolios\", size=14)\n",
    "plt.legend(fontsize=12);"
   ]
  },
  {
   "cell_type": "markdown",
   "metadata": {},
   "source": [
    "From the figure above, we could find that both $\\alpha$ and $\\beta$ vary with time. Both portfolio's $\\alpha$ decrease as time passed. However, big $\\alpha$ portfolio's $\\beta$ raise while small $\\alpha$ portfolio's $\\beta$ seems to oscillate between 1.2 and 1.4. From the result of rolling windows regression, we could confirm that \"past performance doesn't guarantee future performance\"."
   ]
  }
 ],
 "metadata": {
  "kernelspec": {
   "display_name": "Python 3",
   "language": "python",
   "name": "python3"
  },
  "language_info": {
   "codemirror_mode": {
    "name": "ipython",
    "version": 3
   },
   "file_extension": ".py",
   "mimetype": "text/x-python",
   "name": "python",
   "nbconvert_exporter": "python",
   "pygments_lexer": "ipython3",
   "version": "3.6.3"
  }
 },
 "nbformat": 4,
 "nbformat_minor": 2
}
