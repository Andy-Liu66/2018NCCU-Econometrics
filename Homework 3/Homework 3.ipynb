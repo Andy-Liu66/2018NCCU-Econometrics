{
 "cells": [
  {
   "cell_type": "markdown",
   "metadata": {},
   "source": [
    "### 程式\n",
    "* 第2題：.durbin_watson 檢定\n",
    "* 第3題：找不到現成function\n",
    "* 第6題：做LR test\n",
    "* 第題：\n",
    "\n",
    "### 文本\n",
    "* 第1題：看正負號、顯不顯著\n",
    "* 第4題：虛無假設是同質性\n",
    "* 第5題：看係數正負號變了甚麼"
   ]
  },
  {
   "cell_type": "markdown",
   "metadata": {},
   "source": [
    "**Process:**\n",
    "* Load and check data\n",
    "* Answer each question (11 in total)\n",
    " \n",
    "**Notations:**\n",
    "\n",
    "*logitdata.sas7bdat*\n",
    "* Y: distress dummy, Y=1 if the firm is delisted for financial reasons.\n",
    "* PERMNO: firm id.\n",
    "* FYEAR: fiscal year for each firm\n",
    "* ROA: return on total assets (NI/TA in Shumway (2001)).\n",
    "* CR: current ratio.\n",
    "* DR: debt to total assets ratio (TL/TA in Shumway (2001)).\n",
    "* ATTNVR: toatal asset turnover.\n",
    "* CFAT: cash flow to total assets ratio.\n",
    "* RSize: logarithm of the relative size of firm i to the total market, evaluated with market capitalization in June each year.\n",
    "* Sigma: idiosyncratic standard deviation of firm i’s stock returns.\n",
    "* ExcessRet: excess return of each firm in the previous year."
   ]
  },
  {
   "cell_type": "markdown",
   "metadata": {},
   "source": [
    "Logit and probit differ in how they define f (*). The logit model uses something called the cumulative distribution function of the logistic distribution. The probit model uses something called the cumulative distribution function of the standard normal distribution to define f (*). Both functions will take any number and rescale it to fall between 0 and 1."
   ]
  },
  {
   "cell_type": "code",
   "execution_count": 1,
   "metadata": {},
   "outputs": [],
   "source": [
    "# import packages\n",
    "import pandas as pd\n",
    "import numpy as np\n",
    "import matplotlib.pyplot as plt\n",
    "import seaborn as sns\n",
    "\n",
    "from linearmodels.panel import PanelOLS\n",
    "from linearmodels.panel import RandomEffects\n",
    "%matplotlib inline"
   ]
  },
  {
   "cell_type": "markdown",
   "metadata": {},
   "source": [
    "# Load and check data"
   ]
  },
  {
   "cell_type": "code",
   "execution_count": 2,
   "metadata": {},
   "outputs": [],
   "source": [
    "data = pd.read_sas(\"logitdata.sas7bdat\")"
   ]
  },
  {
   "cell_type": "code",
   "execution_count": 3,
   "metadata": {
    "scrolled": false
   },
   "outputs": [
    {
     "data": {
      "text/html": [
       "<div>\n",
       "<style scoped>\n",
       "    .dataframe tbody tr th:only-of-type {\n",
       "        vertical-align: middle;\n",
       "    }\n",
       "\n",
       "    .dataframe tbody tr th {\n",
       "        vertical-align: top;\n",
       "    }\n",
       "\n",
       "    .dataframe thead th {\n",
       "        text-align: right;\n",
       "    }\n",
       "</style>\n",
       "<table border=\"1\" class=\"dataframe\">\n",
       "  <thead>\n",
       "    <tr style=\"text-align: right;\">\n",
       "      <th></th>\n",
       "      <th>PERMNO</th>\n",
       "      <th>FYEAR</th>\n",
       "      <th>Y</th>\n",
       "      <th>RSize</th>\n",
       "      <th>ExRET</th>\n",
       "      <th>Sigma</th>\n",
       "      <th>ROA</th>\n",
       "      <th>DR</th>\n",
       "      <th>CR</th>\n",
       "      <th>ATTNVR</th>\n",
       "      <th>CFAT</th>\n",
       "    </tr>\n",
       "  </thead>\n",
       "  <tbody>\n",
       "    <tr>\n",
       "      <th>0</th>\n",
       "      <td>10000.0</td>\n",
       "      <td>1986.0</td>\n",
       "      <td>0.0</td>\n",
       "      <td>-13.164594</td>\n",
       "      <td>-0.119453</td>\n",
       "      <td>0.051617</td>\n",
       "      <td>-0.345154</td>\n",
       "      <td>0.802364</td>\n",
       "      <td>0.994509</td>\n",
       "      <td>0.485106</td>\n",
       "      <td>0.164539</td>\n",
       "    </tr>\n",
       "    <tr>\n",
       "      <th>1</th>\n",
       "      <td>10001.0</td>\n",
       "      <td>1987.0</td>\n",
       "      <td>0.0</td>\n",
       "      <td>-12.739901</td>\n",
       "      <td>-0.013319</td>\n",
       "      <td>0.037074</td>\n",
       "      <td>0.026506</td>\n",
       "      <td>0.543879</td>\n",
       "      <td>0.943016</td>\n",
       "      <td>1.412030</td>\n",
       "      <td>0.061932</td>\n",
       "    </tr>\n",
       "    <tr>\n",
       "      <th>2</th>\n",
       "      <td>10001.0</td>\n",
       "      <td>1988.0</td>\n",
       "      <td>0.0</td>\n",
       "      <td>-12.565416</td>\n",
       "      <td>0.014090</td>\n",
       "      <td>0.036658</td>\n",
       "      <td>0.048061</td>\n",
       "      <td>0.530294</td>\n",
       "      <td>1.049102</td>\n",
       "      <td>1.446783</td>\n",
       "      <td>0.063400</td>\n",
       "    </tr>\n",
       "    <tr>\n",
       "      <th>3</th>\n",
       "      <td>10001.0</td>\n",
       "      <td>1989.0</td>\n",
       "      <td>0.0</td>\n",
       "      <td>-12.546597</td>\n",
       "      <td>0.000886</td>\n",
       "      <td>0.031841</td>\n",
       "      <td>0.065069</td>\n",
       "      <td>0.659521</td>\n",
       "      <td>1.312661</td>\n",
       "      <td>1.234043</td>\n",
       "      <td>0.063399</td>\n",
       "    </tr>\n",
       "    <tr>\n",
       "      <th>4</th>\n",
       "      <td>10001.0</td>\n",
       "      <td>1990.0</td>\n",
       "      <td>0.0</td>\n",
       "      <td>-12.317335</td>\n",
       "      <td>0.024311</td>\n",
       "      <td>0.023497</td>\n",
       "      <td>0.059901</td>\n",
       "      <td>0.619776</td>\n",
       "      <td>1.571113</td>\n",
       "      <td>1.230178</td>\n",
       "      <td>0.071818</td>\n",
       "    </tr>\n",
       "  </tbody>\n",
       "</table>\n",
       "</div>"
      ],
      "text/plain": [
       "    PERMNO   FYEAR    Y      RSize     ExRET     Sigma       ROA        DR  \\\n",
       "0  10000.0  1986.0  0.0 -13.164594 -0.119453  0.051617 -0.345154  0.802364   \n",
       "1  10001.0  1987.0  0.0 -12.739901 -0.013319  0.037074  0.026506  0.543879   \n",
       "2  10001.0  1988.0  0.0 -12.565416  0.014090  0.036658  0.048061  0.530294   \n",
       "3  10001.0  1989.0  0.0 -12.546597  0.000886  0.031841  0.065069  0.659521   \n",
       "4  10001.0  1990.0  0.0 -12.317335  0.024311  0.023497  0.059901  0.619776   \n",
       "\n",
       "         CR    ATTNVR      CFAT  \n",
       "0  0.994509  0.485106  0.164539  \n",
       "1  0.943016  1.412030  0.061932  \n",
       "2  1.049102  1.446783  0.063400  \n",
       "3  1.312661  1.234043  0.063399  \n",
       "4  1.571113  1.230178  0.071818  "
      ]
     },
     "execution_count": 3,
     "metadata": {},
     "output_type": "execute_result"
    }
   ],
   "source": [
    "data.head()"
   ]
  },
  {
   "cell_type": "markdown",
   "metadata": {},
   "source": [
    "# Answer each question (11 in total)"
   ]
  },
  {
   "cell_type": "markdown",
   "metadata": {},
   "source": [
    "### 1. Estimate the linear probability model to show the signs of the parameters of these independent variables. Do you think they all have the expected sign?"
   ]
  },
  {
   "cell_type": "code",
   "execution_count": 4,
   "metadata": {},
   "outputs": [],
   "source": [
    "from statsmodels.regression.linear_model import OLS\n",
    "from statsmodels.tools.tools import add_constant"
   ]
  },
  {
   "cell_type": "code",
   "execution_count": 5,
   "metadata": {
    "scrolled": false
   },
   "outputs": [
    {
     "data": {
      "text/html": [
       "<div>\n",
       "<style scoped>\n",
       "    .dataframe tbody tr th:only-of-type {\n",
       "        vertical-align: middle;\n",
       "    }\n",
       "\n",
       "    .dataframe tbody tr th {\n",
       "        vertical-align: top;\n",
       "    }\n",
       "\n",
       "    .dataframe thead th {\n",
       "        text-align: right;\n",
       "    }\n",
       "</style>\n",
       "<table border=\"1\" class=\"dataframe\">\n",
       "  <thead>\n",
       "    <tr style=\"text-align: right;\">\n",
       "      <th></th>\n",
       "      <th>const</th>\n",
       "      <th>RSize</th>\n",
       "      <th>ExRET</th>\n",
       "      <th>Sigma</th>\n",
       "      <th>ROA</th>\n",
       "      <th>DR</th>\n",
       "      <th>CR</th>\n",
       "      <th>ATTNVR</th>\n",
       "      <th>CFAT</th>\n",
       "    </tr>\n",
       "  </thead>\n",
       "  <tbody>\n",
       "    <tr>\n",
       "      <th>coffecient</th>\n",
       "      <td>-0.007014</td>\n",
       "      <td>-0.00015</td>\n",
       "      <td>-0.018603</td>\n",
       "      <td>0.064371</td>\n",
       "      <td>-0.00729</td>\n",
       "      <td>0.007186</td>\n",
       "      <td>0.00015</td>\n",
       "      <td>0.000357</td>\n",
       "      <td>-0.00054</td>\n",
       "    </tr>\n",
       "  </tbody>\n",
       "</table>\n",
       "</div>"
      ],
      "text/plain": [
       "               const    RSize     ExRET     Sigma      ROA        DR       CR  \\\n",
       "coffecient -0.007014 -0.00015 -0.018603  0.064371 -0.00729  0.007186  0.00015   \n",
       "\n",
       "              ATTNVR     CFAT  \n",
       "coffecient  0.000357 -0.00054  "
      ]
     },
     "execution_count": 5,
     "metadata": {},
     "output_type": "execute_result"
    }
   ],
   "source": [
    "Y = data[\"Y\"]\n",
    "X = data[['RSize', 'ExRET', 'Sigma', 'ROA', 'DR', 'CR', 'ATTNVR', 'CFAT']]\n",
    "\n",
    "X = add_constant(X)\n",
    "linear_probability_model = OLS(Y, X, missing=\"drop\")\n",
    "linear_probability_model_result = linear_probability_model.fit()\n",
    "\n",
    "pd.DataFrame(linear_probability_model_result.params, columns=[\"coffecient\"]).T"
   ]
  },
  {
   "cell_type": "code",
   "execution_count": 6,
   "metadata": {},
   "outputs": [
    {
     "name": "stdout",
     "output_type": "stream",
     "text": [
      "                            OLS Regression Results                            \n",
      "==============================================================================\n",
      "Dep. Variable:                      Y   R-squared:                       0.011\n",
      "Model:                            OLS   Adj. R-squared:                  0.011\n",
      "Method:                 Least Squares   F-statistic:                     230.4\n",
      "Date:                Sun, 23 Dec 2018   Prob (F-statistic):               0.00\n",
      "Time:                        08:33:04   Log-Likelihood:             3.1235e+05\n",
      "No. Observations:              159623   AIC:                        -6.247e+05\n",
      "Df Residuals:                  159614   BIC:                        -6.246e+05\n",
      "Df Model:                           8                                         \n",
      "Covariance Type:            nonrobust                                         \n",
      "==============================================================================\n",
      "                 coef    std err          t      P>|t|      [0.025      0.975]\n",
      "------------------------------------------------------------------------------\n",
      "const         -0.0070      0.001    -12.135      0.000      -0.008      -0.006\n",
      "RSize         -0.0002   5.59e-05     -2.692      0.007      -0.000   -4.09e-05\n",
      "ExRET         -0.0186      0.002     -9.278      0.000      -0.023      -0.015\n",
      "Sigma          0.0644      0.006     11.595      0.000       0.053       0.075\n",
      "ROA           -0.0073      0.000    -16.157      0.000      -0.008      -0.006\n",
      "DR             0.0072      0.000     15.972      0.000       0.006       0.008\n",
      "CR             0.0001   4.65e-05      3.221      0.001    5.87e-05       0.000\n",
      "ATTNVR         0.0004      0.000      3.267      0.001       0.000       0.001\n",
      "CFAT          -0.0005      0.001     -0.915      0.360      -0.002       0.001\n",
      "==============================================================================\n",
      "Omnibus:                   402813.651   Durbin-Watson:                   1.991\n",
      "Prob(Omnibus):                  0.000   Jarque-Bera (JB):       4501204862.975\n",
      "Skew:                          28.515   Prob(JB):                         0.00\n",
      "Kurtosis:                     823.684   Cond. No.                         716.\n",
      "==============================================================================\n",
      "\n",
      "Warnings:\n",
      "[1] Standard Errors assume that the covariance matrix of the errors is correctly specified.\n"
     ]
    }
   ],
   "source": [
    "print(linear_probability_model_result.summary())"
   ]
  },
  {
   "cell_type": "markdown",
   "metadata": {},
   "source": [
    "### 2. Please test residuals of the linear probability model for autocorrelation at the 5% significance level with the Durbin-Watson test."
   ]
  },
  {
   "cell_type": "code",
   "execution_count": 7,
   "metadata": {},
   "outputs": [
    {
     "data": {
      "text/plain": [
       "1.990721489996736"
      ]
     },
     "execution_count": 7,
     "metadata": {},
     "output_type": "execute_result"
    }
   ],
   "source": [
    "from statsmodels.stats.stattools import durbin_watson\n",
    "durbin_watson(linear_probability_model_result.resid)"
   ]
  },
  {
   "cell_type": "markdown",
   "metadata": {},
   "source": [
    "### 3. No matter you find the correlation coefficient is significant or not, please correct for the autocorrelation in the regression. One popular approach is called Cochrane-Orchutt method, which is very close to the GLS approach we discussed in class. If it is not a choice, you can try Yule-Walker method."
   ]
  },
  {
   "cell_type": "code",
   "execution_count": 8,
   "metadata": {},
   "outputs": [
    {
     "name": "stderr",
     "output_type": "stream",
     "text": [
      "C:\\Users\\andy5\\Anaconda3\\lib\\site-packages\\statsmodels\\compat\\pandas.py:56: FutureWarning: The pandas.core.datetools module is deprecated and will be removed in a future version. Please use the pandas.tseries module instead.\n",
      "  from pandas.core import datetools\n"
     ]
    },
    {
     "data": {
      "text/plain": [
       "(array([ 0.00411397, -0.00119896, -0.00117082, -0.0011772 ]),\n",
       " 0.034389140223526821)"
      ]
     },
     "execution_count": 8,
     "metadata": {},
     "output_type": "execute_result"
    }
   ],
   "source": [
    "import statsmodels.api as sm\n",
    "sm.regression.yule_walker(Y, order=4, method=\"mle\")"
   ]
  },
  {
   "cell_type": "code",
   "execution_count": 9,
   "metadata": {
    "scrolled": false
   },
   "outputs": [
    {
     "data": {
      "text/plain": [
       "array([  1.00000000e+00,   4.63903177e-03,  -1.45363516e-03,\n",
       "        -1.09976959e-03,  -1.05521250e-03,  -1.56311234e-03,\n",
       "        -9.13261076e-04,  -1.03642400e-03,  -4.44394004e-04,\n",
       "        -6.16383756e-04,  -7.57825278e-04,   9.80306063e-03,\n",
       "        -9.47060951e-04,  -1.19913379e-03,  -1.45395328e-03,\n",
       "        -1.09410337e-03,  -1.01117387e-03,  -9.82841025e-04,\n",
       "        -1.10530289e-03,  -9.12960904e-04,  -6.63694910e-04,\n",
       "        -4.81887869e-04,  -1.08097861e-03,  -8.39249740e-04,\n",
       "        -1.28838169e-03,  -1.25081565e-03,  -1.25869649e-03,\n",
       "        -1.01581634e-03,  -8.52807510e-04,  -9.17483792e-04,\n",
       "         3.65786167e-03,  -1.73333308e-03,  -1.41553181e-03,\n",
       "         4.41618510e-03,   3.53499531e-03,  -1.62123306e-03,\n",
       "        -1.19602195e-03,  -8.88013469e-04,  -1.34227222e-03,\n",
       "        -1.13447215e-03,  -9.41588924e-04])"
      ]
     },
     "execution_count": 9,
     "metadata": {},
     "output_type": "execute_result"
    }
   ],
   "source": [
    "from statsmodels.tsa.stattools import pacf\n",
    "pacf(linear_probability_model_result.resid, method=\"ols\")"
   ]
  },
  {
   "cell_type": "markdown",
   "metadata": {},
   "source": [
    "https://www.statsmodels.org/dev/generated/statsmodels.regression.linear_model.yule_walker.html\n",
    "https://www.statsmodels.org/dev/generated/statsmodels.regression.linear_model.GLS.html"
   ]
  },
  {
   "cell_type": "markdown",
   "metadata": {},
   "source": [
    "### 4. Please report the robust estimators of the linear probability model. Since the dependent variable is qualitative, we expect to see heteroskedasticity here."
   ]
  },
  {
   "cell_type": "code",
   "execution_count": 10,
   "metadata": {},
   "outputs": [],
   "source": [
    "from statsmodels.stats.diagnostic import het_breuschpagan"
   ]
  },
  {
   "cell_type": "code",
   "execution_count": 11,
   "metadata": {
    "scrolled": true
   },
   "outputs": [
    {
     "data": {
      "text/html": [
       "<div>\n",
       "<style scoped>\n",
       "    .dataframe tbody tr th:only-of-type {\n",
       "        vertical-align: middle;\n",
       "    }\n",
       "\n",
       "    .dataframe tbody tr th {\n",
       "        vertical-align: top;\n",
       "    }\n",
       "\n",
       "    .dataframe thead th {\n",
       "        text-align: right;\n",
       "    }\n",
       "</style>\n",
       "<table border=\"1\" class=\"dataframe\">\n",
       "  <thead>\n",
       "    <tr style=\"text-align: right;\">\n",
       "      <th></th>\n",
       "      <th>Lagrange multiplier statistic</th>\n",
       "      <th>p-value</th>\n",
       "      <th>f-value</th>\n",
       "      <th>f p-value</th>\n",
       "    </tr>\n",
       "  </thead>\n",
       "  <tbody>\n",
       "    <tr>\n",
       "      <th>0</th>\n",
       "      <td>1824.889372</td>\n",
       "      <td>0.0</td>\n",
       "      <td>230.736201</td>\n",
       "      <td>0.0</td>\n",
       "    </tr>\n",
       "  </tbody>\n",
       "</table>\n",
       "</div>"
      ],
      "text/plain": [
       "   Lagrange multiplier statistic  p-value     f-value  f p-value\n",
       "0                    1824.889372      0.0  230.736201        0.0"
      ]
     },
     "execution_count": 11,
     "metadata": {},
     "output_type": "execute_result"
    }
   ],
   "source": [
    "breuschpagan = het_breuschpagan(linear_probability_model_result.resid,\n",
    "                                linear_probability_model.exog)\n",
    "\n",
    "test_result = []\n",
    "for i in breuschpagan:\n",
    "    test_result.append(i)\n",
    "    \n",
    "pd.DataFrame([test_result],\n",
    "              columns=['Lagrange multiplier statistic', 'p-value',\n",
    "                       'f-value', 'f p-value'])"
   ]
  },
  {
   "cell_type": "code",
   "execution_count": 12,
   "metadata": {},
   "outputs": [
    {
     "name": "stdout",
     "output_type": "stream",
     "text": [
      "                            OLS Regression Results                            \n",
      "==============================================================================\n",
      "Dep. Variable:                      Y   R-squared:                       0.011\n",
      "Model:                            OLS   Adj. R-squared:                  0.011\n",
      "Method:                 Least Squares   F-statistic:                     22.03\n",
      "Date:                Sun, 23 Dec 2018   Prob (F-statistic):           6.69e-34\n",
      "Time:                        08:33:19   Log-Likelihood:             3.1235e+05\n",
      "No. Observations:              159623   AIC:                        -6.247e+05\n",
      "Df Residuals:                  159614   BIC:                        -6.246e+05\n",
      "Df Model:                           8                                         \n",
      "Covariance Type:                  HC1                                         \n",
      "==============================================================================\n",
      "                 coef    std err          t      P>|t|      [0.025      0.975]\n",
      "------------------------------------------------------------------------------\n",
      "const         -0.0070      0.001     -8.701      0.000      -0.009      -0.005\n",
      "RSize         -0.0002   6.73e-05     -2.235      0.025      -0.000   -1.85e-05\n",
      "ExRET         -0.0186      0.003     -5.766      0.000      -0.025      -0.012\n",
      "Sigma          0.0644      0.012      5.519      0.000       0.042       0.087\n",
      "ROA           -0.0073      0.001     -5.847      0.000      -0.010      -0.005\n",
      "DR             0.0072      0.001      8.185      0.000       0.005       0.009\n",
      "CR             0.0001   5.45e-05      2.748      0.006     4.3e-05       0.000\n",
      "ATTNVR         0.0004      0.000      2.136      0.033    2.94e-05       0.001\n",
      "CFAT          -0.0005      0.001     -0.625      0.532      -0.002       0.001\n",
      "==============================================================================\n",
      "Omnibus:                   402813.651   Durbin-Watson:                   1.991\n",
      "Prob(Omnibus):                  0.000   Jarque-Bera (JB):       4501204862.975\n",
      "Skew:                          28.515   Prob(JB):                         0.00\n",
      "Kurtosis:                     823.684   Cond. No.                         716.\n",
      "==============================================================================\n",
      "\n",
      "Warnings:\n",
      "[1] Standard Errors are heteroscedasticity robust (HC1)\n"
     ]
    }
   ],
   "source": [
    "robust_estimators_result = linear_probability_model_result.get_robustcov_results()\n",
    "print(robust_estimators_result.summary())"
   ]
  },
  {
   "cell_type": "markdown",
   "metadata": {},
   "source": [
    "https://www.statsmodels.org/dev/generated/statsmodels.stats.diagnostic.het_breuschpagan.html\n",
    "https://www.statsmodels.org/dev/generated/statsmodels.regression.linear_model.RegressionResults.get_robustcov_results.html"
   ]
  },
  {
   "cell_type": "markdown",
   "metadata": {},
   "source": [
    "### 5. Estimate the logit model and compare your results to the linear probability model."
   ]
  },
  {
   "cell_type": "code",
   "execution_count": 13,
   "metadata": {},
   "outputs": [],
   "source": [
    "from statsmodels.discrete.discrete_model import Logit"
   ]
  },
  {
   "cell_type": "code",
   "execution_count": 14,
   "metadata": {
    "scrolled": true
   },
   "outputs": [
    {
     "name": "stdout",
     "output_type": "stream",
     "text": [
      "Optimization terminated successfully.\n",
      "         Current function value: 0.006092\n",
      "         Iterations 13\n"
     ]
    },
    {
     "data": {
      "text/html": [
       "<div>\n",
       "<style scoped>\n",
       "    .dataframe tbody tr th:only-of-type {\n",
       "        vertical-align: middle;\n",
       "    }\n",
       "\n",
       "    .dataframe tbody tr th {\n",
       "        vertical-align: top;\n",
       "    }\n",
       "\n",
       "    .dataframe thead th {\n",
       "        text-align: right;\n",
       "    }\n",
       "</style>\n",
       "<table border=\"1\" class=\"dataframe\">\n",
       "  <thead>\n",
       "    <tr style=\"text-align: right;\">\n",
       "      <th></th>\n",
       "      <th>const</th>\n",
       "      <th>RSize</th>\n",
       "      <th>ExRET</th>\n",
       "      <th>Sigma</th>\n",
       "      <th>ROA</th>\n",
       "      <th>DR</th>\n",
       "      <th>CR</th>\n",
       "      <th>ATTNVR</th>\n",
       "      <th>CFAT</th>\n",
       "    </tr>\n",
       "  </thead>\n",
       "  <tbody>\n",
       "    <tr>\n",
       "      <th>coffecient</th>\n",
       "      <td>-22.012988</td>\n",
       "      <td>-1.02955</td>\n",
       "      <td>-3.648591</td>\n",
       "      <td>9.442958</td>\n",
       "      <td>-0.559752</td>\n",
       "      <td>2.855549</td>\n",
       "      <td>0.042594</td>\n",
       "      <td>-0.122619</td>\n",
       "      <td>0.589973</td>\n",
       "    </tr>\n",
       "  </tbody>\n",
       "</table>\n",
       "</div>"
      ],
      "text/plain": [
       "                const    RSize     ExRET     Sigma       ROA        DR  \\\n",
       "coffecient -22.012988 -1.02955 -3.648591  9.442958 -0.559752  2.855549   \n",
       "\n",
       "                  CR    ATTNVR      CFAT  \n",
       "coffecient  0.042594 -0.122619  0.589973  "
      ]
     },
     "execution_count": 14,
     "metadata": {},
     "output_type": "execute_result"
    }
   ],
   "source": [
    "logit_model = Logit(Y, X, missing=\"drop\")\n",
    "logit_model_result = logit_model.fit()\n",
    "\n",
    "pd.DataFrame(logit_model_result.params, columns=[\"coffecient\"]).T"
   ]
  },
  {
   "cell_type": "code",
   "execution_count": 15,
   "metadata": {},
   "outputs": [
    {
     "name": "stdout",
     "output_type": "stream",
     "text": [
      "                           Logit Regression Results                           \n",
      "==============================================================================\n",
      "Dep. Variable:                      Y   No. Observations:               159623\n",
      "Model:                          Logit   Df Residuals:                   159614\n",
      "Method:                           MLE   Df Model:                            8\n",
      "Date:                Sun, 23 Dec 2018   Pseudo R-squ.:                  0.3351\n",
      "Time:                        08:33:21   Log-Likelihood:                -972.44\n",
      "converged:                       True   LL-Null:                       -1462.5\n",
      "                                        LLR p-value:                2.842e-206\n",
      "==============================================================================\n",
      "                 coef    std err          z      P>|z|      [0.025      0.975]\n",
      "------------------------------------------------------------------------------\n",
      "const        -22.0130      1.097    -20.059      0.000     -24.164     -19.862\n",
      "RSize         -1.0296      0.085    -12.083      0.000      -1.197      -0.863\n",
      "ExRET         -3.6486      1.296     -2.816      0.005      -6.188      -1.109\n",
      "Sigma          9.4430      2.917      3.237      0.001       3.726      15.160\n",
      "ROA           -0.5598      0.184     -3.043      0.002      -0.920      -0.199\n",
      "DR             2.8555      0.270     10.585      0.000       2.327       3.384\n",
      "CR             0.0426      0.042      1.019      0.308      -0.039       0.125\n",
      "ATTNVR        -0.1226      0.075     -1.639      0.101      -0.269       0.024\n",
      "CFAT           0.5900      0.402      1.469      0.142      -0.197       1.377\n",
      "==============================================================================\n",
      "\n",
      "Possibly complete quasi-separation: A fraction 0.58 of observations can be\n",
      "perfectly predicted. This might indicate that there is complete\n",
      "quasi-separation. In this case some parameters will not be identified.\n"
     ]
    }
   ],
   "source": [
    "print(logit_model_result.summary())"
   ]
  },
  {
   "cell_type": "markdown",
   "metadata": {},
   "source": [
    "### 6. Shumway (2001) finds that using market-driven variables (RSize, Sigma, ExcessRet) alone can produce results almost as good as using both accounting and market-driven variables. Could you compare these two logit models and tell me which one is better?"
   ]
  },
  {
   "cell_type": "code",
   "execution_count": 16,
   "metadata": {
    "scrolled": true
   },
   "outputs": [
    {
     "name": "stdout",
     "output_type": "stream",
     "text": [
      "Optimization terminated successfully.\n",
      "         Current function value: 0.006731\n",
      "         Iterations 13\n"
     ]
    },
    {
     "data": {
      "text/html": [
       "<div>\n",
       "<style scoped>\n",
       "    .dataframe tbody tr th:only-of-type {\n",
       "        vertical-align: middle;\n",
       "    }\n",
       "\n",
       "    .dataframe tbody tr th {\n",
       "        vertical-align: top;\n",
       "    }\n",
       "\n",
       "    .dataframe thead th {\n",
       "        text-align: right;\n",
       "    }\n",
       "</style>\n",
       "<table border=\"1\" class=\"dataframe\">\n",
       "  <thead>\n",
       "    <tr style=\"text-align: right;\">\n",
       "      <th></th>\n",
       "      <th>const</th>\n",
       "      <th>RSize</th>\n",
       "      <th>Sigma</th>\n",
       "      <th>ExRET</th>\n",
       "    </tr>\n",
       "  </thead>\n",
       "  <tbody>\n",
       "    <tr>\n",
       "      <th>coffecient</th>\n",
       "      <td>-20.718692</td>\n",
       "      <td>-1.042024</td>\n",
       "      <td>18.588968</td>\n",
       "      <td>-7.950286</td>\n",
       "    </tr>\n",
       "  </tbody>\n",
       "</table>\n",
       "</div>"
      ],
      "text/plain": [
       "                const     RSize      Sigma     ExRET\n",
       "coffecient -20.718692 -1.042024  18.588968 -7.950286"
      ]
     },
     "execution_count": 16,
     "metadata": {},
     "output_type": "execute_result"
    }
   ],
   "source": [
    "X_2 = X[[\"RSize\", \"Sigma\", \"ExRET\"]]\n",
    "X_2 = add_constant(X_2)\n",
    "\n",
    "logit_model_2 = Logit(Y, X_2, missing=\"drop\")\n",
    "logit_model_2_result = logit_model_2.fit()\n",
    "\n",
    "pd.DataFrame(logit_model_2_result.params, columns=[\"coffecient\"]).T"
   ]
  },
  {
   "cell_type": "code",
   "execution_count": 17,
   "metadata": {},
   "outputs": [
    {
     "name": "stdout",
     "output_type": "stream",
     "text": [
      "                           Logit Regression Results                           \n",
      "==============================================================================\n",
      "Dep. Variable:                      Y   No. Observations:               159623\n",
      "Model:                          Logit   Df Residuals:                   159619\n",
      "Method:                           MLE   Df Model:                            3\n",
      "Date:                Sun, 23 Dec 2018   Pseudo R-squ.:                  0.2654\n",
      "Time:                        08:33:26   Log-Likelihood:                -1074.4\n",
      "converged:                       True   LL-Null:                       -1462.5\n",
      "                                        LLR p-value:                6.114e-168\n",
      "==============================================================================\n",
      "                 coef    std err          z      P>|z|      [0.025      0.975]\n",
      "------------------------------------------------------------------------------\n",
      "const        -20.7187      1.047    -19.793      0.000     -22.770     -18.667\n",
      "RSize         -1.0420      0.084    -12.392      0.000      -1.207      -0.877\n",
      "Sigma         18.5890      2.751      6.757      0.000      13.197      23.981\n",
      "ExRET         -7.9503      1.332     -5.967      0.000     -10.562      -5.339\n",
      "==============================================================================\n",
      "\n",
      "Possibly complete quasi-separation: A fraction 0.53 of observations can be\n",
      "perfectly predicted. This might indicate that there is complete\n",
      "quasi-separation. In this case some parameters will not be identified.\n"
     ]
    }
   ],
   "source": [
    "print(logit_model_2_result.summary())"
   ]
  },
  {
   "cell_type": "code",
   "execution_count": 18,
   "metadata": {},
   "outputs": [
    {
     "data": {
      "text/plain": [
       "6.6544783642473"
      ]
     },
     "execution_count": 18,
     "metadata": {},
     "output_type": "execute_result"
    }
   ],
   "source": [
    "np.log(logit_model_2_result.llr)"
   ]
  },
  {
   "cell_type": "code",
   "execution_count": 19,
   "metadata": {},
   "outputs": [
    {
     "data": {
      "text/plain": [
       "6.8877286945855136"
      ]
     },
     "execution_count": 19,
     "metadata": {},
     "output_type": "execute_result"
    }
   ],
   "source": [
    "np.log(logit_model_result.llr)"
   ]
  },
  {
   "cell_type": "code",
   "execution_count": 20,
   "metadata": {
    "scrolled": true
   },
   "outputs": [
    {
     "data": {
      "text/plain": [
       "0.46650066067642726"
      ]
     },
     "execution_count": 20,
     "metadata": {},
     "output_type": "execute_result"
    }
   ],
   "source": [
    "(np.log(logit_model_result.llr) - np.log(logit_model_2_result.llr)) * 2\n",
    "# critical value = 11.0705"
   ]
  },
  {
   "cell_type": "code",
   "execution_count": null,
   "metadata": {},
   "outputs": [],
   "source": []
  },
  {
   "cell_type": "code",
   "execution_count": 21,
   "metadata": {},
   "outputs": [
    {
     "ename": "NameError",
     "evalue": "name 'result' is not defined",
     "output_type": "error",
     "traceback": [
      "\u001b[1;31m---------------------------------------------------------------------------\u001b[0m",
      "\u001b[1;31mNameError\u001b[0m                                 Traceback (most recent call last)",
      "\u001b[1;32m<ipython-input-21-1d1ce68b6ea4>\u001b[0m in \u001b[0;36m<module>\u001b[1;34m()\u001b[0m\n\u001b[1;32m----> 1\u001b[1;33m \u001b[1;33m-\u001b[0m\u001b[1;36m2\u001b[0m\u001b[1;33m*\u001b[0m\u001b[1;33m(\u001b[0m\u001b[0mresult\u001b[0m\u001b[1;33m.\u001b[0m\u001b[0mllnull\u001b[0m \u001b[1;33m-\u001b[0m \u001b[0mresult\u001b[0m\u001b[1;33m.\u001b[0m\u001b[0mllf\u001b[0m\u001b[1;33m)\u001b[0m\u001b[1;33m\u001b[0m\u001b[0m\n\u001b[0m\u001b[0;32m      2\u001b[0m \u001b[0mlogit_model_2_result\u001b[0m\u001b[1;33m.\u001b[0m\u001b[0mllf\u001b[0m\u001b[1;33m\u001b[0m\u001b[0m\n",
      "\u001b[1;31mNameError\u001b[0m: name 'result' is not defined"
     ]
    }
   ],
   "source": [
    "-2*(result.llnull - result.llf)\n",
    "logit_model_2_result.llf"
   ]
  },
  {
   "cell_type": "markdown",
   "metadata": {},
   "source": [
    "### 7. During the financial crisis, the bank you work for wants to reduce its exposure to default risk. It decides that any loan with a probability of 6% or higher to be defaulted by the borrower will not be approved. A firm’s CFO approaches you with expected characteristics of her firm as following: ROA=0.05, CR=1.50, DR=0.55, ATTNVR=0.67, CFAT=-0.21, RSize =-6.02, Sigma=7.10, ExcessRet=-52.77. Will you grant her the loan she requests?"
   ]
  },
  {
   "cell_type": "code",
   "execution_count": 22,
   "metadata": {
    "scrolled": false
   },
   "outputs": [
    {
     "name": "stdout",
     "output_type": "stream",
     "text": [
      "prediction of linear probability model:  0.0124433987989 \n",
      " prediction of logit model:  7.36417497202e-06\n"
     ]
    }
   ],
   "source": [
    "x = pd.DataFrame([[1, -6.02, -0.5277, 0.071, 0.05, 0.55, 1.5, 0.67, -0.21]],\n",
    "                 columns = X.columns)\n",
    "\n",
    "print(\"prediction of linear probability model: \",\n",
    "      linear_probability_model_result.predict(x).values[0],\n",
    "      \"\\n\",\n",
    "      \"prediction of logit model: \",\n",
    "      logit_model_result.predict(x).values[0])"
   ]
  },
  {
   "cell_type": "markdown",
   "metadata": {},
   "source": [
    "### 8. What is the marginal effect of ROA for the company in question 7?"
   ]
  },
  {
   "cell_type": "code",
   "execution_count": 23,
   "metadata": {
    "scrolled": true
   },
   "outputs": [
    {
     "name": "stdout",
     "output_type": "stream",
     "text": [
      "marginal effect of ROA (logit):  -4.1220844039e-06\n"
     ]
    }
   ],
   "source": [
    "param_ROA = logit_model_result.params[\"ROA\"]\n",
    "p_i = logit_model_result.predict(x).values[0]\n",
    "one_minus_p_i = 1-logit_model_result.predict(x).values[0]\n",
    "marginal_effect_logit = param_ROA * p_i * one_minus_p_i\n",
    "\n",
    "print(\"marginal effect of ROA (logit): \", marginal_effect_logit)"
   ]
  },
  {
   "cell_type": "markdown",
   "metadata": {},
   "source": [
    "**Visualization**"
   ]
  },
  {
   "cell_type": "code",
   "execution_count": 29,
   "metadata": {},
   "outputs": [],
   "source": [
    "def predict_logit(ROA):\n",
    "    x = pd.DataFrame([[1, -6.02, -0.5277, 0.071, ROA, 0.55, 1.5, 0.67, -0.21]],\n",
    "                     columns = X.columns)\n",
    "    \n",
    "    param_ROA = logit_model_result.params[\"ROA\"]\n",
    "    p_i = logit_model_result.predict(x).values[0]\n",
    "    one_minus_p_i = 1-logit_model_result.predict(x).values[0]\n",
    "    marginal_effect_logit = param_ROA * p_i * one_minus_p_i\n",
    "    return marginal_effect_logit"
   ]
  },
  {
   "cell_type": "code",
   "execution_count": 30,
   "metadata": {},
   "outputs": [],
   "source": [
    "prediction_logit = []\n",
    "for i in np.arange(0, 1.05, 0.05):\n",
    "    prediction_logit.append(predict_logit(i))"
   ]
  },
  {
   "cell_type": "code",
   "execution_count": 82,
   "metadata": {
    "scrolled": false
   },
   "outputs": [
    {
     "data": {
      "image/png": "[encoded data removed]",
      "text/plain": [
       "<matplotlib.figure.Figure at 0x2348c55af60>"
      ]
     },
     "metadata": {},
     "output_type": "display_data"
    }
   ],
   "source": [
    "plt.figure(figsize=(20, 12))\n",
    "plt.style.use(\"seaborn\")\n",
    "plt.scatter(np.arange(0, 1.05, 0.05),\n",
    "            prediction_logit,\n",
    "            s=10**2)\n",
    "plt.ylim(min(prediction_logit)-0.000001, max(prediction_logit)+0.000001)\n",
    "plt.title(\"Marginal effect of ROA\", size=30)\n",
    "plt.xlabel(\"Given ROA\", size=20)\n",
    "plt.ylabel(\"Marginl effect\", size=20)\n",
    "plt.xticks(size=15)\n",
    "plt.yticks(size=15)\n",
    "plt.scatter(0.05, prediction_logit[1], marker=\"x\", s=30**2, c=\"green\");"
   ]
  },
  {
   "cell_type": "markdown",
   "metadata": {},
   "source": [
    "### 9. Following the previous question, what is the marginal effect of ROA if you estimate with the probit model?"
   ]
  },
  {
   "cell_type": "code",
   "execution_count": 25,
   "metadata": {},
   "outputs": [],
   "source": [
    "from statsmodels.discrete.discrete_model import Probit\n",
    "from scipy.stats import norm"
   ]
  },
  {
   "cell_type": "code",
   "execution_count": 26,
   "metadata": {
    "scrolled": true
   },
   "outputs": [
    {
     "name": "stdout",
     "output_type": "stream",
     "text": [
      "Optimization terminated successfully.\n",
      "         Current function value: 0.006106\n",
      "         Iterations 12\n"
     ]
    },
    {
     "data": {
      "text/html": [
       "<div>\n",
       "<style scoped>\n",
       "    .dataframe tbody tr th:only-of-type {\n",
       "        vertical-align: middle;\n",
       "    }\n",
       "\n",
       "    .dataframe tbody tr th {\n",
       "        vertical-align: top;\n",
       "    }\n",
       "\n",
       "    .dataframe thead th {\n",
       "        text-align: right;\n",
       "    }\n",
       "</style>\n",
       "<table border=\"1\" class=\"dataframe\">\n",
       "  <thead>\n",
       "    <tr style=\"text-align: right;\">\n",
       "      <th></th>\n",
       "      <th>const</th>\n",
       "      <th>RSize</th>\n",
       "      <th>ExRET</th>\n",
       "      <th>Sigma</th>\n",
       "      <th>ROA</th>\n",
       "      <th>DR</th>\n",
       "      <th>CR</th>\n",
       "      <th>ATTNVR</th>\n",
       "      <th>CFAT</th>\n",
       "    </tr>\n",
       "  </thead>\n",
       "  <tbody>\n",
       "    <tr>\n",
       "      <th>coffecient</th>\n",
       "      <td>-8.19509</td>\n",
       "      <td>-0.339248</td>\n",
       "      <td>-1.501361</td>\n",
       "      <td>3.90778</td>\n",
       "      <td>-0.246895</td>\n",
       "      <td>1.061034</td>\n",
       "      <td>0.017542</td>\n",
       "      <td>-0.049374</td>\n",
       "      <td>0.225417</td>\n",
       "    </tr>\n",
       "  </tbody>\n",
       "</table>\n",
       "</div>"
      ],
      "text/plain": [
       "              const     RSize     ExRET    Sigma       ROA        DR  \\\n",
       "coffecient -8.19509 -0.339248 -1.501361  3.90778 -0.246895  1.061034   \n",
       "\n",
       "                  CR    ATTNVR      CFAT  \n",
       "coffecient  0.017542 -0.049374  0.225417  "
      ]
     },
     "execution_count": 26,
     "metadata": {},
     "output_type": "execute_result"
    }
   ],
   "source": [
    "probit_model = Probit(Y, X, missing=\"drop\")\n",
    "probit_model_result = probit_model.fit()\n",
    "\n",
    "pd.DataFrame(probit_model_result.params, columns=[\"coffecient\"]).T"
   ]
  },
  {
   "cell_type": "code",
   "execution_count": 27,
   "metadata": {},
   "outputs": [
    {
     "name": "stdout",
     "output_type": "stream",
     "text": [
      "                          Probit Regression Results                           \n",
      "==============================================================================\n",
      "Dep. Variable:                      Y   No. Observations:               159623\n",
      "Model:                         Probit   Df Residuals:                   159614\n",
      "Method:                           MLE   Df Model:                            8\n",
      "Date:                Sun, 23 Dec 2018   Pseudo R-squ.:                  0.3336\n",
      "Time:                        08:33:44   Log-Likelihood:                -974.63\n",
      "converged:                       True   LL-Null:                       -1462.5\n",
      "                                        LLR p-value:                2.502e-205\n",
      "==============================================================================\n",
      "                 coef    std err          z      P>|z|      [0.025      0.975]\n",
      "------------------------------------------------------------------------------\n",
      "const         -8.1951      0.380    -21.577      0.000      -8.939      -7.451\n",
      "RSize         -0.3392      0.030    -11.481      0.000      -0.397      -0.281\n",
      "ExRET         -1.5014      0.491     -3.056      0.002      -2.464      -0.538\n",
      "Sigma          3.9078      1.099      3.555      0.000       1.753       6.062\n",
      "ROA           -0.2469      0.071     -3.477      0.001      -0.386      -0.108\n",
      "DR             1.0610      0.101     10.523      0.000       0.863       1.259\n",
      "CR             0.0175      0.014      1.234      0.217      -0.010       0.045\n",
      "ATTNVR        -0.0494      0.030     -1.629      0.103      -0.109       0.010\n",
      "CFAT           0.2254      0.154      1.460      0.144      -0.077       0.528\n",
      "==============================================================================\n",
      "\n",
      "Possibly complete quasi-separation: A fraction 0.65 of observations can be\n",
      "perfectly predicted. This might indicate that there is complete\n",
      "quasi-separation. In this case some parameters will not be identified.\n"
     ]
    }
   ],
   "source": [
    "print(probit_model_result.summary())"
   ]
  },
  {
   "cell_type": "code",
   "execution_count": 28,
   "metadata": {},
   "outputs": [
    {
     "name": "stdout",
     "output_type": "stream",
     "text": [
      "marginal effect of ROA (probit):  -2.92620873613e-06\n"
     ]
    }
   ],
   "source": [
    "value_of_function = np.dot(probit_model_result.params.values, x.values[0])\n",
    "marginal_effect_probit = norm.pdf(value_of_function) * probit_model_result.params[\"ROA\"]\n",
    "\n",
    "print(\"marginal effect of ROA (probit): \", marginal_effect_probit)"
   ]
  },
  {
   "cell_type": "markdown",
   "metadata": {},
   "source": [
    "**Visualization**"
   ]
  },
  {
   "cell_type": "code",
   "execution_count": 66,
   "metadata": {},
   "outputs": [],
   "source": [
    "def predict_probit(ROA):\n",
    "    x = pd.DataFrame([[1, -6.02, -0.5277, 0.071, ROA, 0.55, 1.5, 0.67, -0.21]],\n",
    "                     columns = X.columns)\n",
    "    \n",
    "    value_of_function = np.dot(probit_model_result.params.values, x.values[0])\n",
    "    marginal_effect_probit = norm.pdf(value_of_function) * probit_model_result.params[\"ROA\"]\n",
    "    return marginal_effect_probit"
   ]
  },
  {
   "cell_type": "code",
   "execution_count": 67,
   "metadata": {},
   "outputs": [],
   "source": [
    "prediction_probit = []\n",
    "for i in np.arange(0, 1.05, 0.05):\n",
    "    prediction_probit.append(predict_probit(i))"
   ]
  },
  {
   "cell_type": "code",
   "execution_count": 83,
   "metadata": {},
   "outputs": [
    {
     "data": {
      "image/png": "[encoded data removed]",
      "text/plain": [
       "<matplotlib.figure.Figure at 0x2348d713c88>"
      ]
     },
     "metadata": {},
     "output_type": "display_data"
    }
   ],
   "source": [
    "plt.figure(figsize=(20, 12))\n",
    "plt.style.use(\"seaborn\")\n",
    "plt.scatter(np.arange(0, 1.05, 0.05),\n",
    "            prediction_probit,\n",
    "            s=10**2)\n",
    "plt.ylim(min(prediction_probit)-0.000001, max(prediction_probit)+0.000001)\n",
    "plt.title(\"Marginal effect of ROA\", size=30)\n",
    "plt.xlabel(\"Given ROA\", size=20)\n",
    "plt.ylabel(\"Marginl effect\", size=20)\n",
    "plt.xticks(size=15)\n",
    "plt.yticks(size=15)\n",
    "plt.scatter(0.05, prediction_probit[1], marker=\"x\", s=30**2, c=\"green\");"
   ]
  },
  {
   "cell_type": "markdown",
   "metadata": {},
   "source": [
    "### 10. In another thread of research someone argues that the relative size (RSize) is determined by those other independent variables you see in the Shumway (2001) model above. That is,\n",
    "![capture](https://i.imgur.com/sKTnErv.png)\n",
    "### This is a classical panel data case. Can you run both fixed and random effects models and show me the results? (Just one-way fixed- and random-effects models) Would you suggest using a random effects model here?"
   ]
  },
  {
   "cell_type": "markdown",
   "metadata": {},
   "source": [
    "**Data preprocessing**"
   ]
  },
  {
   "cell_type": "code",
   "execution_count": 84,
   "metadata": {},
   "outputs": [],
   "source": [
    "# select data whose length bigger than one\n",
    "target_index = data.groupby(\"PERMNO\").count()[\"FYEAR\"] > 1\n",
    "target_index = target_index.index[target_index]\n",
    "\n",
    "data_2 = data[data.PERMNO.apply(lambda x: x in target_index)]\n",
    "\n",
    "# transform dataframe structure before fitting model\n",
    "data_2 = add_constant(data_2)\n",
    "data_2 = data_2.set_index('PERMNO', append=True)\n",
    "data_2.index = data_2.index.swaplevel(0,1)\n",
    "\n",
    "columns_with_const = ['const', 'ExRET', 'Sigma', 'ROA', 'DR', 'CR', 'ATTNVR', 'CFAT']\n",
    "columns_without_const = ['ExRET', 'Sigma', 'ROA', 'DR', 'CR', 'ATTNVR', 'CFAT']"
   ]
  },
  {
   "cell_type": "markdown",
   "metadata": {},
   "source": [
    "**Fixed effect model (one way)**"
   ]
  },
  {
   "cell_type": "code",
   "execution_count": 85,
   "metadata": {
    "scrolled": false
   },
   "outputs": [
    {
     "name": "stdout",
     "output_type": "stream",
     "text": [
      "                          PanelOLS Estimation Summary                           \n",
      "================================================================================\n",
      "Dep. Variable:                  RSize   R-squared:                        0.3178\n",
      "Estimator:                   PanelOLS   R-squared (Between):              0.2712\n",
      "No. Observations:              158250   R-squared (Within):               0.3178\n",
      "Date:                Sun, Dec 23 2018   R-squared (Overall):              0.2759\n",
      "Time:                        10:29:59   Log-likelihood                -1.548e+05\n",
      "Cov. Estimator:            Unadjusted                                           \n",
      "                                        F-statistic:                      9670.2\n",
      "Entities:                       12945   P-value                           0.0000\n",
      "Avg Obs:                       12.225   Distribution:                F(7,145298)\n",
      "Min Obs:                       2.0000                                           \n",
      "Max Obs:                       58.000   F-statistic (robust):             9670.2\n",
      "                                        P-value                           0.0000\n",
      "Time periods:                  158250   Distribution:                F(7,145298)\n",
      "Avg Obs:                       1.0000                                           \n",
      "Min Obs:                       1.0000                                           \n",
      "Max Obs:                       1.0000                                           \n",
      "                                                                                \n",
      "                             Parameter Estimates                              \n",
      "==============================================================================\n",
      "            Parameter  Std. Err.     T-stat    P-value    Lower CI    Upper CI\n",
      "------------------------------------------------------------------------------\n",
      "const         -8.8466     0.0112    -788.57     0.0000     -8.8686     -8.8246\n",
      "ExRET          5.2876     0.0412     128.35     0.0000      5.2068      5.3683\n",
      "Sigma         -21.949     0.1336    -164.35     0.0000     -22.211     -21.687\n",
      "ROA            0.5037     0.0123     40.916     0.0000      0.4796      0.5278\n",
      "DR            -0.7166     0.0132    -54.143     0.0000     -0.7425     -0.6906\n",
      "CR            -0.0053     0.0013    -4.2226     0.0000     -0.0078     -0.0029\n",
      "ATTNVR        -0.2468     0.0048    -51.053     0.0000     -0.2562     -0.2373\n",
      "CFAT          -0.0357     0.0198    -1.8090     0.0705     -0.0745      0.0030\n",
      "==============================================================================\n",
      "\n",
      "F-test for Poolability: 52.379\n",
      "P-value: 0.0000\n",
      "Distribution: F(12944,145298)\n",
      "\n",
      "Included effects: Entity\n"
     ]
    }
   ],
   "source": [
    "fixed_effect_one_way_model = PanelOLS(data_2[\"RSize\"],\n",
    "                                      data_2[columns_with_const],\n",
    "                                      entity_effects=True)\n",
    "fixed_effect_one_way_result = fixed_effect_one_way_model.fit()\n",
    "print(fixed_effect_one_way_result.summary)"
   ]
  },
  {
   "cell_type": "markdown",
   "metadata": {},
   "source": [
    "**Random effect model**"
   ]
  },
  {
   "cell_type": "code",
   "execution_count": 86,
   "metadata": {
    "scrolled": true
   },
   "outputs": [
    {
     "name": "stdout",
     "output_type": "stream",
     "text": [
      "                        RandomEffects Estimation Summary                        \n",
      "================================================================================\n",
      "Dep. Variable:                  RSize   R-squared:                        0.6309\n",
      "Estimator:              RandomEffects   R-squared (Between):              0.3452\n",
      "No. Observations:              158250   R-squared (Within):               0.3166\n",
      "Date:                Sun, Dec 23 2018   R-squared (Overall):              0.2612\n",
      "Time:                        10:41:23   Log-likelihood                -1.638e+05\n",
      "Cov. Estimator:            Unadjusted                                           \n",
      "                                        F-statistic:                   3.865e+04\n",
      "Entities:                       12945   P-value                           0.0000\n",
      "Avg Obs:                       12.225   Distribution:                F(7,158242)\n",
      "Min Obs:                       2.0000                                           \n",
      "Max Obs:                       58.000   F-statistic (robust):          1.061e+04\n",
      "                                        P-value                           0.0000\n",
      "Time periods:                  158250   Distribution:                F(7,158242)\n",
      "Avg Obs:                       1.0000                                           \n",
      "Min Obs:                       1.0000                                           \n",
      "Max Obs:                       1.0000                                           \n",
      "                                                                                \n",
      "                             Parameter Estimates                              \n",
      "==============================================================================\n",
      "            Parameter  Std. Err.     T-stat    P-value    Lower CI    Upper CI\n",
      "------------------------------------------------------------------------------\n",
      "const         -9.1872     0.0156    -590.06     0.0000     -9.2177     -9.1567\n",
      "ExRET          5.3949     0.0416     129.66     0.0000      5.3134      5.4765\n",
      "Sigma         -23.593     0.1326    -177.93     0.0000     -23.853     -23.333\n",
      "ROA            0.5768     0.0121     47.523     0.0000      0.5530      0.6006\n",
      "DR            -0.6250     0.0131    -47.654     0.0000     -0.6507     -0.5993\n",
      "CR            -0.0077     0.0013    -6.1073     0.0000     -0.0102     -0.0052\n",
      "ATTNVR        -0.2523     0.0046    -54.409     0.0000     -0.2613     -0.2432\n",
      "CFAT          -0.0540     0.0193    -2.7989     0.0051     -0.0917     -0.0162\n",
      "==============================================================================\n"
     ]
    }
   ],
   "source": [
    "random_effect_model = RandomEffects(data_2[\"RSize\"], data_2[columns_with_const])\n",
    "random_effect_result = random_effect_model.fit()\n",
    "print(random_effect_result.summary)"
   ]
  },
  {
   "cell_type": "code",
   "execution_count": null,
   "metadata": {},
   "outputs": [],
   "source": [
    "data_2[\"RSize\"]\n",
    "data_2[columns_with_const]"
   ]
  },
  {
   "cell_type": "code",
   "execution_count": 113,
   "metadata": {},
   "outputs": [],
   "source": [
    "YY = data['RSize']\n",
    "XX = data[['ExRET', 'Sigma', 'ROA', 'DR', 'CR', 'ATTNVR', 'CFAT']]\n",
    "\n",
    "XX = add_constant(X)"
   ]
  },
  {
   "cell_type": "code",
   "execution_count": 114,
   "metadata": {},
   "outputs": [
    {
     "data": {
      "text/html": [
       "<div>\n",
       "<style scoped>\n",
       "    .dataframe tbody tr th:only-of-type {\n",
       "        vertical-align: middle;\n",
       "    }\n",
       "\n",
       "    .dataframe tbody tr th {\n",
       "        vertical-align: top;\n",
       "    }\n",
       "\n",
       "    .dataframe thead th {\n",
       "        text-align: right;\n",
       "    }\n",
       "</style>\n",
       "<table border=\"1\" class=\"dataframe\">\n",
       "  <thead>\n",
       "    <tr style=\"text-align: right;\">\n",
       "      <th></th>\n",
       "      <th>const</th>\n",
       "      <th>RSize</th>\n",
       "      <th>ExRET</th>\n",
       "      <th>Sigma</th>\n",
       "      <th>ROA</th>\n",
       "      <th>DR</th>\n",
       "      <th>CR</th>\n",
       "      <th>ATTNVR</th>\n",
       "      <th>CFAT</th>\n",
       "    </tr>\n",
       "  </thead>\n",
       "  <tbody>\n",
       "    <tr>\n",
       "      <th>coffecient</th>\n",
       "      <td>7.549517e-15</td>\n",
       "      <td>1.0</td>\n",
       "      <td>1.126876e-14</td>\n",
       "      <td>-7.105427e-14</td>\n",
       "      <td>-3.747003e-15</td>\n",
       "      <td>4.718448e-15</td>\n",
       "      <td>5.828671e-16</td>\n",
       "      <td>-1.887379e-15</td>\n",
       "      <td>-9.769963e-15</td>\n",
       "    </tr>\n",
       "  </tbody>\n",
       "</table>\n",
       "</div>"
      ],
      "text/plain": [
       "                   const  RSize         ExRET         Sigma           ROA  \\\n",
       "coffecient  7.549517e-15    1.0  1.126876e-14 -7.105427e-14 -3.747003e-15   \n",
       "\n",
       "                      DR            CR        ATTNVR          CFAT  \n",
       "coffecient  4.718448e-15  5.828671e-16 -1.887379e-15 -9.769963e-15  "
      ]
     },
     "execution_count": 114,
     "metadata": {},
     "output_type": "execute_result"
    }
   ],
   "source": [
    "linear_probability_model_2 = OLS(YY, XX, missing=\"drop\")\n",
    "linear_probability_model_2_result = linear_probability_model_2.fit()\n",
    "\n",
    "pd.DataFrame(linear_probability_model_2_result.params, columns=[\"coffecient\"]).T"
   ]
  },
  {
   "cell_type": "code",
   "execution_count": 90,
   "metadata": {},
   "outputs": [],
   "source": [
    "from statsmodels.sandbox.regression.gmm import IVRegressionResults"
   ]
  },
  {
   "cell_type": "code",
   "execution_count": 105,
   "metadata": {
    "scrolled": true
   },
   "outputs": [],
   "source": [
    "test = IVRegressionResults(fixed_effect_one_way_result, fixed_effect_one_way_result.params)"
   ]
  },
  {
   "cell_type": "code",
   "execution_count": null,
   "metadata": {},
   "outputs": [],
   "source": [
    "fixed_effect_one_way_model.exog"
   ]
  },
  {
   "cell_type": "code",
   "execution_count": 109,
   "metadata": {},
   "outputs": [],
   "source": [
    "fixed_effect_one_way_model.dependent"
   ]
  },
  {
   "cell_type": "code",
   "execution_count": 110,
   "metadata": {},
   "outputs": [],
   "source": [
    "def spec_hausman(model, dof=None):\n",
    "    endog, exog = model.dependent, model.exog\n",
    "    resols = OLS(endog, exog).fit()\n",
    "    normalized_cov_params_ols = resols.model.normalized_cov_params\n",
    "    # Stata `ivendog` doesn't use df correction for se\n",
    "    #se2 = resols.mse_resid #* resols.df_resid * 1. / len(endog)\n",
    "    se2 = resols.ssr / len(endog)\n",
    "\n",
    "    params_diff = self.params - resols.params\n",
    "\n",
    "    cov_diff = np.linalg.pinv(model.xhatprod) - normalized_cov_params_ols\n",
    "    #TODO: the following is very inefficient, solves problem (svd) twice\n",
    "    #use linalg.lstsq or svd directly\n",
    "    #cov_diff will very often be in-definite (singular)\n",
    "    if not dof:\n",
    "        dof = np.linalg.matrix_rank(cov_diff)\n",
    "    cov_diffpinv = np.linalg.pinv(cov_diff)\n",
    "    H = np.dot(params_diff, np.dot(cov_diffpinv, params_diff))/se2\n",
    "    pval = stats.chi2.sf(H, dof)\n",
    "\n",
    "    return H, pval, dof"
   ]
  },
  {
   "cell_type": "code",
   "execution_count": 99,
   "metadata": {},
   "outputs": [],
   "source": [
    "from statsmodels.regression.linear_model import RegressionResults"
   ]
  },
  {
   "cell_type": "code",
   "execution_count": null,
   "metadata": {},
   "outputs": [],
   "source": []
  },
  {
   "cell_type": "code",
   "execution_count": 111,
   "metadata": {},
   "outputs": [
    {
     "ename": "TypeError",
     "evalue": "object of type 'PanelData' has no len()",
     "output_type": "error",
     "traceback": [
      "\u001b[1;31m---------------------------------------------------------------------------\u001b[0m",
      "\u001b[1;31mTypeError\u001b[0m                                 Traceback (most recent call last)",
      "\u001b[1;32m<ipython-input-111-1c010736966d>\u001b[0m in \u001b[0;36m<module>\u001b[1;34m()\u001b[0m\n\u001b[1;32m----> 1\u001b[1;33m \u001b[0mspec_hausman\u001b[0m\u001b[1;33m(\u001b[0m\u001b[0mfixed_effect_one_way_model\u001b[0m\u001b[1;33m)\u001b[0m\u001b[1;33m\u001b[0m\u001b[0m\n\u001b[0m",
      "\u001b[1;32m<ipython-input-110-dda930791fc4>\u001b[0m in \u001b[0;36mspec_hausman\u001b[1;34m(model, dof)\u001b[0m\n\u001b[0;32m      1\u001b[0m \u001b[1;32mdef\u001b[0m \u001b[0mspec_hausman\u001b[0m\u001b[1;33m(\u001b[0m\u001b[0mmodel\u001b[0m\u001b[1;33m,\u001b[0m \u001b[0mdof\u001b[0m\u001b[1;33m=\u001b[0m\u001b[1;32mNone\u001b[0m\u001b[1;33m)\u001b[0m\u001b[1;33m:\u001b[0m\u001b[1;33m\u001b[0m\u001b[0m\n\u001b[0;32m      2\u001b[0m     \u001b[0mendog\u001b[0m\u001b[1;33m,\u001b[0m \u001b[0mexog\u001b[0m \u001b[1;33m=\u001b[0m \u001b[0mmodel\u001b[0m\u001b[1;33m.\u001b[0m\u001b[0mdependent\u001b[0m\u001b[1;33m,\u001b[0m \u001b[0mmodel\u001b[0m\u001b[1;33m.\u001b[0m\u001b[0mexog\u001b[0m\u001b[1;33m\u001b[0m\u001b[0m\n\u001b[1;32m----> 3\u001b[1;33m     \u001b[0mresols\u001b[0m \u001b[1;33m=\u001b[0m \u001b[0mOLS\u001b[0m\u001b[1;33m(\u001b[0m\u001b[0mendog\u001b[0m\u001b[1;33m,\u001b[0m \u001b[0mexog\u001b[0m\u001b[1;33m)\u001b[0m\u001b[1;33m.\u001b[0m\u001b[0mfit\u001b[0m\u001b[1;33m(\u001b[0m\u001b[1;33m)\u001b[0m\u001b[1;33m\u001b[0m\u001b[0m\n\u001b[0m\u001b[0;32m      4\u001b[0m     \u001b[0mnormalized_cov_params_ols\u001b[0m \u001b[1;33m=\u001b[0m \u001b[0mresols\u001b[0m\u001b[1;33m.\u001b[0m\u001b[0mmodel\u001b[0m\u001b[1;33m.\u001b[0m\u001b[0mnormalized_cov_params\u001b[0m\u001b[1;33m\u001b[0m\u001b[0m\n\u001b[0;32m      5\u001b[0m     \u001b[1;31m# Stata `ivendog` doesn't use df correction for se\u001b[0m\u001b[1;33m\u001b[0m\u001b[1;33m\u001b[0m\u001b[0m\n",
      "\u001b[1;32m~\\Anaconda3\\lib\\site-packages\\statsmodels\\regression\\linear_model.py\u001b[0m in \u001b[0;36m__init__\u001b[1;34m(self, endog, exog, missing, hasconst, **kwargs)\u001b[0m\n\u001b[0;32m    629\u001b[0m                  **kwargs):\n\u001b[0;32m    630\u001b[0m         super(OLS, self).__init__(endog, exog, missing=missing,\n\u001b[1;32m--> 631\u001b[1;33m                                   hasconst=hasconst, **kwargs)\n\u001b[0m\u001b[0;32m    632\u001b[0m         \u001b[1;32mif\u001b[0m \u001b[1;34m\"weights\"\u001b[0m \u001b[1;32min\u001b[0m \u001b[0mself\u001b[0m\u001b[1;33m.\u001b[0m\u001b[0m_init_keys\u001b[0m\u001b[1;33m:\u001b[0m\u001b[1;33m\u001b[0m\u001b[0m\n\u001b[0;32m    633\u001b[0m             \u001b[0mself\u001b[0m\u001b[1;33m.\u001b[0m\u001b[0m_init_keys\u001b[0m\u001b[1;33m.\u001b[0m\u001b[0mremove\u001b[0m\u001b[1;33m(\u001b[0m\u001b[1;34m\"weights\"\u001b[0m\u001b[1;33m)\u001b[0m\u001b[1;33m\u001b[0m\u001b[0m\n",
      "\u001b[1;32m~\\Anaconda3\\lib\\site-packages\\statsmodels\\regression\\linear_model.py\u001b[0m in \u001b[0;36m__init__\u001b[1;34m(self, endog, exog, weights, missing, hasconst, **kwargs)\u001b[0m\n\u001b[0;32m    517\u001b[0m                 \u001b[0mweights\u001b[0m \u001b[1;33m=\u001b[0m \u001b[0mnp\u001b[0m\u001b[1;33m.\u001b[0m\u001b[0mrepeat\u001b[0m\u001b[1;33m(\u001b[0m\u001b[0mweights\u001b[0m\u001b[1;33m,\u001b[0m \u001b[0mlen\u001b[0m\u001b[1;33m(\u001b[0m\u001b[0mkwargs\u001b[0m\u001b[1;33m[\u001b[0m\u001b[1;34m'missing_idx'\u001b[0m\u001b[1;33m]\u001b[0m\u001b[1;33m)\u001b[0m\u001b[1;33m)\u001b[0m\u001b[1;33m\u001b[0m\u001b[0m\n\u001b[0;32m    518\u001b[0m             \u001b[1;32melse\u001b[0m\u001b[1;33m:\u001b[0m\u001b[1;33m\u001b[0m\u001b[0m\n\u001b[1;32m--> 519\u001b[1;33m                 \u001b[0mweights\u001b[0m \u001b[1;33m=\u001b[0m \u001b[0mnp\u001b[0m\u001b[1;33m.\u001b[0m\u001b[0mrepeat\u001b[0m\u001b[1;33m(\u001b[0m\u001b[0mweights\u001b[0m\u001b[1;33m,\u001b[0m \u001b[0mlen\u001b[0m\u001b[1;33m(\u001b[0m\u001b[0mendog\u001b[0m\u001b[1;33m)\u001b[0m\u001b[1;33m)\u001b[0m\u001b[1;33m\u001b[0m\u001b[0m\n\u001b[0m\u001b[0;32m    520\u001b[0m         \u001b[1;31m# handle case that endog might be of len == 1\u001b[0m\u001b[1;33m\u001b[0m\u001b[1;33m\u001b[0m\u001b[0m\n\u001b[0;32m    521\u001b[0m         \u001b[1;32mif\u001b[0m \u001b[0mlen\u001b[0m\u001b[1;33m(\u001b[0m\u001b[0mweights\u001b[0m\u001b[1;33m)\u001b[0m \u001b[1;33m==\u001b[0m \u001b[1;36m1\u001b[0m\u001b[1;33m:\u001b[0m\u001b[1;33m\u001b[0m\u001b[0m\n",
      "\u001b[1;31mTypeError\u001b[0m: object of type 'PanelData' has no len()"
     ]
    }
   ],
   "source": [
    "spec_hausman(fixed_effect_one_way_model)"
   ]
  },
  {
   "cell_type": "markdown",
   "metadata": {},
   "source": [
    "### 11. Some argue that it is important to include time dummies in the fixed-effects model. Please do so and compare the pooled regression, one- and two-way fixed effects models. Which is a better model?"
   ]
  },
  {
   "cell_type": "code",
   "execution_count": 234,
   "metadata": {},
   "outputs": [
    {
     "ename": "AbsorbingEffectError",
     "evalue": "\nThe model cannot be estimated. The included effects have fully absorbed\none or more of the variables. This occurs when one or more of the dependent\nvariable is perfectly explained using the effects included in the model.\n",
     "output_type": "error",
     "traceback": [
      "\u001b[1;31m---------------------------------------------------------------------------\u001b[0m",
      "\u001b[1;31mAbsorbingEffectError\u001b[0m                      Traceback (most recent call last)",
      "\u001b[1;32m<ipython-input-234-fdd700c4cf0c>\u001b[0m in \u001b[0;36m<module>\u001b[1;34m()\u001b[0m\n\u001b[0;32m      2\u001b[0m                                       \u001b[0mdata_2\u001b[0m\u001b[1;33m[\u001b[0m\u001b[0mcolumns_with_const\u001b[0m\u001b[1;33m]\u001b[0m\u001b[1;33m,\u001b[0m\u001b[1;33m\u001b[0m\u001b[0m\n\u001b[0;32m      3\u001b[0m                                       time_effects=True)\n\u001b[1;32m----> 4\u001b[1;33m \u001b[0mfixed_effect_two_way_result\u001b[0m \u001b[1;33m=\u001b[0m \u001b[0mfixed_effect_two_way_model\u001b[0m\u001b[1;33m.\u001b[0m\u001b[0mfit\u001b[0m\u001b[1;33m(\u001b[0m\u001b[1;33m)\u001b[0m\u001b[1;33m\u001b[0m\u001b[0m\n\u001b[0m\u001b[0;32m      5\u001b[0m \u001b[0mprint\u001b[0m\u001b[1;33m(\u001b[0m\u001b[0mfixed_effect_two_way_result\u001b[0m\u001b[1;33m.\u001b[0m\u001b[0msummary\u001b[0m\u001b[1;33m)\u001b[0m\u001b[1;33m\u001b[0m\u001b[0m\n",
      "\u001b[1;32m~\\Anaconda3\\lib\\site-packages\\linearmodels\\panel\\model.py\u001b[0m in \u001b[0;36mfit\u001b[1;34m(self, use_lsdv, cov_type, debiased, auto_df, count_effects, **cov_config)\u001b[0m\n\u001b[0;32m   1167\u001b[0m         \u001b[1;32mif\u001b[0m \u001b[0mself\u001b[0m\u001b[1;33m.\u001b[0m\u001b[0mentity_effects\u001b[0m \u001b[1;32mor\u001b[0m \u001b[0mself\u001b[0m\u001b[1;33m.\u001b[0m\u001b[0mtime_effects\u001b[0m \u001b[1;32mor\u001b[0m \u001b[0mself\u001b[0m\u001b[1;33m.\u001b[0m\u001b[0mother_effects\u001b[0m\u001b[1;33m:\u001b[0m\u001b[1;33m\u001b[0m\u001b[0m\n\u001b[0;32m   1168\u001b[0m             \u001b[1;32mif\u001b[0m \u001b[0mmatrix_rank\u001b[0m\u001b[1;33m(\u001b[0m\u001b[0mx\u001b[0m\u001b[1;33m)\u001b[0m \u001b[1;33m<\u001b[0m \u001b[0mx\u001b[0m\u001b[1;33m.\u001b[0m\u001b[0mshape\u001b[0m\u001b[1;33m[\u001b[0m\u001b[1;36m1\u001b[0m\u001b[1;33m]\u001b[0m\u001b[1;33m:\u001b[0m\u001b[1;33m\u001b[0m\u001b[0m\n\u001b[1;32m-> 1169\u001b[1;33m                 \u001b[1;32mraise\u001b[0m \u001b[0mAbsorbingEffectError\u001b[0m\u001b[1;33m(\u001b[0m\u001b[0mabsorbing_error_msg\u001b[0m\u001b[1;33m)\u001b[0m\u001b[1;33m\u001b[0m\u001b[0m\n\u001b[0m\u001b[0;32m   1170\u001b[0m \u001b[1;33m\u001b[0m\u001b[0m\n\u001b[0;32m   1171\u001b[0m         \u001b[0mparams\u001b[0m \u001b[1;33m=\u001b[0m \u001b[0mlstsq\u001b[0m\u001b[1;33m(\u001b[0m\u001b[0mx\u001b[0m\u001b[1;33m,\u001b[0m \u001b[0my\u001b[0m\u001b[1;33m)\u001b[0m\u001b[1;33m[\u001b[0m\u001b[1;36m0\u001b[0m\u001b[1;33m]\u001b[0m\u001b[1;33m\u001b[0m\u001b[0m\n",
      "\u001b[1;31mAbsorbingEffectError\u001b[0m: \nThe model cannot be estimated. The included effects have fully absorbed\none or more of the variables. This occurs when one or more of the dependent\nvariable is perfectly explained using the effects included in the model.\n"
     ]
    }
   ],
   "source": [
    "fixed_effect_two_way_model = PanelOLS(data_2[\"RSize\"],\n",
    "                                      data_2[columns_with_const],\n",
    "                                      time_effects=True)\n",
    "fixed_effect_two_way_result = fixed_effect_two_way_model.fit()\n",
    "print(fixed_effect_two_way_result.summary)"
   ]
  },
  {
   "cell_type": "code",
   "execution_count": 132,
   "metadata": {},
   "outputs": [
    {
     "data": {
      "text/html": [
       "<table class=\"simpletable\">\n",
       "<caption>PanelOLS Estimation Summary</caption>\n",
       "<tr>\n",
       "  <th>Dep. Variable:</th>          <td>RSize</td>      <th>  R-squared:         </th>     <td>0.4323</td>   \n",
       "</tr>\n",
       "<tr>\n",
       "  <th>Estimator:</th>            <td>PanelOLS</td>     <th>  R-squared (Between):</th>    <td>0.4962</td>   \n",
       "</tr>\n",
       "<tr>\n",
       "  <th>No. Observations:</th>      <td>159623</td>      <th>  R-squared (Within):</th>     <td>0.4188</td>   \n",
       "</tr>\n",
       "<tr>\n",
       "  <th>Date:</th>             <td>Sat, Dec 22 2018</td> <th>  R-squared (Overall):</th>    <td>0.4323</td>   \n",
       "</tr>\n",
       "<tr>\n",
       "  <th>Time:</th>                 <td>15:20:18</td>     <th>  Log-likelihood     </th>   <td>-2.945e+05</td> \n",
       "</tr>\n",
       "<tr>\n",
       "  <th>Cov. Estimator:</th>      <td>Unadjusted</td>    <th>                     </th>        <td></td>      \n",
       "</tr>\n",
       "<tr>\n",
       "  <th></th>                          <td></td>         <th>  F-statistic:       </th>    <td>1.737e+04</td> \n",
       "</tr>\n",
       "<tr>\n",
       "  <th>Entities:</th>                <td>58</td>        <th>  P-value            </th>     <td>0.0000</td>   \n",
       "</tr>\n",
       "<tr>\n",
       "  <th>Avg Obs:</th>               <td>2752.1</td>      <th>  Distribution:      </th>   <td>F(7,159615)</td>\n",
       "</tr>\n",
       "<tr>\n",
       "  <th>Min Obs:</th>               <td>31.000</td>      <th>                     </th>        <td></td>      \n",
       "</tr>\n",
       "<tr>\n",
       "  <th>Max Obs:</th>               <td>4614.0</td>      <th>  F-statistic (robust):</th>  <td>1.737e+04</td> \n",
       "</tr>\n",
       "<tr>\n",
       "  <th></th>                          <td></td>         <th>  P-value            </th>     <td>0.0000</td>   \n",
       "</tr>\n",
       "<tr>\n",
       "  <th>Time periods:</th>          <td>159623</td>      <th>  Distribution:      </th>   <td>F(7,159615)</td>\n",
       "</tr>\n",
       "<tr>\n",
       "  <th>Avg Obs:</th>               <td>1.0000</td>      <th>                     </th>        <td></td>      \n",
       "</tr>\n",
       "<tr>\n",
       "  <th>Min Obs:</th>               <td>1.0000</td>      <th>                     </th>        <td></td>      \n",
       "</tr>\n",
       "<tr>\n",
       "  <th>Max Obs:</th>               <td>1.0000</td>      <th>                     </th>        <td></td>      \n",
       "</tr>\n",
       "<tr>\n",
       "  <th></th>                          <td></td>         <th>                     </th>        <td></td>      \n",
       "</tr>\n",
       "</table>\n",
       "<table class=\"simpletable\">\n",
       "<caption>Parameter Estimates</caption>\n",
       "<tr>\n",
       "     <td></td>    <th>Parameter</th> <th>Std. Err.</th> <th>T-stat</th>  <th>P-value</th> <th>Lower CI</th> <th>Upper CI</th>\n",
       "</tr>\n",
       "<tr>\n",
       "  <th>const</th>   <td>-7.9561</td>   <td>0.0165</td>   <td>-480.97</td> <td>0.0000</td>   <td>-7.9885</td>  <td>-7.9236</td>\n",
       "</tr>\n",
       "<tr>\n",
       "  <th>ExRET</th>   <td>7.1609</td>    <td>0.0880</td>   <td>81.376</td>  <td>0.0000</td>   <td>6.9884</td>   <td>7.3334</td> \n",
       "</tr>\n",
       "<tr>\n",
       "  <th>Sigma</th>   <td>-55.156</td>   <td>0.2068</td>   <td>-266.71</td> <td>0.0000</td>   <td>-55.561</td>  <td>-54.751</td>\n",
       "</tr>\n",
       "<tr>\n",
       "  <th>ROA</th>     <td>0.8828</td>    <td>0.0201</td>   <td>43.949</td>  <td>0.0000</td>   <td>0.8434</td>   <td>0.9222</td> \n",
       "</tr>\n",
       "<tr>\n",
       "  <th>DR</th>      <td>0.3869</td>    <td>0.0201</td>   <td>19.221</td>  <td>0.0000</td>   <td>0.3474</td>   <td>0.4263</td> \n",
       "</tr>\n",
       "<tr>\n",
       "  <th>CR</th>      <td>-0.0825</td>   <td>0.0021</td>   <td>-39.762</td> <td>0.0000</td>   <td>-0.0865</td>  <td>-0.0784</td>\n",
       "</tr>\n",
       "<tr>\n",
       "  <th>ATTNVR</th>  <td>-0.3948</td>   <td>0.0048</td>   <td>-82.468</td> <td>0.0000</td>   <td>-0.4042</td>  <td>-0.3854</td>\n",
       "</tr>\n",
       "<tr>\n",
       "  <th>CFAT</th>    <td>0.5856</td>    <td>0.0264</td>   <td>22.213</td>  <td>0.0000</td>   <td>0.5339</td>   <td>0.6373</td> \n",
       "</tr>\n",
       "</table><br/><br/><br/>id: 0x2ca0817a278"
      ],
      "text/plain": [
       "                          PanelOLS Estimation Summary                           \n",
       "================================================================================\n",
       "Dep. Variable:                  RSize   R-squared:                        0.4323\n",
       "Estimator:                   PanelOLS   R-squared (Between):              0.4962\n",
       "No. Observations:              159623   R-squared (Within):               0.4188\n",
       "Date:                Sat, Dec 22 2018   R-squared (Overall):              0.4323\n",
       "Time:                        15:20:18   Log-likelihood                -2.945e+05\n",
       "Cov. Estimator:            Unadjusted                                           \n",
       "                                        F-statistic:                   1.737e+04\n",
       "Entities:                          58   P-value                           0.0000\n",
       "Avg Obs:                       2752.1   Distribution:                F(7,159615)\n",
       "Min Obs:                       31.000                                           \n",
       "Max Obs:                       4614.0   F-statistic (robust):          1.737e+04\n",
       "                                        P-value                           0.0000\n",
       "Time periods:                  159623   Distribution:                F(7,159615)\n",
       "Avg Obs:                       1.0000                                           \n",
       "Min Obs:                       1.0000                                           \n",
       "Max Obs:                       1.0000                                           \n",
       "                                                                                \n",
       "                             Parameter Estimates                              \n",
       "==============================================================================\n",
       "            Parameter  Std. Err.     T-stat    P-value    Lower CI    Upper CI\n",
       "------------------------------------------------------------------------------\n",
       "const         -7.9561     0.0165    -480.97     0.0000     -7.9885     -7.9236\n",
       "ExRET          7.1609     0.0880     81.376     0.0000      6.9884      7.3334\n",
       "Sigma         -55.156     0.2068    -266.71     0.0000     -55.561     -54.751\n",
       "ROA            0.8828     0.0201     43.949     0.0000      0.8434      0.9222\n",
       "DR             0.3869     0.0201     19.221     0.0000      0.3474      0.4263\n",
       "CR            -0.0825     0.0021    -39.762     0.0000     -0.0865     -0.0784\n",
       "ATTNVR        -0.3948     0.0048    -82.468     0.0000     -0.4042     -0.3854\n",
       "CFAT           0.5856     0.0264     22.213     0.0000      0.5339      0.6373\n",
       "==============================================================================\n",
       "\n",
       "\n",
       "PanelEffectsResults, id: 0x2ca0817a278"
      ]
     },
     "execution_count": 132,
     "metadata": {},
     "output_type": "execute_result"
    }
   ],
   "source": [
    "# pooled\n",
    "selected_columns = ['const', 'ExRET', 'Sigma', 'ROA', 'DR', 'CR', 'ATTNVR', 'CFAT']\n",
    "model = PanelOLS(data_2[\"RSize\"], data_2[selected_columns])\n",
    "model.fit()"
   ]
  },
  {
   "cell_type": "markdown",
   "metadata": {},
   "source": [
    "https://stackoverflow.com/questions/24195432/fixed-effect-in-pandas-or-statsmodels\n",
    "https://www.statsmodels.org/dev/mixed_linear.html"
   ]
  },
  {
   "cell_type": "markdown",
   "metadata": {},
   "source": [
    "## Reference\n",
    "* https://www.methodsconsultants.com/tutorial/what-is-the-difference-between-logit-and-probit-models/"
   ]
  },
  {
   "cell_type": "markdown",
   "metadata": {},
   "source": [
    "* https://bashtage.github.io/linearmodels/doc/panel/models.html\n",
    "* https://bashtage.github.io/linearmodels/doc/panel/examples/examples.html\n",
    "* https://docs.google.com/document/d/1ZcSa8nhrnW6jBqV6bIX39bUUM_kjpuphiA8WeCEUdg0/edit"
   ]
  }
 ],
 "metadata": {
  "kernelspec": {
   "display_name": "Python 3",
   "language": "python",
   "name": "python3"
  },
  "language_info": {
   "codemirror_mode": {
    "name": "ipython",
    "version": 3
   },
   "file_extension": ".py",
   "mimetype": "text/x-python",
   "name": "python",
   "nbconvert_exporter": "python",
   "pygments_lexer": "ipython3",
   "version": "3.6.3"
  }
 },
 "nbformat": 4,
 "nbformat_minor": 2
}
