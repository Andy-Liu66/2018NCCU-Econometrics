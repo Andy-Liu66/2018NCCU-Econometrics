{
 "cells": [
  {
   "cell_type": "markdown",
   "metadata": {},
   "source": [
    "**Process:**\n",
    "* Load and check data\n",
    "* Data preprocess (2 datasets)\n",
    "* Answer each question (6 in total)\n",
    " \n",
    "**Notations:**\n",
    "\n",
    "*stock.sas7bdat*\n",
    "* PERMNO: a 5-digit firm identifier\n",
    "* DATE: last trading day of the month, SAS format yymmddn8.\n",
    "* COMNAM: company name\n",
    "* EXCHCD: 1: NYSE, 2: AMEX, 3: NASDAQ\n",
    "* SICCD: 4 digit SIC code\n",
    "* PRC: closing price\n",
    "* RET: monthly return\n",
    "* SHROUT: shares outstanding in thousand shares\n",
    "\n",
    "*ff3.sas7bdat*\n",
    "* DATE: last trading day of the month\n",
    "* SMB: small-minus-big return\n",
    "* HML: high-minus-low return\n",
    "* MKTRF: excess return on the market\n",
    "* RF: risk-free rate\n",
    "* UMD: momentum factor"
   ]
  },
  {
   "cell_type": "code",
   "execution_count": 182,
   "metadata": {},
   "outputs": [],
   "source": [
    "# import packages\n",
    "import pandas as pd\n",
    "import numpy as np\n",
    "from statsmodels.regression.linear_model import OLS\n",
    "from statsmodels.tools.tools import add_constant\n",
    "from scipy.stats import t, f\n",
    "from datetime import datetime\n",
    "import matplotlib.pyplot as plt\n",
    "import seaborn as sns\n",
    "%matplotlib inline"
   ]
  },
  {
   "cell_type": "markdown",
   "metadata": {},
   "source": [
    "# Load and check data"
   ]
  },
  {
   "cell_type": "code",
   "execution_count": 3,
   "metadata": {},
   "outputs": [],
   "source": [
    "# load data (result from Homework 1)\n",
    "small_alpha_return = pd.read_csv(\"small_alpha_return.csv\")\n",
    "big_alpha_return = pd.read_csv(\"big_alpha_return.csv\")\n",
    "\n",
    "# select time frame we want\n",
    "small_alpha_return = small_alpha_return[(small_alpha_return.DATE > \"2008-01-01\")]\n",
    "big_alpha_return = big_alpha_return[(big_alpha_return.DATE > \"2008-01-01\")]\n",
    "\n",
    "# create rsik premium column\n",
    "small_alpha_return[\"RIRF\"] = small_alpha_return[\"VWPRet\"] - small_alpha_return[\"RF\"]\n",
    "big_alpha_return[\"RIRF\"] = big_alpha_return[\"VWPRet\"] - big_alpha_return[\"RF\"]"
   ]
  },
  {
   "cell_type": "code",
   "execution_count": 4,
   "metadata": {
    "scrolled": true
   },
   "outputs": [
    {
     "data": {
      "text/html": [
       "<div>\n",
       "<style scoped>\n",
       "    .dataframe tbody tr th:only-of-type {\n",
       "        vertical-align: middle;\n",
       "    }\n",
       "\n",
       "    .dataframe tbody tr th {\n",
       "        vertical-align: top;\n",
       "    }\n",
       "\n",
       "    .dataframe thead th {\n",
       "        text-align: right;\n",
       "    }\n",
       "</style>\n",
       "<table border=\"1\" class=\"dataframe\">\n",
       "  <thead>\n",
       "    <tr style=\"text-align: right;\">\n",
       "      <th></th>\n",
       "      <th>DATE</th>\n",
       "      <th>VWPRet</th>\n",
       "      <th>SMB</th>\n",
       "      <th>HML</th>\n",
       "      <th>MKTRF</th>\n",
       "      <th>RF</th>\n",
       "      <th>UMD</th>\n",
       "      <th>RIRF</th>\n",
       "    </tr>\n",
       "  </thead>\n",
       "  <tbody>\n",
       "    <tr>\n",
       "      <th>83</th>\n",
       "      <td>2008-01-31</td>\n",
       "      <td>-0.143762</td>\n",
       "      <td>-0.0089</td>\n",
       "      <td>0.0365</td>\n",
       "      <td>-0.0636</td>\n",
       "      <td>0.0021</td>\n",
       "      <td>-0.0789</td>\n",
       "      <td>-0.145862</td>\n",
       "    </tr>\n",
       "    <tr>\n",
       "      <th>84</th>\n",
       "      <td>2008-02-29</td>\n",
       "      <td>-0.064606</td>\n",
       "      <td>-0.0023</td>\n",
       "      <td>-0.0095</td>\n",
       "      <td>-0.0309</td>\n",
       "      <td>0.0013</td>\n",
       "      <td>0.0614</td>\n",
       "      <td>-0.065906</td>\n",
       "    </tr>\n",
       "    <tr>\n",
       "      <th>85</th>\n",
       "      <td>2008-03-31</td>\n",
       "      <td>0.052088</td>\n",
       "      <td>0.0094</td>\n",
       "      <td>-0.0015</td>\n",
       "      <td>-0.0093</td>\n",
       "      <td>0.0017</td>\n",
       "      <td>0.0410</td>\n",
       "      <td>0.050388</td>\n",
       "    </tr>\n",
       "    <tr>\n",
       "      <th>86</th>\n",
       "      <td>2008-04-30</td>\n",
       "      <td>0.078511</td>\n",
       "      <td>-0.0164</td>\n",
       "      <td>-0.0096</td>\n",
       "      <td>0.0460</td>\n",
       "      <td>0.0018</td>\n",
       "      <td>-0.0020</td>\n",
       "      <td>0.076711</td>\n",
       "    </tr>\n",
       "    <tr>\n",
       "      <th>87</th>\n",
       "      <td>2008-05-30</td>\n",
       "      <td>0.004956</td>\n",
       "      <td>0.0322</td>\n",
       "      <td>-0.0138</td>\n",
       "      <td>0.0186</td>\n",
       "      <td>0.0018</td>\n",
       "      <td>0.0321</td>\n",
       "      <td>0.003156</td>\n",
       "    </tr>\n",
       "  </tbody>\n",
       "</table>\n",
       "</div>"
      ],
      "text/plain": [
       "          DATE    VWPRet     SMB     HML   MKTRF      RF     UMD      RIRF\n",
       "83  2008-01-31 -0.143762 -0.0089  0.0365 -0.0636  0.0021 -0.0789 -0.145862\n",
       "84  2008-02-29 -0.064606 -0.0023 -0.0095 -0.0309  0.0013  0.0614 -0.065906\n",
       "85  2008-03-31  0.052088  0.0094 -0.0015 -0.0093  0.0017  0.0410  0.050388\n",
       "86  2008-04-30  0.078511 -0.0164 -0.0096  0.0460  0.0018 -0.0020  0.076711\n",
       "87  2008-05-30  0.004956  0.0322 -0.0138  0.0186  0.0018  0.0321  0.003156"
      ]
     },
     "execution_count": 4,
     "metadata": {},
     "output_type": "execute_result"
    }
   ],
   "source": [
    "small_alpha_return.head()"
   ]
  },
  {
   "cell_type": "code",
   "execution_count": 5,
   "metadata": {
    "scrolled": true
   },
   "outputs": [
    {
     "data": {
      "text/html": [
       "<div>\n",
       "<style scoped>\n",
       "    .dataframe tbody tr th:only-of-type {\n",
       "        vertical-align: middle;\n",
       "    }\n",
       "\n",
       "    .dataframe tbody tr th {\n",
       "        vertical-align: top;\n",
       "    }\n",
       "\n",
       "    .dataframe thead th {\n",
       "        text-align: right;\n",
       "    }\n",
       "</style>\n",
       "<table border=\"1\" class=\"dataframe\">\n",
       "  <thead>\n",
       "    <tr style=\"text-align: right;\">\n",
       "      <th></th>\n",
       "      <th>DATE</th>\n",
       "      <th>VWPRet</th>\n",
       "      <th>SMB</th>\n",
       "      <th>HML</th>\n",
       "      <th>MKTRF</th>\n",
       "      <th>RF</th>\n",
       "      <th>UMD</th>\n",
       "      <th>RIRF</th>\n",
       "    </tr>\n",
       "  </thead>\n",
       "  <tbody>\n",
       "    <tr>\n",
       "      <th>83</th>\n",
       "      <td>2008-01-31</td>\n",
       "      <td>-0.067338</td>\n",
       "      <td>-0.0089</td>\n",
       "      <td>0.0365</td>\n",
       "      <td>-0.0636</td>\n",
       "      <td>0.0021</td>\n",
       "      <td>-0.0789</td>\n",
       "      <td>-0.069438</td>\n",
       "    </tr>\n",
       "    <tr>\n",
       "      <th>84</th>\n",
       "      <td>2008-02-29</td>\n",
       "      <td>-0.006674</td>\n",
       "      <td>-0.0023</td>\n",
       "      <td>-0.0095</td>\n",
       "      <td>-0.0309</td>\n",
       "      <td>0.0013</td>\n",
       "      <td>0.0614</td>\n",
       "      <td>-0.007974</td>\n",
       "    </tr>\n",
       "    <tr>\n",
       "      <th>85</th>\n",
       "      <td>2008-03-31</td>\n",
       "      <td>0.012463</td>\n",
       "      <td>0.0094</td>\n",
       "      <td>-0.0015</td>\n",
       "      <td>-0.0093</td>\n",
       "      <td>0.0017</td>\n",
       "      <td>0.0410</td>\n",
       "      <td>0.010763</td>\n",
       "    </tr>\n",
       "    <tr>\n",
       "      <th>86</th>\n",
       "      <td>2008-04-30</td>\n",
       "      <td>0.045537</td>\n",
       "      <td>-0.0164</td>\n",
       "      <td>-0.0096</td>\n",
       "      <td>0.0460</td>\n",
       "      <td>0.0018</td>\n",
       "      <td>-0.0020</td>\n",
       "      <td>0.043737</td>\n",
       "    </tr>\n",
       "    <tr>\n",
       "      <th>87</th>\n",
       "      <td>2008-05-30</td>\n",
       "      <td>0.063781</td>\n",
       "      <td>0.0322</td>\n",
       "      <td>-0.0138</td>\n",
       "      <td>0.0186</td>\n",
       "      <td>0.0018</td>\n",
       "      <td>0.0321</td>\n",
       "      <td>0.061981</td>\n",
       "    </tr>\n",
       "  </tbody>\n",
       "</table>\n",
       "</div>"
      ],
      "text/plain": [
       "          DATE    VWPRet     SMB     HML   MKTRF      RF     UMD      RIRF\n",
       "83  2008-01-31 -0.067338 -0.0089  0.0365 -0.0636  0.0021 -0.0789 -0.069438\n",
       "84  2008-02-29 -0.006674 -0.0023 -0.0095 -0.0309  0.0013  0.0614 -0.007974\n",
       "85  2008-03-31  0.012463  0.0094 -0.0015 -0.0093  0.0017  0.0410  0.010763\n",
       "86  2008-04-30  0.045537 -0.0164 -0.0096  0.0460  0.0018 -0.0020  0.043737\n",
       "87  2008-05-30  0.063781  0.0322 -0.0138  0.0186  0.0018  0.0321  0.061981"
      ]
     },
     "execution_count": 5,
     "metadata": {},
     "output_type": "execute_result"
    }
   ],
   "source": [
    "big_alpha_return.head()"
   ]
  },
  {
   "cell_type": "markdown",
   "metadata": {},
   "source": [
    "# Answer each question (6 in total)"
   ]
  },
  {
   "cell_type": "markdown",
   "metadata": {},
   "source": [
    "### 1. One argument of the existence of the CAPM alpha is the explanatory power of the CAPM, or lack thereof. You might have an excellent performance in your portfolio in the first homework because you take on higher risks that can only be captured by SMB or HML, or even UMD, but not by the market factor. Please examine whether your portfolio alpha is still significant with equation (1) and (2) to compare the intercept to the alpha with the CAPM. Use the original sample period to estimate the beta of the firms in homework 1 (2008-2012) and test for both high- and low-alpha portfolios and see if the alphas are still as large/small as they were. (Note: make a table for the parameters of different models and discuss.)"
   ]
  },
  {
   "cell_type": "code",
   "execution_count": 199,
   "metadata": {},
   "outputs": [],
   "source": [
    "# define function to run regression\n",
    "def run_regression(x, y):\n",
    "    X = add_constant(x)\n",
    "    Y = y\n",
    "    model = OLS(Y, X, missing=\"drop\")\n",
    "    result = model.fit()\n",
    "    params = pd.DataFrame(result.params).T\n",
    "    t_value = pd.DataFrame(result.tvalues).T\n",
    "    t_value.columns = result.tvalues.index + \"_t_value\"\n",
    "    p_value = pd.DataFrame(result.pvalues).T\n",
    "    p_value.columns = result.pvalues.index + \"_p_value\"\n",
    "    std_err = pd.DataFrame(result.bse).T\n",
    "    std_err.columns = result.bse.index + \"_std_error\"\n",
    "    rsquared = pd.DataFrame([result.rsquared])\n",
    "    rsquared.columns = [\"R_squared\"]\n",
    "    rsquared_adj = pd.DataFrame([result.rsquared_adj])\n",
    "    rsquared_adj.columns = [\"R_squared_adj\"]\n",
    "    f_value = pd.DataFrame([result.fvalue])\n",
    "    f_value.columns = [\"F_value\"]\n",
    "    f_pvalue = pd.DataFrame([result.f_pvalue])\n",
    "    f_pvalue.columns = [\"F_p_value\"]\n",
    "    counts = pd.DataFrame([len(X)])\n",
    "    counts.columns = [\"counts\"]\n",
    "    params_num = pd.DataFrame([len(result.params)])\n",
    "    params_num.columns = [\"params_num\"]\n",
    "    \n",
    "    result = params.join(t_value).join(p_value).join(std_err)\\\n",
    "    .join(rsquared).join(rsquared_adj).join(f_value).join(f_pvalue)\\\n",
    "    .join(counts).join(params_num)\n",
    "    result.columns = list(map(lambda x: x.replace(\"const\", \"Alpha\"), result.columns))\n",
    "    result.columns = list(map(lambda x: x.replace(\"MKTRF\", \"Beta\"), result.columns))\n",
    "    return result.T"
   ]
  },
  {
   "cell_type": "markdown",
   "metadata": {},
   "source": [
    "**Result of small $\\alpha$ portfolio**"
   ]
  },
  {
   "cell_type": "code",
   "execution_count": 200,
   "metadata": {
    "scrolled": true
   },
   "outputs": [
    {
     "data": {
      "text/html": [
       "<div>\n",
       "<style scoped>\n",
       "    .dataframe tbody tr th:only-of-type {\n",
       "        vertical-align: middle;\n",
       "    }\n",
       "\n",
       "    .dataframe tbody tr th {\n",
       "        vertical-align: top;\n",
       "    }\n",
       "\n",
       "    .dataframe thead th {\n",
       "        text-align: right;\n",
       "    }\n",
       "</style>\n",
       "<table border=\"1\" class=\"dataframe\">\n",
       "  <thead>\n",
       "    <tr style=\"text-align: right;\">\n",
       "      <th></th>\n",
       "      <th>Alpha</th>\n",
       "      <th>Alpha_p_value</th>\n",
       "    </tr>\n",
       "  </thead>\n",
       "  <tbody>\n",
       "    <tr>\n",
       "      <th>CAPM</th>\n",
       "      <td>-0.034489</td>\n",
       "      <td>0.000125</td>\n",
       "    </tr>\n",
       "    <tr>\n",
       "      <th>Fama_French</th>\n",
       "      <td>-0.035018</td>\n",
       "      <td>0.000144</td>\n",
       "    </tr>\n",
       "    <tr>\n",
       "      <th>Carhart</th>\n",
       "      <td>-0.035398</td>\n",
       "      <td>0.000147</td>\n",
       "    </tr>\n",
       "  </tbody>\n",
       "</table>\n",
       "</div>"
      ],
      "text/plain": [
       "                Alpha  Alpha_p_value\n",
       "CAPM        -0.034489       0.000125\n",
       "Fama_French -0.035018       0.000144\n",
       "Carhart     -0.035398       0.000147"
      ]
     },
     "execution_count": 200,
     "metadata": {},
     "output_type": "execute_result"
    }
   ],
   "source": [
    "# prepare data (select data between 2008~2012)\n",
    "small_alpha_return_early = small_alpha_return.iloc[:60, ]\n",
    "\n",
    "# run regression according to dfiierent model\n",
    "CAPM_small_alpha_early = run_regression(small_alpha_return_early[\"MKTRF\"],\n",
    "                                        small_alpha_return_early[\"RIRF\"])\n",
    "CAPM_small_alpha_early.columns = [\"CAPM\"]\n",
    "\n",
    "Fama_French_small_alpha_early = run_regression(small_alpha_return_early[[\"MKTRF\", \"SMB\", \"HML\"]],\n",
    "                                               small_alpha_return_early[\"RIRF\"])\n",
    "Fama_French_small_alpha_early.columns = [\"Fama_French\"]\n",
    "\n",
    "Carhart_small_alpha_early = run_regression(small_alpha_return_early[[\"MKTRF\", \"SMB\", \"HML\", \"UMD\"]],\n",
    "                                           small_alpha_return_early[\"RIRF\"])\n",
    "Carhart_small_alpha_early.columns = [\"Carhart\"]\n",
    "\n",
    "# create index to select from regression result\n",
    "alpha_index = ['Alpha', 'Alpha_p_value']\n",
    "\n",
    "# select columns according to above index\n",
    "CAPM_small_alpha_early_result = CAPM_small_alpha_early.T[alpha_index]\n",
    "Fama_French_small_alpha_early_result = Fama_French_small_alpha_early.T[alpha_index]\n",
    "Carhart_small_alpha_early_result = Carhart_small_alpha_early.T[alpha_index]\n",
    "\n",
    "# combine result\n",
    "small_alpha_early = pd.concat([CAPM_small_alpha_early_result,\n",
    "                               Fama_French_small_alpha_early_result,\n",
    "                               Carhart_small_alpha_early_result], axis=0)\n",
    "\n",
    "small_alpha_early"
   ]
  },
  {
   "cell_type": "markdown",
   "metadata": {},
   "source": [
    "**Result of big $\\alpha$ portfolio**"
   ]
  },
  {
   "cell_type": "code",
   "execution_count": 201,
   "metadata": {
    "scrolled": false
   },
   "outputs": [
    {
     "data": {
      "text/html": [
       "<div>\n",
       "<style scoped>\n",
       "    .dataframe tbody tr th:only-of-type {\n",
       "        vertical-align: middle;\n",
       "    }\n",
       "\n",
       "    .dataframe tbody tr th {\n",
       "        vertical-align: top;\n",
       "    }\n",
       "\n",
       "    .dataframe thead th {\n",
       "        text-align: right;\n",
       "    }\n",
       "</style>\n",
       "<table border=\"1\" class=\"dataframe\">\n",
       "  <thead>\n",
       "    <tr style=\"text-align: right;\">\n",
       "      <th></th>\n",
       "      <th>Alpha</th>\n",
       "      <th>Alpha_p_value</th>\n",
       "    </tr>\n",
       "  </thead>\n",
       "  <tbody>\n",
       "    <tr>\n",
       "      <th>CAPM</th>\n",
       "      <td>0.025507</td>\n",
       "      <td>0.023981</td>\n",
       "    </tr>\n",
       "    <tr>\n",
       "      <th>Fama_French</th>\n",
       "      <td>0.021601</td>\n",
       "      <td>0.050733</td>\n",
       "    </tr>\n",
       "    <tr>\n",
       "      <th>Carhart</th>\n",
       "      <td>0.020572</td>\n",
       "      <td>0.063140</td>\n",
       "    </tr>\n",
       "  </tbody>\n",
       "</table>\n",
       "</div>"
      ],
      "text/plain": [
       "                Alpha  Alpha_p_value\n",
       "CAPM         0.025507       0.023981\n",
       "Fama_French  0.021601       0.050733\n",
       "Carhart      0.020572       0.063140"
      ]
     },
     "execution_count": 201,
     "metadata": {},
     "output_type": "execute_result"
    }
   ],
   "source": [
    "# prepare data (select data between 2008~2012)\n",
    "big_alpha_return_early = big_alpha_return.iloc[:60, ]\n",
    "\n",
    "# run regression according to dfiierent model\n",
    "CAPM_big_alpha_early = run_regression(big_alpha_return_early[\"MKTRF\"],\n",
    "                                        big_alpha_return_early[\"RIRF\"])\n",
    "CAPM_big_alpha_early.columns = [\"CAPM\"]\n",
    "\n",
    "Fama_French_big_alpha_early = run_regression(big_alpha_return_early[[\"MKTRF\", \"SMB\", \"HML\"]],\n",
    "                                               big_alpha_return_early[\"RIRF\"])\n",
    "Fama_French_big_alpha_early.columns = [\"Fama_French\"]\n",
    "\n",
    "Carhart_big_alpha_early = run_regression(big_alpha_return_early[[\"MKTRF\", \"SMB\", \"HML\", \"UMD\"]],\n",
    "                                           big_alpha_return_early[\"RIRF\"])\n",
    "Carhart_big_alpha_early.columns = [\"Carhart\"]\n",
    "\n",
    "# select columns according to above index\n",
    "CAPM_big_alpha_early_result = CAPM_big_alpha_early.T[alpha_index]\n",
    "Fama_French_big_alpha_early_result = Fama_French_big_alpha_early.T[alpha_index]\n",
    "Carhart_big_alpha_early_result = Carhart_big_alpha_early.T[alpha_index]\n",
    "\n",
    "# combine result\n",
    "big_alpha_early = pd.concat([CAPM_big_alpha_early_result,\n",
    "                             Fama_French_big_alpha_early_result,\n",
    "                             Carhart_big_alpha_early_result], axis=0)\n",
    "\n",
    "big_alpha_early"
   ]
  },
  {
   "cell_type": "code",
   "execution_count": null,
   "metadata": {},
   "outputs": [],
   "source": []
  },
  {
   "cell_type": "markdown",
   "metadata": {},
   "source": [
    "### 2. Which is the best model to explain your portfolio returns from 2008 to 2012? FF-3, Carhart 4-factor or the CAPM? (Note: you should judge the model performance by goodness-of-fit and parameter significance, not by alpha alone. Since these models are nested, please use F-tests to compare them.)"
   ]
  },
  {
   "cell_type": "markdown",
   "metadata": {},
   "source": [
    "**Create index to select from regression result**"
   ]
  },
  {
   "cell_type": "code",
   "execution_count": 168,
   "metadata": {},
   "outputs": [],
   "source": [
    "# index for goodness-of-fit\n",
    "R_F_index = ['R_squared', 'R_squared_adj', 'F_value', 'F_p_value']\n",
    "\n",
    "# index for parameter significance\n",
    "CAPM_index = ['Alpha', 'Beta',\n",
    "              'Alpha_p_value', 'Beta_p_value']\n",
    "\n",
    "Fama_French_index = ['Alpha', 'Beta', 'SMB', 'HML',\n",
    "                     'Alpha_p_value', 'Beta_p_value', 'SMB_p_value', 'HML_p_value']\n",
    "\n",
    "Carhart_index = ['Alpha', 'Beta', 'SMB', 'HML', 'UMD',\n",
    "                 'Alpha_p_value', 'Beta_p_value', 'SMB_p_value', 'HML_p_value', 'UMD_p_value']"
   ]
  },
  {
   "cell_type": "markdown",
   "metadata": {},
   "source": [
    "**Define function for F testing**"
   ]
  },
  {
   "cell_type": "code",
   "execution_count": 233,
   "metadata": {},
   "outputs": [],
   "source": [
    "def f_test(old_data, new_data):\n",
    "    old_data = old_data.T\n",
    "    new_data = new_data.T\n",
    "    numerator = (new_data[\"R_squared\"][0] - old_data[\"R_squared\"][0])\n",
    "    numerator_df = new_data[\"params_num\"][0] - old_data[\"params_num\"][0]\n",
    "    denominator = (1 - new_data[\"R_squared\"][0])\n",
    "    denominator_df = new_data[\"counts\"][0] - new_data[\"params_num\"][0]\n",
    "    numerator = (numerator/numerator_df)\n",
    "    denominator = (denominator/denominator_df)\n",
    "    if numerator > denominator:\n",
    "        F_value = numerator/denominator\n",
    "        F_p_value = f.sf(abs(F_value), dfn=numerator_df, dfd=denominator_df)\n",
    "    else:\n",
    "        F_value = denominator/numerator\n",
    "        F_p_value = f.sf(abs(F_value), dfn=denominator_df, dfd=numerator_df)\n",
    "    print(numerator_df)\n",
    "    result = pd.DataFrame([F_value, F_p_value]).T\n",
    "    result.columns = [\"F_value\", \"F_p_value\"]\n",
    "    return result"
   ]
  },
  {
   "cell_type": "markdown",
   "metadata": {},
   "source": [
    "**Deal with small $\\alpha$**"
   ]
  },
  {
   "cell_type": "markdown",
   "metadata": {},
   "source": [
    "**Overview of model's goodness-of-fit: R-squared / F-statistics**"
   ]
  },
  {
   "cell_type": "markdown",
   "metadata": {},
   "source": [
    "**Investigate parameter significance**"
   ]
  },
  {
   "cell_type": "markdown",
   "metadata": {},
   "source": [
    "**Investigate the \"incremental\" contribution of explantory variable**"
   ]
  },
  {
   "cell_type": "markdown",
   "metadata": {},
   "source": [
    "From the slide teacher gave:\n",
    "![slide](https://i.imgur.com/oeJoDos.png)\n",
    "We are going to use the second equation (R-squared method) to run F-test."
   ]
  },
  {
   "cell_type": "markdown",
   "metadata": {},
   "source": [
    "1. CAPM vs Fama French → test \"SMB\", \"HML\""
   ]
  },
  {
   "cell_type": "markdown",
   "metadata": {},
   "source": [
    "2. Fama French vs Carhart → test \"UMD\""
   ]
  },
  {
   "cell_type": "markdown",
   "metadata": {},
   "source": [
    "3. CAPM vs Carhart → test \"SMB\", \"HML\", \"UMD\""
   ]
  },
  {
   "cell_type": "code",
   "execution_count": null,
   "metadata": {},
   "outputs": [],
   "source": []
  },
  {
   "cell_type": "code",
   "execution_count": null,
   "metadata": {},
   "outputs": [],
   "source": []
  },
  {
   "cell_type": "markdown",
   "metadata": {},
   "source": [
    "**Deal with big $\\alpha$**"
   ]
  },
  {
   "cell_type": "markdown",
   "metadata": {},
   "source": [
    "**Overview of model's goodness-of-fit: R-squared / F-statistics**"
   ]
  },
  {
   "cell_type": "code",
   "execution_count": 167,
   "metadata": {
    "scrolled": true
   },
   "outputs": [
    {
     "data": {
      "text/html": [
       "<div>\n",
       "<style scoped>\n",
       "    .dataframe tbody tr th:only-of-type {\n",
       "        vertical-align: middle;\n",
       "    }\n",
       "\n",
       "    .dataframe tbody tr th {\n",
       "        vertical-align: top;\n",
       "    }\n",
       "\n",
       "    .dataframe thead th {\n",
       "        text-align: right;\n",
       "    }\n",
       "</style>\n",
       "<table border=\"1\" class=\"dataframe\">\n",
       "  <thead>\n",
       "    <tr style=\"text-align: right;\">\n",
       "      <th></th>\n",
       "      <th>R_squared</th>\n",
       "      <th>R_squared_adj</th>\n",
       "      <th>F_value</th>\n",
       "      <th>F_p_value</th>\n",
       "    </tr>\n",
       "  </thead>\n",
       "  <tbody>\n",
       "    <tr>\n",
       "      <th>CAPM</th>\n",
       "      <td>0.281454</td>\n",
       "      <td>0.269065</td>\n",
       "      <td>22.718580</td>\n",
       "      <td>0.000013</td>\n",
       "    </tr>\n",
       "    <tr>\n",
       "      <th>Fama_French</th>\n",
       "      <td>0.345431</td>\n",
       "      <td>0.310364</td>\n",
       "      <td>9.850808</td>\n",
       "      <td>0.000026</td>\n",
       "    </tr>\n",
       "    <tr>\n",
       "      <th>Carhart</th>\n",
       "      <td>0.358798</td>\n",
       "      <td>0.312165</td>\n",
       "      <td>7.694112</td>\n",
       "      <td>0.000054</td>\n",
       "    </tr>\n",
       "  </tbody>\n",
       "</table>\n",
       "</div>"
      ],
      "text/plain": [
       "             R_squared  R_squared_adj    F_value  F_p_value\n",
       "CAPM          0.281454       0.269065  22.718580   0.000013\n",
       "Fama_French   0.345431       0.310364   9.850808   0.000026\n",
       "Carhart       0.358798       0.312165   7.694112   0.000054"
      ]
     },
     "execution_count": 167,
     "metadata": {},
     "output_type": "execute_result"
    }
   ],
   "source": [
    "pd.concat([CAPM_big_alpha_early.T[R_F_index],\n",
    "          Fama_French_big_alpha_early.T[R_F_index],\n",
    "          Carhart_big_alpha_early.T[R_F_index]])"
   ]
  },
  {
   "cell_type": "markdown",
   "metadata": {},
   "source": [
    "**Investigate parameter significance**"
   ]
  },
  {
   "cell_type": "code",
   "execution_count": 169,
   "metadata": {},
   "outputs": [
    {
     "data": {
      "text/html": [
       "<div>\n",
       "<style scoped>\n",
       "    .dataframe tbody tr th:only-of-type {\n",
       "        vertical-align: middle;\n",
       "    }\n",
       "\n",
       "    .dataframe tbody tr th {\n",
       "        vertical-align: top;\n",
       "    }\n",
       "\n",
       "    .dataframe thead th {\n",
       "        text-align: right;\n",
       "    }\n",
       "</style>\n",
       "<table border=\"1\" class=\"dataframe\">\n",
       "  <thead>\n",
       "    <tr style=\"text-align: right;\">\n",
       "      <th></th>\n",
       "      <th>Alpha</th>\n",
       "      <th>Alpha_p_value</th>\n",
       "      <th>Beta</th>\n",
       "      <th>Beta_p_value</th>\n",
       "      <th>HML</th>\n",
       "      <th>HML_p_value</th>\n",
       "      <th>SMB</th>\n",
       "      <th>SMB_p_value</th>\n",
       "      <th>UMD</th>\n",
       "      <th>UMD_p_value</th>\n",
       "    </tr>\n",
       "  </thead>\n",
       "  <tbody>\n",
       "    <tr>\n",
       "      <th>CAPM</th>\n",
       "      <td>0.025507</td>\n",
       "      <td>0.023981</td>\n",
       "      <td>0.937252</td>\n",
       "      <td>0.000013</td>\n",
       "      <td>NaN</td>\n",
       "      <td>NaN</td>\n",
       "      <td>NaN</td>\n",
       "      <td>NaN</td>\n",
       "      <td>NaN</td>\n",
       "      <td>NaN</td>\n",
       "    </tr>\n",
       "    <tr>\n",
       "      <th>Fama_French</th>\n",
       "      <td>0.021601</td>\n",
       "      <td>0.050733</td>\n",
       "      <td>0.774074</td>\n",
       "      <td>0.001363</td>\n",
       "      <td>-0.219426</td>\n",
       "      <td>0.552536</td>\n",
       "      <td>1.205368</td>\n",
       "      <td>0.025807</td>\n",
       "      <td>NaN</td>\n",
       "      <td>NaN</td>\n",
       "    </tr>\n",
       "    <tr>\n",
       "      <th>Carhart</th>\n",
       "      <td>0.020572</td>\n",
       "      <td>0.063140</td>\n",
       "      <td>0.701205</td>\n",
       "      <td>0.004911</td>\n",
       "      <td>-0.344993</td>\n",
       "      <td>0.374126</td>\n",
       "      <td>1.229966</td>\n",
       "      <td>0.023074</td>\n",
       "      <td>-0.208416</td>\n",
       "      <td>0.288931</td>\n",
       "    </tr>\n",
       "  </tbody>\n",
       "</table>\n",
       "</div>"
      ],
      "text/plain": [
       "                Alpha  Alpha_p_value      Beta  Beta_p_value       HML  \\\n",
       "CAPM         0.025507       0.023981  0.937252      0.000013       NaN   \n",
       "Fama_French  0.021601       0.050733  0.774074      0.001363 -0.219426   \n",
       "Carhart      0.020572       0.063140  0.701205      0.004911 -0.344993   \n",
       "\n",
       "             HML_p_value       SMB  SMB_p_value       UMD  UMD_p_value  \n",
       "CAPM                 NaN       NaN          NaN       NaN          NaN  \n",
       "Fama_French     0.552536  1.205368     0.025807       NaN          NaN  \n",
       "Carhart         0.374126  1.229966     0.023074 -0.208416     0.288931  "
      ]
     },
     "execution_count": 169,
     "metadata": {},
     "output_type": "execute_result"
    }
   ],
   "source": [
    "pd.concat([CAPM_big_alpha_early.T[CAPM_index],\n",
    "          Fama_French_big_alpha_early.T[Fama_French_index],\n",
    "          Carhart_big_alpha_early.T[Carhart_index]])"
   ]
  },
  {
   "cell_type": "markdown",
   "metadata": {},
   "source": [
    "**Investigate the \"incremental\" contribution of explantory variable**"
   ]
  },
  {
   "cell_type": "markdown",
   "metadata": {},
   "source": [
    "1. CAPM vs Fama French → test \"SMB\" & \"HML\""
   ]
  },
  {
   "cell_type": "code",
   "execution_count": 234,
   "metadata": {},
   "outputs": [
    {
     "name": "stdout",
     "output_type": "stream",
     "text": [
      "2.0\n"
     ]
    },
    {
     "data": {
      "text/html": [
       "<div>\n",
       "<style scoped>\n",
       "    .dataframe tbody tr th:only-of-type {\n",
       "        vertical-align: middle;\n",
       "    }\n",
       "\n",
       "    .dataframe tbody tr th {\n",
       "        vertical-align: top;\n",
       "    }\n",
       "\n",
       "    .dataframe thead th {\n",
       "        text-align: right;\n",
       "    }\n",
       "</style>\n",
       "<table border=\"1\" class=\"dataframe\">\n",
       "  <thead>\n",
       "    <tr style=\"text-align: right;\">\n",
       "      <th></th>\n",
       "      <th>F_value</th>\n",
       "      <th>F_p_value</th>\n",
       "    </tr>\n",
       "  </thead>\n",
       "  <tbody>\n",
       "    <tr>\n",
       "      <th>0</th>\n",
       "      <td>2.73667</td>\n",
       "      <td>0.073457</td>\n",
       "    </tr>\n",
       "  </tbody>\n",
       "</table>\n",
       "</div>"
      ],
      "text/plain": [
       "   F_value  F_p_value\n",
       "0  2.73667   0.073457"
      ]
     },
     "execution_count": 234,
     "metadata": {},
     "output_type": "execute_result"
    }
   ],
   "source": [
    "f_test(CAPM_big_alpha_early, Fama_French_big_alpha_early)"
   ]
  },
  {
   "cell_type": "markdown",
   "metadata": {},
   "source": [
    "2. Fama French vs Carhart → test \"UMD\""
   ]
  },
  {
   "cell_type": "markdown",
   "metadata": {},
   "source": [
    "3. CAPM vs Carhart → test \"SMB\", \"HML\", \"UMD\""
   ]
  },
  {
   "cell_type": "code",
   "execution_count": null,
   "metadata": {},
   "outputs": [],
   "source": []
  },
  {
   "cell_type": "markdown",
   "metadata": {},
   "source": [
    "### 3. A lot of you might find the behavior of your portfolio coefficients are very different before and after the portfolio construction date (the end of 2012). Please use your best model at explaining your two portfolios to make your argument (whichever is better in the previous question should be used here) about the existence of a structural change with your portfolio (i.e. you have significant changes in regression parameters)."
   ]
  },
  {
   "cell_type": "markdown",
   "metadata": {},
   "source": [
    "**First,we need to test whether two population variance are the same or not, if both variance are the same then we can run chow test.**"
   ]
  },
  {
   "cell_type": "markdown",
   "metadata": {},
   "source": [
    "### 4. Please analyze the risk premium of your long-short strategy with these models. Show the parameters before and after the portfolio construction date (i.e. 2008-2012 and 2013-2017)."
   ]
  },
  {
   "cell_type": "markdown",
   "metadata": {},
   "source": [
    "### 5. We often use the CAPM or FF-3 model or even four-factor model to estimate the cost-of-equity of a firm or to forecast the return on a security or a portfolio. Please use the portfolio return data from 2013 to 2017 for an out-of-sample test. Which model do you think is better for the job? To solve the problem, you need to calculate the prediction error by\n",
    "![fromnt](https://i.imgur.com/AgcKjgL.png)\n",
    "![back](https://i.imgur.com/hKJzgUE.png)"
   ]
  },
  {
   "cell_type": "markdown",
   "metadata": {},
   "source": [
    "### 6. How do you examine if there exists collinearity between those risk factors in equation (2)? (Hint: there’s no collinearity) Please use 2008 to 2012 data to verify that."
   ]
  },
  {
   "cell_type": "code",
   "execution_count": null,
   "metadata": {},
   "outputs": [],
   "source": []
  },
  {
   "cell_type": "code",
   "execution_count": null,
   "metadata": {},
   "outputs": [],
   "source": []
  },
  {
   "cell_type": "code",
   "execution_count": null,
   "metadata": {},
   "outputs": [],
   "source": []
  },
  {
   "cell_type": "markdown",
   "metadata": {},
   "source": [
    "**Reference:**\n",
    "1. http://efavdb.com/interpret-linear-regression/"
   ]
  }
 ],
 "metadata": {
  "kernelspec": {
   "display_name": "Python 3",
   "language": "python",
   "name": "python3"
  },
  "language_info": {
   "codemirror_mode": {
    "name": "ipython",
    "version": 3
   },
   "file_extension": ".py",
   "mimetype": "text/x-python",
   "name": "python",
   "nbconvert_exporter": "python",
   "pygments_lexer": "ipython3",
   "version": "3.6.3"
  }
 },
 "nbformat": 4,
 "nbformat_minor": 2
}
